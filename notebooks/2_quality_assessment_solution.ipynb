{
 "nbformat": 4,
 "nbformat_minor": 0,
 "metadata": {
  "colab": {
   "provenance": []
  },
  "kernelspec": {
   "name": "python3",
   "display_name": "Python 3 (ipykernel)",
   "language": "python"
  },
  "language_info": {
   "name": "python"
  }
 },
 "cells": [
  {
   "cell_type": "markdown",
   "source": [
    "# Quality Assessment\n",
    "Now we follow the steps on the platform to see how reliable the data is."
   ],
   "metadata": {
    "id": "aSm5aaRLtFLx"
   }
  },
  {
   "cell_type": "code",
   "source": [
    "import pandas as pd"
   ],
   "metadata": {
    "id": "Lq7zsZka4q2m",
    "executionInfo": {
     "status": "ok",
     "timestamp": 1757935261029,
     "user_tz": -120,
     "elapsed": 5,
     "user": {
      "displayName": "Kamran Zajkani",
      "userId": "00401105456302883825"
     }
    },
    "ExecuteTime": {
     "end_time": "2025-09-22T09:39:41.633115Z",
     "start_time": "2025-09-22T09:39:41.631271Z"
    }
   },
   "outputs": [],
   "execution_count": 1
  },
  {
   "cell_type": "markdown",
   "source": [
    "Load our cleaned DataFrames"
   ],
   "metadata": {
    "id": "hzwXSr-xfh97"
   }
  },
  {
   "cell_type": "code",
   "source": [
    "# orders_cl.csv\n",
    "# url = \"https://drive.google.com/file/d/1Rcw0ez1M0zwNXtiJ6lCbM9wv6JRILc6x/view?usp=sharing\"\n",
    "# path = \"https://drive.google.com/uc?export=download&id=\"+url.split(\"/\")[-2]\n",
    "# orders_cl = pd.read_csv(path)\n",
    "#\n",
    "# # orderlines_cl.csv\n",
    "# url = \"https://drive.google.com/file/d/1rV5gmlmoEG-jX9gSzE3Wec3tsXOSwBPF/view?usp=sharing\"\n",
    "# path = \"https://drive.google.com/uc?export=download&id=\"+url.split(\"/\")[-2]\n",
    "# orderlines_cl = pd.read_csv(path)\n",
    "#\n",
    "# # products_cl.csv\n",
    "# url = \"https://drive.google.com/file/d/1jzEITeNiUGIMiljfp7XnDsh-U2Hyr3M-/view?usp=sharing\"\n",
    "# path = \"https://drive.google.com/uc?export=download&id=\"+url.split(\"/\")[-2]\n",
    "# products_cl = pd.read_csv(path)\n",
    "\n",
    "#orders.csv (local)\n",
    "orders_cl = pd.read_csv(\"../data/cleaned-data/orders_cl.csv\")\n",
    "\n",
    "#orderlines.csv (local)\n",
    "orderlines_cl = pd.read_csv(\"../data/cleaned-data/orderlines_cl.csv\")\n",
    "\n",
    "#products.csv (local)\n",
    "products_cl = pd.read_csv(\"../data/cleaned-data/products_cl.csv\")"
   ],
   "metadata": {
    "id": "30IJsE7t49Eu",
    "executionInfo": {
     "status": "ok",
     "timestamp": 1757935266852,
     "user_tz": -120,
     "elapsed": 5822,
     "user": {
      "displayName": "Kamran Zajkani",
      "userId": "00401105456302883825"
     }
    },
    "ExecuteTime": {
     "end_time": "2025-09-22T09:39:41.896350Z",
     "start_time": "2025-09-22T09:39:41.645235Z"
    }
   },
   "outputs": [],
   "execution_count": 2
  },
  {
   "cell_type": "markdown",
   "source": [
    "Let's create a copy of our DataFrames, to make sure any of our changes won't affect the original DataFrame. We'll also change the DataFrames from `_cl` to `_qu`, so we can distinguish between the data that has been cleaned, and that which has been quality controlled."
   ],
   "metadata": {
    "id": "i81Z74PVfpWt"
   }
  },
  {
   "cell_type": "code",
   "source": [
    "orders_qu = orders_cl.copy()\n",
    "orderlines_qu = orderlines_cl.copy()\n",
    "products_qu = products_cl.copy()"
   ],
   "metadata": {
    "id": "tl7AzGxuQTvz",
    "executionInfo": {
     "status": "ok",
     "timestamp": 1757935266866,
     "user_tz": -120,
     "elapsed": 2,
     "user": {
      "displayName": "Kamran Zajkani",
      "userId": "00401105456302883825"
     }
    },
    "ExecuteTime": {
     "end_time": "2025-09-22T09:39:41.916571Z",
     "start_time": "2025-09-22T09:39:41.905765Z"
    }
   },
   "outputs": [],
   "execution_count": 3
  },
  {
   "metadata": {
    "ExecuteTime": {
     "end_time": "2025-09-22T09:39:41.936996Z",
     "start_time": "2025-09-22T09:39:41.926129Z"
    }
   },
   "cell_type": "code",
   "source": "orderlines_qu = orderlines_qu.rename(columns={'id_order': 'order_id'})\n",
   "outputs": [],
   "execution_count": 4
  },
  {
   "cell_type": "markdown",
   "source": [
    "## 1.&nbsp; Define Pandas display format"
   ],
   "metadata": {
    "id": "GjQD8WPe6h0i"
   }
  },
  {
   "cell_type": "code",
   "metadata": {
    "id": "SLikKmNx4WNo",
    "executionInfo": {
     "status": "ok",
     "timestamp": 1757935266866,
     "user_tz": -120,
     "elapsed": 1,
     "user": {
      "displayName": "Kamran Zajkani",
      "userId": "00401105456302883825"
     }
    },
    "ExecuteTime": {
     "end_time": "2025-09-22T09:39:41.962664Z",
     "start_time": "2025-09-22T09:39:41.949875Z"
    }
   },
   "source": [
    "pd.set_option(\"display.float_format\", lambda x: \"%.2f\" % x)\n",
    "pd.set_option(\"display.max_rows\", 1000)"
   ],
   "outputs": [],
   "execution_count": 5
  },
  {
   "cell_type": "markdown",
   "source": [
    "## 2.&nbsp; Exclude unwanted orders"
   ],
   "metadata": {
    "id": "M0NhTKzF6jV4"
   }
  },
  {
   "cell_type": "markdown",
   "source": [
    "### `orders` - Keep only orders with the state you want to work with\n",
    "No `shopping cart`, `cancelled` etc..."
   ],
   "metadata": {
    "id": "EKolLICj68Ai"
   }
  },
  {
   "cell_type": "code",
   "source": [
    "orders_qu.head()"
   ],
   "metadata": {
    "colab": {
     "base_uri": "https://localhost:8080/",
     "height": 206
    },
    "id": "XYTBUMfC6TV6",
    "outputId": "ea0c46ae-bc1b-4318-87e2-8839e0903547",
    "executionInfo": {
     "status": "ok",
     "timestamp": 1757935266877,
     "user_tz": -120,
     "elapsed": 12,
     "user": {
      "displayName": "Kamran Zajkani",
      "userId": "00401105456302883825"
     }
    },
    "ExecuteTime": {
     "end_time": "2025-09-22T09:39:41.984030Z",
     "start_time": "2025-09-22T09:39:41.973622Z"
    }
   },
   "outputs": [
    {
     "data": {
      "text/plain": [
       "   Unnamed: 0  order_id         created_date  total_paid      state\n",
       "0           0    241319  2017-01-02 13:35:40       44.99  Cancelled\n",
       "1           1    241423  2017-11-06 13:10:02      136.15  Completed\n",
       "2           2    242832  2017-12-31 17:40:03       15.76  Completed\n",
       "3           3    243330  2017-02-16 10:59:38       84.98  Completed\n",
       "4           4    243784  2017-11-24 13:35:19      157.86  Cancelled"
      ],
      "text/html": [
       "<div>\n",
       "<style scoped>\n",
       "    .dataframe tbody tr th:only-of-type {\n",
       "        vertical-align: middle;\n",
       "    }\n",
       "\n",
       "    .dataframe tbody tr th {\n",
       "        vertical-align: top;\n",
       "    }\n",
       "\n",
       "    .dataframe thead th {\n",
       "        text-align: right;\n",
       "    }\n",
       "</style>\n",
       "<table border=\"1\" class=\"dataframe\">\n",
       "  <thead>\n",
       "    <tr style=\"text-align: right;\">\n",
       "      <th></th>\n",
       "      <th>Unnamed: 0</th>\n",
       "      <th>order_id</th>\n",
       "      <th>created_date</th>\n",
       "      <th>total_paid</th>\n",
       "      <th>state</th>\n",
       "    </tr>\n",
       "  </thead>\n",
       "  <tbody>\n",
       "    <tr>\n",
       "      <th>0</th>\n",
       "      <td>0</td>\n",
       "      <td>241319</td>\n",
       "      <td>2017-01-02 13:35:40</td>\n",
       "      <td>44.99</td>\n",
       "      <td>Cancelled</td>\n",
       "    </tr>\n",
       "    <tr>\n",
       "      <th>1</th>\n",
       "      <td>1</td>\n",
       "      <td>241423</td>\n",
       "      <td>2017-11-06 13:10:02</td>\n",
       "      <td>136.15</td>\n",
       "      <td>Completed</td>\n",
       "    </tr>\n",
       "    <tr>\n",
       "      <th>2</th>\n",
       "      <td>2</td>\n",
       "      <td>242832</td>\n",
       "      <td>2017-12-31 17:40:03</td>\n",
       "      <td>15.76</td>\n",
       "      <td>Completed</td>\n",
       "    </tr>\n",
       "    <tr>\n",
       "      <th>3</th>\n",
       "      <td>3</td>\n",
       "      <td>243330</td>\n",
       "      <td>2017-02-16 10:59:38</td>\n",
       "      <td>84.98</td>\n",
       "      <td>Completed</td>\n",
       "    </tr>\n",
       "    <tr>\n",
       "      <th>4</th>\n",
       "      <td>4</td>\n",
       "      <td>243784</td>\n",
       "      <td>2017-11-24 13:35:19</td>\n",
       "      <td>157.86</td>\n",
       "      <td>Cancelled</td>\n",
       "    </tr>\n",
       "  </tbody>\n",
       "</table>\n",
       "</div>"
      ]
     },
     "execution_count": 6,
     "metadata": {},
     "output_type": "execute_result"
    }
   ],
   "execution_count": 6
  },
  {
   "cell_type": "markdown",
   "source": [
    "Let's look at the make up of `state`."
   ],
   "metadata": {
    "id": "22OkFav-9yKO"
   }
  },
  {
   "cell_type": "code",
   "source": [
    "orders_qu.state.value_counts()"
   ],
   "metadata": {
    "colab": {
     "base_uri": "https://localhost:8080/",
     "height": 272
    },
    "id": "j_iNokEi9lsg",
    "outputId": "e2fa026b-e595-412f-922e-095d84b0b6a9",
    "executionInfo": {
     "status": "ok",
     "timestamp": 1757935266889,
     "user_tz": -120,
     "elapsed": 12,
     "user": {
      "displayName": "Kamran Zajkani",
      "userId": "00401105456302883825"
     }
    },
    "ExecuteTime": {
     "end_time": "2025-09-22T09:39:42.035608Z",
     "start_time": "2025-09-22T09:39:42.014249Z"
    }
   },
   "outputs": [
    {
     "data": {
      "text/plain": [
       "state\n",
       "Shopping Basket    117809\n",
       "Completed           46605\n",
       "Place Order         40883\n",
       "Pending             14374\n",
       "Cancelled            7233\n",
       "Name: count, dtype: int64"
      ]
     },
     "execution_count": 7,
     "metadata": {},
     "output_type": "execute_result"
    }
   ],
   "execution_count": 7
  },
  {
   "cell_type": "markdown",
   "source": [
    "Seems like an overwhelming amount of the orders are left in the shopping basket - something we'll have to analyse another time. For this task we're interested in only `completed` orders, so let's filter our DataFrame."
   ],
   "metadata": {
    "id": "2CwFV85C9-YN"
   }
  },
  {
   "cell_type": "code",
   "source": [
    "# keep only completed orders\n",
    "orders_qu = orders_qu.loc[orders_qu.state == \"Completed\", :]"
   ],
   "metadata": {
    "id": "dXkzmN583C89",
    "executionInfo": {
     "status": "ok",
     "timestamp": 1757935266959,
     "user_tz": -120,
     "elapsed": 70,
     "user": {
      "displayName": "Kamran Zajkani",
      "userId": "00401105456302883825"
     }
    },
    "ExecuteTime": {
     "end_time": "2025-09-22T09:39:42.082521Z",
     "start_time": "2025-09-22T09:39:42.068543Z"
    }
   },
   "outputs": [],
   "execution_count": 8
  },
  {
   "cell_type": "code",
   "source": [
    "orders_qu.shape"
   ],
   "metadata": {
    "colab": {
     "base_uri": "https://localhost:8080/"
    },
    "id": "yXVzrfkfTU_Z",
    "outputId": "1655fe87-f7e5-4dff-856d-9c41c6695e4a",
    "executionInfo": {
     "status": "ok",
     "timestamp": 1757935266959,
     "user_tz": -120,
     "elapsed": 6,
     "user": {
      "displayName": "Kamran Zajkani",
      "userId": "00401105456302883825"
     }
    },
    "ExecuteTime": {
     "end_time": "2025-09-22T09:39:42.097288Z",
     "start_time": "2025-09-22T09:39:42.093481Z"
    }
   },
   "outputs": [
    {
     "data": {
      "text/plain": [
       "(46605, 5)"
      ]
     },
     "execution_count": 9,
     "metadata": {},
     "output_type": "execute_result"
    }
   ],
   "execution_count": 9
  },
  {
   "cell_type": "markdown",
   "source": [
    "### Keep only the orders that are present in both `orders` and `orderlines`"
   ],
   "metadata": {
    "id": "Ihny8AC97HY9"
   }
  },
  {
   "cell_type": "markdown",
   "source": [
    "Let's begin by looking if there's a big difference between the amount of orders present in `orders` and `orderlines`."
   ],
   "metadata": {
    "id": "G8c6IY7DcCSv"
   }
  },
  {
   "cell_type": "code",
   "source": [
    "orders_qu.order_id.nunique()"
   ],
   "metadata": {
    "colab": {
     "base_uri": "https://localhost:8080/"
    },
    "id": "alpTEodZRxch",
    "outputId": "f168501d-e9d1-419d-b7c3-aeb66b99c16c",
    "executionInfo": {
     "status": "ok",
     "timestamp": 1757935266960,
     "user_tz": -120,
     "elapsed": 4,
     "user": {
      "displayName": "Kamran Zajkani",
      "userId": "00401105456302883825"
     }
    },
    "ExecuteTime": {
     "end_time": "2025-09-22T09:39:42.114020Z",
     "start_time": "2025-09-22T09:39:42.109268Z"
    }
   },
   "outputs": [
    {
     "data": {
      "text/plain": [
       "46605"
      ]
     },
     "execution_count": 10,
     "metadata": {},
     "output_type": "execute_result"
    }
   ],
   "execution_count": 10
  },
  {
   "cell_type": "code",
   "source": "orderlines_qu.order_id.nunique()",
   "metadata": {
    "colab": {
     "base_uri": "https://localhost:8080/"
    },
    "id": "R_SY0aGyR-1M",
    "outputId": "5f6f02e8-78ab-47f8-eab1-ff35c44ecfdd",
    "executionInfo": {
     "status": "ok",
     "timestamp": 1757935266962,
     "user_tz": -120,
     "elapsed": 4,
     "user": {
      "displayName": "Kamran Zajkani",
      "userId": "00401105456302883825"
     }
    },
    "ExecuteTime": {
     "end_time": "2025-09-22T09:39:42.151006Z",
     "start_time": "2025-09-22T09:39:42.145740Z"
    }
   },
   "outputs": [
    {
     "data": {
      "text/plain": [
       "170213"
      ]
     },
     "execution_count": 11,
     "metadata": {},
     "output_type": "execute_result"
    }
   ],
   "execution_count": 11
  },
  {
   "cell_type": "markdown",
   "source": [
    "What a huge difference! We want to make sure that every order_id in `orders` also exists in `orderlines` and vice versa.\n",
    "\n",
    "Hence we'll perform an inner merge on the two tables using the `order_id`. This will then keep only the `order_id`'s that are present in both tables, which will then help us filter our `_qu` DataFrames once again."
   ],
   "metadata": {
    "id": "SCsDt6sshN7g"
   }
  },
  {
   "cell_type": "code",
   "source": "orders_orderlines = orders_qu.merge(orderlines_qu, how=\"inner\", left_on=\"order_id\", right_on=\"order_id\")",
   "metadata": {
    "id": "Ei4ZWuQbTDKV",
    "executionInfo": {
     "status": "ok",
     "timestamp": 1757935267052,
     "user_tz": -120,
     "elapsed": 90,
     "user": {
      "displayName": "Kamran Zajkani",
      "userId": "00401105456302883825"
     }
    },
    "ExecuteTime": {
     "end_time": "2025-09-22T09:39:42.186666Z",
     "start_time": "2025-09-22T09:39:42.164725Z"
    }
   },
   "outputs": [],
   "execution_count": 12
  },
  {
   "cell_type": "code",
   "source": [
    "# order_ids that are in both tables\n",
    "order_ids = orders_orderlines[\"order_id\"].unique()"
   ],
   "metadata": {
    "id": "j21RMJayTepy",
    "executionInfo": {
     "status": "ok",
     "timestamp": 1757935267052,
     "user_tz": -120,
     "elapsed": 5,
     "user": {
      "displayName": "Kamran Zajkani",
      "userId": "00401105456302883825"
     }
    },
    "ExecuteTime": {
     "end_time": "2025-09-22T09:39:42.202319Z",
     "start_time": "2025-09-22T09:39:42.198404Z"
    }
   },
   "outputs": [],
   "execution_count": 13
  },
  {
   "cell_type": "code",
   "source": [
    "order_ids"
   ],
   "metadata": {
    "colab": {
     "base_uri": "https://localhost:8080/"
    },
    "id": "Lms_rb5mT2mv",
    "outputId": "1eff867c-e9cb-4d4e-9aa7-6e5872b36c24",
    "executionInfo": {
     "status": "ok",
     "timestamp": 1757935267053,
     "user_tz": -120,
     "elapsed": 5,
     "user": {
      "displayName": "Kamran Zajkani",
      "userId": "00401105456302883825"
     }
    },
    "ExecuteTime": {
     "end_time": "2025-09-22T09:39:42.224560Z",
     "start_time": "2025-09-22T09:39:42.219322Z"
    }
   },
   "outputs": [
    {
     "data": {
      "text/plain": [
       "array([241423, 242832, 243330, ..., 527074, 527096, 527112])"
      ]
     },
     "execution_count": 14,
     "metadata": {},
     "output_type": "execute_result"
    }
   ],
   "execution_count": 14
  },
  {
   "cell_type": "code",
   "source": [
    "# keep those ids in orders\n",
    "orders_qu = orders_qu.loc[orders_qu[\"order_id\"].isin(order_ids), :]\n",
    "\n",
    "# keep those ids in orderlines\n",
    "orderlines_qu = orderlines_qu.loc[orderlines_qu[\"order_id\"].isin(order_ids), :]"
   ],
   "metadata": {
    "id": "fV0bEfqKWYbD",
    "executionInfo": {
     "status": "ok",
     "timestamp": 1757935267053,
     "user_tz": -120,
     "elapsed": 2,
     "user": {
      "displayName": "Kamran Zajkani",
      "userId": "00401105456302883825"
     }
    },
    "ExecuteTime": {
     "end_time": "2025-09-22T09:39:42.260849Z",
     "start_time": "2025-09-22T09:39:42.249162Z"
    }
   },
   "outputs": [],
   "execution_count": 15
  },
  {
   "cell_type": "markdown",
   "source": [
    "Let's have a quick check to make sure we're filtering both DataFrames the same. They should both contain the same number of unique `order_id`'s."
   ],
   "metadata": {
    "id": "XSW2Js31kaRF"
   }
  },
  {
   "cell_type": "code",
   "source": "orders_qu[\"order_id\"].nunique(), orderlines_qu[\"order_id\"].nunique()",
   "metadata": {
    "colab": {
     "base_uri": "https://localhost:8080/"
    },
    "id": "ja0XpsDDkZrT",
    "outputId": "80c6349b-66cc-4ca3-e230-fa9cf24c592a",
    "executionInfo": {
     "status": "ok",
     "timestamp": 1757935267076,
     "user_tz": -120,
     "elapsed": 23,
     "user": {
      "displayName": "Kamran Zajkani",
      "userId": "00401105456302883825"
     }
    },
    "ExecuteTime": {
     "end_time": "2025-09-22T09:39:42.287613Z",
     "start_time": "2025-09-22T09:39:42.271976Z"
    }
   },
   "outputs": [
    {
     "data": {
      "text/plain": [
       "(43064, 43064)"
      ]
     },
     "execution_count": 16,
     "metadata": {},
     "output_type": "execute_result"
    }
   ],
   "execution_count": 16
  },
  {
   "cell_type": "markdown",
   "source": [
    "## 3.&nbsp; Exclude orders with unknown products"
   ],
   "metadata": {
    "id": "F-rtzwAn7WyS"
   }
  },
  {
   "cell_type": "markdown",
   "source": [
    "Let's start by investigating `orderlines` and `products`. We want to make sure that every product in `orderlines` has a matching entry in `products`. All orders with a missing product need to be removed from both `orderlines` and `orders`.\n",
    "\n",
    "A left-join can help us here:\n",
    "\n",
    "Joining `orderlines` left on `products` will keep all orderlines, and add the information of `products` on the matching skus. If an sku has been sold in `orderlines`, but the sku does not have an entry in `products` then the product_name will be empty."
   ],
   "metadata": {
    "id": "ainXqJZTEQrE"
   }
  },
  {
   "cell_type": "code",
   "source": [
    "orderlines_products = orderlines_qu.merge(products_qu, how=\"left\", on = \"sku\")[[\"order_id\",\"sku\",\"name\" ]]\n",
    "orderlines_products.sample(10)"
   ],
   "metadata": {
    "id": "gPhPZ6jbD1tB",
    "colab": {
     "base_uri": "https://localhost:8080/",
     "height": 363
    },
    "outputId": "43e2e1b6-3df5-4775-c8ca-7761448627ea",
    "executionInfo": {
     "status": "ok",
     "timestamp": 1757935267159,
     "user_tz": -120,
     "elapsed": 93,
     "user": {
      "displayName": "Kamran Zajkani",
      "userId": "00401105456302883825"
     }
    },
    "ExecuteTime": {
     "end_time": "2025-09-22T09:39:42.339357Z",
     "start_time": "2025-09-22T09:39:42.315593Z"
    }
   },
   "outputs": [
    {
     "data": {
      "text/plain": [
       "       order_id        sku                                               name\n",
       "6550     318695    NTE0013    AdaptaDrive NewerTech adapter 2.5 \"to 3.5\" SATA\n",
       "20039    384606    SPE0191  Speck Case SmartShell MacBook Pro 15 \"Touch Ba...\n",
       "17261    375526    BLM0016          Blue Microphones Yeti USB microphone Gray\n",
       "28431    417211    OWC0007  OWC Data Doubler Optical Bay adapter Macbook /...\n",
       "37099    447423    APP2132  Apple iPad Pro 10.5 \"Wi-Fi + Cellular 256GB Si...\n",
       "48895    494920    OTT0104  Clear Case OtterBox Symmetry iPhone 6 / 6S Plu...\n",
       "5197     314876  KIN0156-A               Open - Kingston SSD Disk 240GB UV400\n",
       "10107    346394    IFX0137                   iFixit Demagnetizer / Magnetizer\n",
       "36674    446246  CRU0052-2  Crucial memory Mac 16GB (2x8GB) SO-DIMM DDR4 2...\n",
       "9593     343464  CRU0043-4  Crucial memory Mac 32GB (4x8GB) SO-DIMM DDR3 1..."
      ],
      "text/html": [
       "<div>\n",
       "<style scoped>\n",
       "    .dataframe tbody tr th:only-of-type {\n",
       "        vertical-align: middle;\n",
       "    }\n",
       "\n",
       "    .dataframe tbody tr th {\n",
       "        vertical-align: top;\n",
       "    }\n",
       "\n",
       "    .dataframe thead th {\n",
       "        text-align: right;\n",
       "    }\n",
       "</style>\n",
       "<table border=\"1\" class=\"dataframe\">\n",
       "  <thead>\n",
       "    <tr style=\"text-align: right;\">\n",
       "      <th></th>\n",
       "      <th>order_id</th>\n",
       "      <th>sku</th>\n",
       "      <th>name</th>\n",
       "    </tr>\n",
       "  </thead>\n",
       "  <tbody>\n",
       "    <tr>\n",
       "      <th>6550</th>\n",
       "      <td>318695</td>\n",
       "      <td>NTE0013</td>\n",
       "      <td>AdaptaDrive NewerTech adapter 2.5 \"to 3.5\" SATA</td>\n",
       "    </tr>\n",
       "    <tr>\n",
       "      <th>20039</th>\n",
       "      <td>384606</td>\n",
       "      <td>SPE0191</td>\n",
       "      <td>Speck Case SmartShell MacBook Pro 15 \"Touch Ba...</td>\n",
       "    </tr>\n",
       "    <tr>\n",
       "      <th>17261</th>\n",
       "      <td>375526</td>\n",
       "      <td>BLM0016</td>\n",
       "      <td>Blue Microphones Yeti USB microphone Gray</td>\n",
       "    </tr>\n",
       "    <tr>\n",
       "      <th>28431</th>\n",
       "      <td>417211</td>\n",
       "      <td>OWC0007</td>\n",
       "      <td>OWC Data Doubler Optical Bay adapter Macbook /...</td>\n",
       "    </tr>\n",
       "    <tr>\n",
       "      <th>37099</th>\n",
       "      <td>447423</td>\n",
       "      <td>APP2132</td>\n",
       "      <td>Apple iPad Pro 10.5 \"Wi-Fi + Cellular 256GB Si...</td>\n",
       "    </tr>\n",
       "    <tr>\n",
       "      <th>48895</th>\n",
       "      <td>494920</td>\n",
       "      <td>OTT0104</td>\n",
       "      <td>Clear Case OtterBox Symmetry iPhone 6 / 6S Plu...</td>\n",
       "    </tr>\n",
       "    <tr>\n",
       "      <th>5197</th>\n",
       "      <td>314876</td>\n",
       "      <td>KIN0156-A</td>\n",
       "      <td>Open - Kingston SSD Disk 240GB UV400</td>\n",
       "    </tr>\n",
       "    <tr>\n",
       "      <th>10107</th>\n",
       "      <td>346394</td>\n",
       "      <td>IFX0137</td>\n",
       "      <td>iFixit Demagnetizer / Magnetizer</td>\n",
       "    </tr>\n",
       "    <tr>\n",
       "      <th>36674</th>\n",
       "      <td>446246</td>\n",
       "      <td>CRU0052-2</td>\n",
       "      <td>Crucial memory Mac 16GB (2x8GB) SO-DIMM DDR4 2...</td>\n",
       "    </tr>\n",
       "    <tr>\n",
       "      <th>9593</th>\n",
       "      <td>343464</td>\n",
       "      <td>CRU0043-4</td>\n",
       "      <td>Crucial memory Mac 32GB (4x8GB) SO-DIMM DDR3 1...</td>\n",
       "    </tr>\n",
       "  </tbody>\n",
       "</table>\n",
       "</div>"
      ]
     },
     "execution_count": 17,
     "metadata": {},
     "output_type": "execute_result"
    }
   ],
   "execution_count": 17
  },
  {
   "cell_type": "markdown",
   "source": [
    "We can count how many missing products we have."
   ],
   "metadata": {
    "id": "L2TKJ1kZGJ90"
   }
  },
  {
   "cell_type": "code",
   "source": [
    "orderlines_products.name.isna().value_counts()"
   ],
   "metadata": {
    "colab": {
     "base_uri": "https://localhost:8080/",
     "height": 178
    },
    "id": "KxMcnHTuFTvp",
    "outputId": "49d341eb-f8fc-440a-b28d-9759b6c574bb",
    "executionInfo": {
     "status": "ok",
     "timestamp": 1757935267168,
     "user_tz": -120,
     "elapsed": 9,
     "user": {
      "displayName": "Kamran Zajkani",
      "userId": "00401105456302883825"
     }
    },
    "ExecuteTime": {
     "end_time": "2025-09-22T09:39:42.359196Z",
     "start_time": "2025-09-22T09:39:42.351958Z"
    }
   },
   "outputs": [
    {
     "data": {
      "text/plain": [
       "name\n",
       "False    55320\n",
       "True      1394\n",
       "Name: count, dtype: int64"
      ]
     },
     "execution_count": 18,
     "metadata": {},
     "output_type": "execute_result"
    }
   ],
   "execution_count": 18
  },
  {
   "cell_type": "markdown",
   "source": [
    "Looks like the vast majority of products are known.\n",
    "\n",
    "We can't simply delete the rows containing unknown products. We need to remove the entirety of any order that contains an unknown product to keep a consistent and coherent dataset."
   ],
   "metadata": {
    "id": "VOJAdaF6GXyt"
   }
  },
  {
   "cell_type": "code",
   "source": [
    "orders_to_delete = orderlines_products.loc[orderlines_products.name.isna(), \"order_id\"].unique()\n",
    "orders_to_delete"
   ],
   "metadata": {
    "colab": {
     "base_uri": "https://localhost:8080/"
    },
    "id": "Fa655ngLH-SM",
    "outputId": "c3357856-6638-4dc4-c4de-5979f94bcd48",
    "executionInfo": {
     "status": "ok",
     "timestamp": 1757935267168,
     "user_tz": -120,
     "elapsed": 4,
     "user": {
      "displayName": "Kamran Zajkani",
      "userId": "00401105456302883825"
     }
    },
    "ExecuteTime": {
     "end_time": "2025-09-22T09:39:42.395607Z",
     "start_time": "2025-09-22T09:39:42.387824Z"
    }
   },
   "outputs": [
    {
     "data": {
      "text/plain": [
       "array([299638, 299706, 299712, ..., 526106, 526122, 526363])"
      ]
     },
     "execution_count": 19,
     "metadata": {},
     "output_type": "execute_result"
    }
   ],
   "execution_count": 19
  },
  {
   "cell_type": "markdown",
   "source": [
    "Keep only orders in `orders` and `orderlines`, that are not in this list of corrupted orders."
   ],
   "metadata": {
    "id": "Y8k4KErrIZVn"
   }
  },
  {
   "cell_type": "code",
   "source": [
    "orders_qu = orders_qu.loc[~orders_qu.order_id.isin(orders_to_delete),:]"
   ],
   "metadata": {
    "id": "Crv2Ba9mLtO-",
    "executionInfo": {
     "status": "ok",
     "timestamp": 1757935267176,
     "user_tz": -120,
     "elapsed": 9,
     "user": {
      "displayName": "Kamran Zajkani",
      "userId": "00401105456302883825"
     }
    },
    "ExecuteTime": {
     "end_time": "2025-09-22T09:39:42.432730Z",
     "start_time": "2025-09-22T09:39:42.421656Z"
    }
   },
   "outputs": [],
   "execution_count": 20
  },
  {
   "cell_type": "code",
   "source": "orderlines_qu = orderlines_qu.loc[~orderlines_qu.order_id.isin(orders_to_delete),:]",
   "metadata": {
    "id": "GV09ZKVnIwdM",
    "executionInfo": {
     "status": "ok",
     "timestamp": 1757935267200,
     "user_tz": -120,
     "elapsed": 16,
     "user": {
      "displayName": "Kamran Zajkani",
      "userId": "00401105456302883825"
     }
    },
    "ExecuteTime": {
     "end_time": "2025-09-22T09:39:42.454183Z",
     "start_time": "2025-09-22T09:39:42.447867Z"
    }
   },
   "outputs": [],
   "execution_count": 21
  },
  {
   "cell_type": "markdown",
   "source": [
    "Let's have a quick check to make sure we're filtering both DataFrames the same. They should both contain the same number of unique `order_id`'s."
   ],
   "metadata": {
    "id": "fncmrlnyI_yt"
   }
  },
  {
   "cell_type": "code",
   "source": "orders_qu[\"order_id\"].nunique(), orderlines_qu[\"order_id\"].nunique()",
   "metadata": {
    "colab": {
     "base_uri": "https://localhost:8080/"
    },
    "id": "Szn6D5GXJIx2",
    "outputId": "36872fd5-c1cf-4c24-cb7f-6e351694e6d2",
    "executionInfo": {
     "status": "ok",
     "timestamp": 1757935267201,
     "user_tz": -120,
     "elapsed": 4,
     "user": {
      "displayName": "Kamran Zajkani",
      "userId": "00401105456302883825"
     }
    },
    "ExecuteTime": {
     "end_time": "2025-09-22T09:39:42.485019Z",
     "start_time": "2025-09-22T09:39:42.468817Z"
    }
   },
   "outputs": [
    {
     "data": {
      "text/plain": [
       "(41701, 41701)"
      ]
     },
     "execution_count": 22,
     "metadata": {},
     "output_type": "execute_result"
    }
   ],
   "execution_count": 22
  },
  {
   "cell_type": "markdown",
   "source": [
    "## 4.&nbsp; Explore the revenue from different tables"
   ],
   "metadata": {
    "id": "bCLu78B07gN1"
   }
  },
  {
   "cell_type": "markdown",
   "source": [
    "In a consistent and coherent dataset the value of an order should roughly match the sum of all items bought on that order. Let's investigate..."
   ],
   "metadata": {
    "id": "yptSZebe79PE"
   }
  },
  {
   "cell_type": "markdown",
   "source": [
    "#### Step 1:\n",
    "Create the `unit_price_total` as `orderlines.unit_price` * `orderlines.product_quantity`"
   ],
   "metadata": {
    "id": "CrmrCXypbflw"
   }
  },
  {
   "cell_type": "code",
   "source": "orderlines_qu[\"unit_price_total\"] = orderlines_qu[\"product_quantity\"] * orderlines_qu[\"unit_price\"]",
   "metadata": {
    "id": "c8MApY6jatlO",
    "executionInfo": {
     "status": "ok",
     "timestamp": 1757935267225,
     "user_tz": -120,
     "elapsed": 1,
     "user": {
      "displayName": "Kamran Zajkani",
      "userId": "00401105456302883825"
     }
    },
    "ExecuteTime": {
     "end_time": "2025-09-22T09:39:42.518174Z",
     "start_time": "2025-09-22T09:39:42.505436Z"
    }
   },
   "outputs": [],
   "execution_count": 23
  },
  {
   "cell_type": "code",
   "source": "orderlines_qu.tail(10)",
   "metadata": {
    "colab": {
     "base_uri": "https://localhost:8080/",
     "height": 363
    },
    "id": "euU0p-IIKMlq",
    "outputId": "2f6af993-2c77-4442-dab3-53ab3342206e",
    "executionInfo": {
     "status": "ok",
     "timestamp": 1757935267295,
     "user_tz": -120,
     "elapsed": 54,
     "user": {
      "displayName": "Kamran Zajkani",
      "userId": "00401105456302883825"
     }
    },
    "ExecuteTime": {
     "end_time": "2025-09-22T09:39:42.552905Z",
     "start_time": "2025-09-22T09:39:42.535253Z"
    }
   },
   "outputs": [
    {
     "data": {
      "text/plain": [
       "        Unnamed: 0       id  order_id  product_id  product_quantity      sku  \\\n",
       "215873      293583  1649440    527035           0                 1  APP0498   \n",
       "215874      293584  1649441    527034           0                 1  APP0927   \n",
       "215876      293586  1649446    527042           0                 1  APP0927   \n",
       "215877      293587  1649447    527035           0                 1  APP0698   \n",
       "215886      293596  1649468    525664           0                 1  TUC0336   \n",
       "215889      293599  1649474    525664           0                 1  TUC0207   \n",
       "215906      293616  1649512    527070           0                 2  APP0698   \n",
       "215911      293621  1649522    527074           0                 2  APP0698   \n",
       "215932      293644  1649565    527096           0                 3  APP0698   \n",
       "215949      293661  1649593    527112           0                 1  APP0698   \n",
       "\n",
       "        unit_price                 date  unit_price_total  \n",
       "215873       23.00  2018-03-14 11:41:55             23.00  \n",
       "215874       13.99  2018-03-14 11:42:01             13.99  \n",
       "215876       13.99  2018-03-14 11:42:38             13.99  \n",
       "215877        9.99  2018-03-14 11:42:41              9.99  \n",
       "215886        7.93  2018-03-14 11:43:59              7.93  \n",
       "215889       16.52  2018-03-14 11:45:05             16.52  \n",
       "215906        9.99  2018-03-14 11:49:01             19.98  \n",
       "215911        9.99  2018-03-14 11:49:36             19.98  \n",
       "215932        9.99  2018-03-14 11:54:35             29.97  \n",
       "215949        9.99  2018-03-14 11:58:13              9.99  "
      ],
      "text/html": [
       "<div>\n",
       "<style scoped>\n",
       "    .dataframe tbody tr th:only-of-type {\n",
       "        vertical-align: middle;\n",
       "    }\n",
       "\n",
       "    .dataframe tbody tr th {\n",
       "        vertical-align: top;\n",
       "    }\n",
       "\n",
       "    .dataframe thead th {\n",
       "        text-align: right;\n",
       "    }\n",
       "</style>\n",
       "<table border=\"1\" class=\"dataframe\">\n",
       "  <thead>\n",
       "    <tr style=\"text-align: right;\">\n",
       "      <th></th>\n",
       "      <th>Unnamed: 0</th>\n",
       "      <th>id</th>\n",
       "      <th>order_id</th>\n",
       "      <th>product_id</th>\n",
       "      <th>product_quantity</th>\n",
       "      <th>sku</th>\n",
       "      <th>unit_price</th>\n",
       "      <th>date</th>\n",
       "      <th>unit_price_total</th>\n",
       "    </tr>\n",
       "  </thead>\n",
       "  <tbody>\n",
       "    <tr>\n",
       "      <th>215873</th>\n",
       "      <td>293583</td>\n",
       "      <td>1649440</td>\n",
       "      <td>527035</td>\n",
       "      <td>0</td>\n",
       "      <td>1</td>\n",
       "      <td>APP0498</td>\n",
       "      <td>23.00</td>\n",
       "      <td>2018-03-14 11:41:55</td>\n",
       "      <td>23.00</td>\n",
       "    </tr>\n",
       "    <tr>\n",
       "      <th>215874</th>\n",
       "      <td>293584</td>\n",
       "      <td>1649441</td>\n",
       "      <td>527034</td>\n",
       "      <td>0</td>\n",
       "      <td>1</td>\n",
       "      <td>APP0927</td>\n",
       "      <td>13.99</td>\n",
       "      <td>2018-03-14 11:42:01</td>\n",
       "      <td>13.99</td>\n",
       "    </tr>\n",
       "    <tr>\n",
       "      <th>215876</th>\n",
       "      <td>293586</td>\n",
       "      <td>1649446</td>\n",
       "      <td>527042</td>\n",
       "      <td>0</td>\n",
       "      <td>1</td>\n",
       "      <td>APP0927</td>\n",
       "      <td>13.99</td>\n",
       "      <td>2018-03-14 11:42:38</td>\n",
       "      <td>13.99</td>\n",
       "    </tr>\n",
       "    <tr>\n",
       "      <th>215877</th>\n",
       "      <td>293587</td>\n",
       "      <td>1649447</td>\n",
       "      <td>527035</td>\n",
       "      <td>0</td>\n",
       "      <td>1</td>\n",
       "      <td>APP0698</td>\n",
       "      <td>9.99</td>\n",
       "      <td>2018-03-14 11:42:41</td>\n",
       "      <td>9.99</td>\n",
       "    </tr>\n",
       "    <tr>\n",
       "      <th>215886</th>\n",
       "      <td>293596</td>\n",
       "      <td>1649468</td>\n",
       "      <td>525664</td>\n",
       "      <td>0</td>\n",
       "      <td>1</td>\n",
       "      <td>TUC0336</td>\n",
       "      <td>7.93</td>\n",
       "      <td>2018-03-14 11:43:59</td>\n",
       "      <td>7.93</td>\n",
       "    </tr>\n",
       "    <tr>\n",
       "      <th>215889</th>\n",
       "      <td>293599</td>\n",
       "      <td>1649474</td>\n",
       "      <td>525664</td>\n",
       "      <td>0</td>\n",
       "      <td>1</td>\n",
       "      <td>TUC0207</td>\n",
       "      <td>16.52</td>\n",
       "      <td>2018-03-14 11:45:05</td>\n",
       "      <td>16.52</td>\n",
       "    </tr>\n",
       "    <tr>\n",
       "      <th>215906</th>\n",
       "      <td>293616</td>\n",
       "      <td>1649512</td>\n",
       "      <td>527070</td>\n",
       "      <td>0</td>\n",
       "      <td>2</td>\n",
       "      <td>APP0698</td>\n",
       "      <td>9.99</td>\n",
       "      <td>2018-03-14 11:49:01</td>\n",
       "      <td>19.98</td>\n",
       "    </tr>\n",
       "    <tr>\n",
       "      <th>215911</th>\n",
       "      <td>293621</td>\n",
       "      <td>1649522</td>\n",
       "      <td>527074</td>\n",
       "      <td>0</td>\n",
       "      <td>2</td>\n",
       "      <td>APP0698</td>\n",
       "      <td>9.99</td>\n",
       "      <td>2018-03-14 11:49:36</td>\n",
       "      <td>19.98</td>\n",
       "    </tr>\n",
       "    <tr>\n",
       "      <th>215932</th>\n",
       "      <td>293644</td>\n",
       "      <td>1649565</td>\n",
       "      <td>527096</td>\n",
       "      <td>0</td>\n",
       "      <td>3</td>\n",
       "      <td>APP0698</td>\n",
       "      <td>9.99</td>\n",
       "      <td>2018-03-14 11:54:35</td>\n",
       "      <td>29.97</td>\n",
       "    </tr>\n",
       "    <tr>\n",
       "      <th>215949</th>\n",
       "      <td>293661</td>\n",
       "      <td>1649593</td>\n",
       "      <td>527112</td>\n",
       "      <td>0</td>\n",
       "      <td>1</td>\n",
       "      <td>APP0698</td>\n",
       "      <td>9.99</td>\n",
       "      <td>2018-03-14 11:58:13</td>\n",
       "      <td>9.99</td>\n",
       "    </tr>\n",
       "  </tbody>\n",
       "</table>\n",
       "</div>"
      ]
     },
     "execution_count": 24,
     "metadata": {},
     "output_type": "execute_result"
    }
   ],
   "execution_count": 24
  },
  {
   "cell_type": "markdown",
   "source": [
    "#### Step 2:\n",
    "Group by `order_id`, summarising by the sum of `unit_price_total`"
   ],
   "metadata": {
    "id": "gkvMUjymbvSC"
   }
  },
  {
   "cell_type": "code",
   "source": [
    "revenue_per_orders = orderlines_qu.groupby(\"order_id\", as_index=False)[\"unit_price_total\"].sum()\n",
    "revenue_per_orders.rename(columns={\"unit_price_total\": \"order_price_total\"}, inplace=True)\n",
    "# as_index=False changes the return so that the groupedby column remains a column (not the index)"
   ],
   "metadata": {
    "id": "4hasZA5BaH1k",
    "executionInfo": {
     "status": "ok",
     "timestamp": 1757935267295,
     "user_tz": -120,
     "elapsed": 4,
     "user": {
      "displayName": "Kamran Zajkani",
      "userId": "00401105456302883825"
     }
    },
    "ExecuteTime": {
     "end_time": "2025-09-22T09:39:42.585267Z",
     "start_time": "2025-09-22T09:39:42.569039Z"
    }
   },
   "outputs": [],
   "execution_count": 25
  },
  {
   "cell_type": "code",
   "source": "revenue_per_orders",
   "metadata": {
    "colab": {
     "base_uri": "https://localhost:8080/",
     "height": 423
    },
    "id": "Ly3ob9XEZHgy",
    "outputId": "a5b04bbf-f41b-4140-9340-39570e83834c",
    "executionInfo": {
     "status": "ok",
     "timestamp": 1757935267320,
     "user_tz": -120,
     "elapsed": 28,
     "user": {
      "displayName": "Kamran Zajkani",
      "userId": "00401105456302883825"
     }
    },
    "ExecuteTime": {
     "end_time": "2025-09-22T09:39:42.618446Z",
     "start_time": "2025-09-22T09:39:42.613886Z"
    }
   },
   "outputs": [
    {
     "data": {
      "text/plain": [
       "       order_id  order_price_total\n",
       "0        241423             129.16\n",
       "1        242832              10.77\n",
       "2        243330              77.99\n",
       "3        245275             149.00\n",
       "4        245595             105.98\n",
       "...         ...                ...\n",
       "41696    527042              13.99\n",
       "41697    527070              19.98\n",
       "41698    527074              19.98\n",
       "41699    527096              29.97\n",
       "41700    527112               9.99\n",
       "\n",
       "[41701 rows x 2 columns]"
      ],
      "text/html": [
       "<div>\n",
       "<style scoped>\n",
       "    .dataframe tbody tr th:only-of-type {\n",
       "        vertical-align: middle;\n",
       "    }\n",
       "\n",
       "    .dataframe tbody tr th {\n",
       "        vertical-align: top;\n",
       "    }\n",
       "\n",
       "    .dataframe thead th {\n",
       "        text-align: right;\n",
       "    }\n",
       "</style>\n",
       "<table border=\"1\" class=\"dataframe\">\n",
       "  <thead>\n",
       "    <tr style=\"text-align: right;\">\n",
       "      <th></th>\n",
       "      <th>order_id</th>\n",
       "      <th>order_price_total</th>\n",
       "    </tr>\n",
       "  </thead>\n",
       "  <tbody>\n",
       "    <tr>\n",
       "      <th>0</th>\n",
       "      <td>241423</td>\n",
       "      <td>129.16</td>\n",
       "    </tr>\n",
       "    <tr>\n",
       "      <th>1</th>\n",
       "      <td>242832</td>\n",
       "      <td>10.77</td>\n",
       "    </tr>\n",
       "    <tr>\n",
       "      <th>2</th>\n",
       "      <td>243330</td>\n",
       "      <td>77.99</td>\n",
       "    </tr>\n",
       "    <tr>\n",
       "      <th>3</th>\n",
       "      <td>245275</td>\n",
       "      <td>149.00</td>\n",
       "    </tr>\n",
       "    <tr>\n",
       "      <th>4</th>\n",
       "      <td>245595</td>\n",
       "      <td>105.98</td>\n",
       "    </tr>\n",
       "    <tr>\n",
       "      <th>...</th>\n",
       "      <td>...</td>\n",
       "      <td>...</td>\n",
       "    </tr>\n",
       "    <tr>\n",
       "      <th>41696</th>\n",
       "      <td>527042</td>\n",
       "      <td>13.99</td>\n",
       "    </tr>\n",
       "    <tr>\n",
       "      <th>41697</th>\n",
       "      <td>527070</td>\n",
       "      <td>19.98</td>\n",
       "    </tr>\n",
       "    <tr>\n",
       "      <th>41698</th>\n",
       "      <td>527074</td>\n",
       "      <td>19.98</td>\n",
       "    </tr>\n",
       "    <tr>\n",
       "      <th>41699</th>\n",
       "      <td>527096</td>\n",
       "      <td>29.97</td>\n",
       "    </tr>\n",
       "    <tr>\n",
       "      <th>41700</th>\n",
       "      <td>527112</td>\n",
       "      <td>9.99</td>\n",
       "    </tr>\n",
       "  </tbody>\n",
       "</table>\n",
       "<p>41701 rows × 2 columns</p>\n",
       "</div>"
      ]
     },
     "execution_count": 26,
     "metadata": {},
     "output_type": "execute_result"
    }
   ],
   "execution_count": 26
  },
  {
   "cell_type": "markdown",
   "source": "### What is the average difference between `total_paid` and `order_price_total`?",
   "metadata": {
    "id": "_d1lwist8F6X"
   }
  },
  {
   "cell_type": "markdown",
   "source": [
    "Let's merge our grouped `orderlines` table with the `orders` table, so we can calculate the differences in prices."
   ],
   "metadata": {
    "id": "EmTi3m8Akxig"
   }
  },
  {
   "cell_type": "code",
   "source": "avg_diff_paid = orders_qu.merge(revenue_per_orders, left_on=\"order_id\", right_on=\"order_id\")",
   "metadata": {
    "id": "1lNua5XucOFt",
    "executionInfo": {
     "status": "ok",
     "timestamp": 1757935267320,
     "user_tz": -120,
     "elapsed": 1,
     "user": {
      "displayName": "Kamran Zajkani",
      "userId": "00401105456302883825"
     }
    },
    "ExecuteTime": {
     "end_time": "2025-09-22T09:39:42.651427Z",
     "start_time": "2025-09-22T09:39:42.646316Z"
    }
   },
   "outputs": [],
   "execution_count": 27
  },
  {
   "cell_type": "code",
   "source": [
    "avg_diff_paid[\"difference\"] = avg_diff_paid[\"total_paid\"] - avg_diff_paid[\"order_price_total\"]\n",
    "avg_diff_paid.head(10)"
   ],
   "metadata": {
    "colab": {
     "base_uri": "https://localhost:8080/",
     "height": 363
    },
    "id": "oI1ZIpSBcOC_",
    "outputId": "42817048-4c35-469c-816f-26450f3f6ec9",
    "executionInfo": {
     "status": "ok",
     "timestamp": 1757935267453,
     "user_tz": -120,
     "elapsed": 133,
     "user": {
      "displayName": "Kamran Zajkani",
      "userId": "00401105456302883825"
     }
    },
    "ExecuteTime": {
     "end_time": "2025-09-22T09:39:42.678428Z",
     "start_time": "2025-09-22T09:39:42.668750Z"
    }
   },
   "outputs": [
    {
     "data": {
      "text/plain": [
       "   Unnamed: 0  order_id         created_date  total_paid      state  \\\n",
       "0           1    241423  2017-11-06 13:10:02      136.15  Completed   \n",
       "1           2    242832  2017-12-31 17:40:03       15.76  Completed   \n",
       "2           3    243330  2017-02-16 10:59:38       84.98  Completed   \n",
       "3           5    245275  2017-06-28 11:35:37      149.00  Completed   \n",
       "4           6    245595  2017-01-21 12:52:47      112.97  Completed   \n",
       "5          10    246405  2017-11-24 10:01:27      407.96  Completed   \n",
       "6          11    247524  2018-01-09 14:21:34      167.98  Completed   \n",
       "7          12    247643  2017-05-26 11:50:35      153.54  Completed   \n",
       "8          13    250275  2017-11-19 22:34:54       54.99  Completed   \n",
       "9          14    251302  2017-05-10 12:27:33      140.99  Completed   \n",
       "\n",
       "   order_price_total  difference  \n",
       "0             129.16        6.99  \n",
       "1              10.77        4.99  \n",
       "2              77.99        6.99  \n",
       "3             149.00        0.00  \n",
       "4             105.98        6.99  \n",
       "5             275.75      132.21  \n",
       "6             162.99        4.99  \n",
       "7             153.54        0.00  \n",
       "8              51.00        3.99  \n",
       "9             140.99        0.00  "
      ],
      "text/html": [
       "<div>\n",
       "<style scoped>\n",
       "    .dataframe tbody tr th:only-of-type {\n",
       "        vertical-align: middle;\n",
       "    }\n",
       "\n",
       "    .dataframe tbody tr th {\n",
       "        vertical-align: top;\n",
       "    }\n",
       "\n",
       "    .dataframe thead th {\n",
       "        text-align: right;\n",
       "    }\n",
       "</style>\n",
       "<table border=\"1\" class=\"dataframe\">\n",
       "  <thead>\n",
       "    <tr style=\"text-align: right;\">\n",
       "      <th></th>\n",
       "      <th>Unnamed: 0</th>\n",
       "      <th>order_id</th>\n",
       "      <th>created_date</th>\n",
       "      <th>total_paid</th>\n",
       "      <th>state</th>\n",
       "      <th>order_price_total</th>\n",
       "      <th>difference</th>\n",
       "    </tr>\n",
       "  </thead>\n",
       "  <tbody>\n",
       "    <tr>\n",
       "      <th>0</th>\n",
       "      <td>1</td>\n",
       "      <td>241423</td>\n",
       "      <td>2017-11-06 13:10:02</td>\n",
       "      <td>136.15</td>\n",
       "      <td>Completed</td>\n",
       "      <td>129.16</td>\n",
       "      <td>6.99</td>\n",
       "    </tr>\n",
       "    <tr>\n",
       "      <th>1</th>\n",
       "      <td>2</td>\n",
       "      <td>242832</td>\n",
       "      <td>2017-12-31 17:40:03</td>\n",
       "      <td>15.76</td>\n",
       "      <td>Completed</td>\n",
       "      <td>10.77</td>\n",
       "      <td>4.99</td>\n",
       "    </tr>\n",
       "    <tr>\n",
       "      <th>2</th>\n",
       "      <td>3</td>\n",
       "      <td>243330</td>\n",
       "      <td>2017-02-16 10:59:38</td>\n",
       "      <td>84.98</td>\n",
       "      <td>Completed</td>\n",
       "      <td>77.99</td>\n",
       "      <td>6.99</td>\n",
       "    </tr>\n",
       "    <tr>\n",
       "      <th>3</th>\n",
       "      <td>5</td>\n",
       "      <td>245275</td>\n",
       "      <td>2017-06-28 11:35:37</td>\n",
       "      <td>149.00</td>\n",
       "      <td>Completed</td>\n",
       "      <td>149.00</td>\n",
       "      <td>0.00</td>\n",
       "    </tr>\n",
       "    <tr>\n",
       "      <th>4</th>\n",
       "      <td>6</td>\n",
       "      <td>245595</td>\n",
       "      <td>2017-01-21 12:52:47</td>\n",
       "      <td>112.97</td>\n",
       "      <td>Completed</td>\n",
       "      <td>105.98</td>\n",
       "      <td>6.99</td>\n",
       "    </tr>\n",
       "    <tr>\n",
       "      <th>5</th>\n",
       "      <td>10</td>\n",
       "      <td>246405</td>\n",
       "      <td>2017-11-24 10:01:27</td>\n",
       "      <td>407.96</td>\n",
       "      <td>Completed</td>\n",
       "      <td>275.75</td>\n",
       "      <td>132.21</td>\n",
       "    </tr>\n",
       "    <tr>\n",
       "      <th>6</th>\n",
       "      <td>11</td>\n",
       "      <td>247524</td>\n",
       "      <td>2018-01-09 14:21:34</td>\n",
       "      <td>167.98</td>\n",
       "      <td>Completed</td>\n",
       "      <td>162.99</td>\n",
       "      <td>4.99</td>\n",
       "    </tr>\n",
       "    <tr>\n",
       "      <th>7</th>\n",
       "      <td>12</td>\n",
       "      <td>247643</td>\n",
       "      <td>2017-05-26 11:50:35</td>\n",
       "      <td>153.54</td>\n",
       "      <td>Completed</td>\n",
       "      <td>153.54</td>\n",
       "      <td>0.00</td>\n",
       "    </tr>\n",
       "    <tr>\n",
       "      <th>8</th>\n",
       "      <td>13</td>\n",
       "      <td>250275</td>\n",
       "      <td>2017-11-19 22:34:54</td>\n",
       "      <td>54.99</td>\n",
       "      <td>Completed</td>\n",
       "      <td>51.00</td>\n",
       "      <td>3.99</td>\n",
       "    </tr>\n",
       "    <tr>\n",
       "      <th>9</th>\n",
       "      <td>14</td>\n",
       "      <td>251302</td>\n",
       "      <td>2017-05-10 12:27:33</td>\n",
       "      <td>140.99</td>\n",
       "      <td>Completed</td>\n",
       "      <td>140.99</td>\n",
       "      <td>0.00</td>\n",
       "    </tr>\n",
       "  </tbody>\n",
       "</table>\n",
       "</div>"
      ]
     },
     "execution_count": 28,
     "metadata": {},
     "output_type": "execute_result"
    }
   ],
   "execution_count": 28
  },
  {
   "metadata": {
    "ExecuteTime": {
     "end_time": "2025-09-22T09:39:42.709954Z",
     "start_time": "2025-09-22T09:39:42.705407Z"
    }
   },
   "cell_type": "code",
   "source": "avg_diff_paid['difference'].min()",
   "outputs": [
    {
     "data": {
      "text/plain": [
       "np.float64(-165.0)"
      ]
     },
     "execution_count": 29,
     "metadata": {},
     "output_type": "execute_result"
    }
   ],
   "execution_count": 29
  },
  {
   "cell_type": "markdown",
   "source": [
    "Now that we know the difference for each order, we can compute the average."
   ],
   "metadata": {
    "id": "S_P-ZQ5xgpyO"
   }
  },
  {
   "cell_type": "code",
   "source": "avg_diff_paid.difference.mean().round(2)",
   "metadata": {
    "colab": {
     "base_uri": "https://localhost:8080/"
    },
    "id": "5N02JPCMgyBU",
    "outputId": "c739414d-8425-4cbe-9da8-33b0013dea54",
    "executionInfo": {
     "status": "ok",
     "timestamp": 1757935267454,
     "user_tz": -120,
     "elapsed": 4,
     "user": {
      "displayName": "Kamran Zajkani",
      "userId": "00401105456302883825"
     }
    },
    "ExecuteTime": {
     "end_time": "2025-09-22T09:39:42.749871Z",
     "start_time": "2025-09-22T09:39:42.745227Z"
    }
   },
   "outputs": [
    {
     "data": {
      "text/plain": [
       "np.float64(4.47)"
      ]
     },
     "execution_count": 30,
     "metadata": {},
     "output_type": "execute_result"
    }
   ],
   "execution_count": 30
  },
  {
   "cell_type": "markdown",
   "source": [
    "### What is the distribution of these differences?"
   ],
   "metadata": {
    "id": "UpynvRcO8QBr"
   }
  },
  {
   "cell_type": "code",
   "source": "avg_diff_paid.difference.hist(bins= 50, figsize=(8,6));",
   "metadata": {
    "colab": {
     "base_uri": "https://localhost:8080/",
     "height": 522
    },
    "id": "gGAcSaG98Rr8",
    "outputId": "c14c03c3-4a5f-4240-aa92-599bba28ad3b",
    "executionInfo": {
     "status": "ok",
     "timestamp": 1757935267729,
     "user_tz": -120,
     "elapsed": 204,
     "user": {
      "displayName": "Kamran Zajkani",
      "userId": "00401105456302883825"
     }
    },
    "ExecuteTime": {
     "end_time": "2025-09-22T09:39:42.890610Z",
     "start_time": "2025-09-22T09:39:42.776889Z"
    }
   },
   "outputs": [
    {
     "data": {
      "text/plain": [
       "<Figure size 800x600 with 1 Axes>"
      ],
      "image/png": "[encoded data removed]"
     },
     "metadata": {},
     "output_type": "display_data",
     "jetTransient": {
      "display_id": null
     }
    }
   ],
   "execution_count": 31
  },
  {
   "cell_type": "markdown",
   "source": [
    "Looking at the spread of the data above, some of the difference must be due to corruption. Let's use `.describe()` to investigate the distribution further."
   ],
   "metadata": {
    "id": "2T4efB27h_Q8"
   }
  },
  {
   "cell_type": "code",
   "source": "avg_diff_paid.difference.describe()",
   "metadata": {
    "colab": {
     "base_uri": "https://localhost:8080/",
     "height": 335
    },
    "id": "1T3KFlE3iUTW",
    "outputId": "f6c21b33-e759-4389-b0bb-70edc45e64b4",
    "executionInfo": {
     "status": "ok",
     "timestamp": 1757935267758,
     "user_tz": -120,
     "elapsed": 28,
     "user": {
      "displayName": "Kamran Zajkani",
      "userId": "00401105456302883825"
     }
    },
    "ExecuteTime": {
     "end_time": "2025-09-22T09:39:42.908734Z",
     "start_time": "2025-09-22T09:39:42.902722Z"
    }
   },
   "outputs": [
    {
     "data": {
      "text/plain": [
       "count   41701.00\n",
       "mean        4.47\n",
       "std        26.05\n",
       "min      -165.00\n",
       "25%         0.00\n",
       "50%         4.99\n",
       "75%         6.99\n",
       "max      3984.99\n",
       "Name: difference, dtype: float64"
      ]
     },
     "execution_count": 32,
     "metadata": {},
     "output_type": "execute_result"
    }
   ],
   "execution_count": 32
  },
  {
   "cell_type": "markdown",
   "source": [
    "We can see from the our quartiles (0.00, 4.99, 6.99) that most of our data fits an expected pattern - free, 4.99, and 6.99 all seem like reasonable prices to assume as postage. However, look at the min and the max values, -165.00 and 3984.99, this can only occur due to corrupted data."
   ],
   "metadata": {
    "id": "MyeXnzNwjTVf"
   }
  },
  {
   "cell_type": "markdown",
   "source": [
    "### Can all the differences be explained by shipping costs? If not, what are other plausible explanations?"
   ],
   "metadata": {
    "id": "NINPK4rB8TSY"
   }
  },
  {
   "cell_type": "markdown",
   "source": "What reasons have we come up with to explain the difference?",
   "metadata": {
    "id": "RJaLHlhklUgF"
   }
  },
  {
   "cell_type": "markdown",
   "source": [
    "### If there are differences that we can’t explain: what should we do with these orders?\n",
    "There's a rule of thumb, that anything:\n",
    "+ lower than the 25% quartile - (1.5 x interquartile range), or\n",
    "+ higher than the 75% quartile + (1.5 x interquartile range)\n",
    "\n",
    "is an outlier. Let's use this rule to try and exclude any corrupted data."
   ],
   "metadata": {
    "id": "xPos2ipK8VST"
   }
  },
  {
   "cell_type": "code",
   "source": [
    "# We know this rule from the boxplot\n",
    "import matplotlib.pyplot as plt\n",
    "\n",
    "ax = avg_diff_paid.boxplot(\"difference\");\n",
    "ax.set_ylim(-30, +30)\n",
    "plt.show()"
   ],
   "metadata": {
    "colab": {
     "base_uri": "https://localhost:8080/",
     "height": 435
    },
    "id": "7eeYy27aMU8a",
    "outputId": "19251d2c-a583-4663-cec2-3f2bc42aaac4",
    "executionInfo": {
     "status": "ok",
     "timestamp": 1757935267902,
     "user_tz": -120,
     "elapsed": 145,
     "user": {
      "displayName": "Kamran Zajkani",
      "userId": "00401105456302883825"
     }
    },
    "ExecuteTime": {
     "end_time": "2025-09-22T09:39:43.004224Z",
     "start_time": "2025-09-22T09:39:42.943249Z"
    }
   },
   "outputs": [
    {
     "data": {
      "text/plain": [
       "<Figure size 640x480 with 1 Axes>"
      ],
      "image/png": "[encoded data removed]"
     },
     "metadata": {},
     "output_type": "display_data",
     "jetTransient": {
      "display_id": null
     }
    }
   ],
   "execution_count": 33
  },
  {
   "cell_type": "code",
   "source": [
    "# calculate the quartiles\n",
    "Q1 = avg_diff_paid[\"difference\"].quantile(0.25)\n",
    "Q3 = avg_diff_paid[\"difference\"].quantile(0.75)\n",
    "\n",
    "Q1, Q3"
   ],
   "metadata": {
    "id": "xqeCAJBt8V3T",
    "colab": {
     "base_uri": "https://localhost:8080/"
    },
    "outputId": "728c2497-7fe7-4a44-b474-edbacd0859f0",
    "executionInfo": {
     "status": "ok",
     "timestamp": 1757935267902,
     "user_tz": -120,
     "elapsed": 10,
     "user": {
      "displayName": "Kamran Zajkani",
      "userId": "00401105456302883825"
     }
    },
    "ExecuteTime": {
     "end_time": "2025-09-22T09:39:43.026279Z",
     "start_time": "2025-09-22T09:39:43.011891Z"
    }
   },
   "outputs": [
    {
     "data": {
      "text/plain": [
       "(np.float64(0.0), np.float64(6.989999999999981))"
      ]
     },
     "execution_count": 34,
     "metadata": {},
     "output_type": "execute_result"
    }
   ],
   "execution_count": 34
  },
  {
   "cell_type": "code",
   "source": [
    "# calculate the interquartile range\n",
    "IQR = Q3-Q1\n",
    "IQR"
   ],
   "metadata": {
    "colab": {
     "base_uri": "https://localhost:8080/"
    },
    "id": "oMIscjDjNasH",
    "outputId": "ef31e0a3-4a1f-462c-bb59-e112404222e9",
    "executionInfo": {
     "status": "ok",
     "timestamp": 1757935267902,
     "user_tz": -120,
     "elapsed": 7,
     "user": {
      "displayName": "Kamran Zajkani",
      "userId": "00401105456302883825"
     }
    },
    "ExecuteTime": {
     "end_time": "2025-09-22T09:39:43.073150Z",
     "start_time": "2025-09-22T09:39:43.055864Z"
    }
   },
   "outputs": [
    {
     "data": {
      "text/plain": [
       "np.float64(6.989999999999981)"
      ]
     },
     "execution_count": 35,
     "metadata": {},
     "output_type": "execute_result"
    }
   ],
   "execution_count": 35
  },
  {
   "cell_type": "code",
   "source": [
    "# lower boundary\n",
    "Q1 - 1.5*IQR"
   ],
   "metadata": {
    "colab": {
     "base_uri": "https://localhost:8080/"
    },
    "id": "KFWH6QepOihO",
    "outputId": "8891091b-4ff4-487f-9416-ef6312a2e66b",
    "executionInfo": {
     "status": "ok",
     "timestamp": 1757935267902,
     "user_tz": -120,
     "elapsed": 4,
     "user": {
      "displayName": "Kamran Zajkani",
      "userId": "00401105456302883825"
     }
    },
    "ExecuteTime": {
     "end_time": "2025-09-22T09:39:43.088216Z",
     "start_time": "2025-09-22T09:39:43.084955Z"
    }
   },
   "outputs": [
    {
     "data": {
      "text/plain": [
       "np.float64(-10.484999999999971)"
      ]
     },
     "execution_count": 36,
     "metadata": {},
     "output_type": "execute_result"
    }
   ],
   "execution_count": 36
  },
  {
   "cell_type": "code",
   "source": [
    "# upper boundary\n",
    "Q3 + 1.5*IQR"
   ],
   "metadata": {
    "colab": {
     "base_uri": "https://localhost:8080/"
    },
    "id": "gfwh1W9FOk4E",
    "outputId": "1e1694ca-2634-4240-879c-231a85f7daad",
    "executionInfo": {
     "status": "ok",
     "timestamp": 1757935267909,
     "user_tz": -120,
     "elapsed": 9,
     "user": {
      "displayName": "Kamran Zajkani",
      "userId": "00401105456302883825"
     }
    },
    "ExecuteTime": {
     "end_time": "2025-09-22T09:39:43.111113Z",
     "start_time": "2025-09-22T09:39:43.107471Z"
    }
   },
   "outputs": [
    {
     "data": {
      "text/plain": [
       "np.float64(17.47499999999995)"
      ]
     },
     "execution_count": 37,
     "metadata": {},
     "output_type": "execute_result"
    }
   ],
   "execution_count": 37
  },
  {
   "cell_type": "code",
   "source": [
    "# filter the DataFrame to include only \"non-outliers\"\n",
    "orders_avg_diff_paid_no_outliers = avg_diff_paid.loc[\n",
    "    (avg_diff_paid[\"difference\"] >= (Q1 - 1.5*IQR))\n",
    "    &\n",
    "    (avg_diff_paid[\"difference\"] <= (Q3 + 1.5*IQR))\n",
    "    ,\n",
    "    :]"
   ],
   "metadata": {
    "id": "5N5e7LyVNhmG",
    "executionInfo": {
     "status": "ok",
     "timestamp": 1757935267913,
     "user_tz": -120,
     "elapsed": 4,
     "user": {
      "displayName": "Kamran Zajkani",
      "userId": "00401105456302883825"
     }
    },
    "ExecuteTime": {
     "end_time": "2025-09-22T09:39:43.153970Z",
     "start_time": "2025-09-22T09:39:43.137524Z"
    }
   },
   "outputs": [],
   "execution_count": 38
  },
  {
   "cell_type": "markdown",
   "source": [
    "Let's look at the distribution again to see the effect of removing the outliers."
   ],
   "metadata": {
    "id": "HBk64r7CnL4W"
   }
  },
  {
   "cell_type": "code",
   "source": "orders_avg_diff_paid_no_outliers.difference.hist(bins= 50, figsize=(8,6));",
   "metadata": {
    "colab": {
     "base_uri": "https://localhost:8080/",
     "height": 522
    },
    "id": "Kt-sjDRCm78G",
    "outputId": "79ed7fd2-6e6a-400d-baa2-031de91e5330",
    "executionInfo": {
     "status": "ok",
     "timestamp": 1757935268160,
     "user_tz": -120,
     "elapsed": 241,
     "user": {
      "displayName": "Kamran Zajkani",
      "userId": "00401105456302883825"
     }
    },
    "ExecuteTime": {
     "end_time": "2025-09-22T09:39:43.269543Z",
     "start_time": "2025-09-22T09:39:43.166261Z"
    }
   },
   "outputs": [
    {
     "data": {
      "text/plain": [
       "<Figure size 800x600 with 1 Axes>"
      ],
      "image/png": "[encoded data removed]"
     },
     "metadata": {},
     "output_type": "display_data",
     "jetTransient": {
      "display_id": null
     }
    }
   ],
   "execution_count": 39
  },
  {
   "cell_type": "code",
   "source": "orders_avg_diff_paid_no_outliers.boxplot(\"difference\")",
   "metadata": {
    "colab": {
     "base_uri": "https://localhost:8080/",
     "height": 447
    },
    "id": "-DwDdV1cOvrX",
    "outputId": "2605a006-af1e-468e-9bd8-c55f1d61cfc6",
    "executionInfo": {
     "status": "ok",
     "timestamp": 1757935268295,
     "user_tz": -120,
     "elapsed": 137,
     "user": {
      "displayName": "Kamran Zajkani",
      "userId": "00401105456302883825"
     }
    },
    "ExecuteTime": {
     "end_time": "2025-09-22T09:39:43.355874Z",
     "start_time": "2025-09-22T09:39:43.276494Z"
    }
   },
   "outputs": [
    {
     "data": {
      "text/plain": [
       "<Axes: >"
      ]
     },
     "execution_count": 40,
     "metadata": {},
     "output_type": "execute_result"
    },
    {
     "data": {
      "text/plain": [
       "<Figure size 640x480 with 1 Axes>"
      ],
      "image/png": "[encoded data removed]"
     },
     "metadata": {},
     "output_type": "display_data",
     "jetTransient": {
      "display_id": null
     }
    }
   ],
   "execution_count": 40
  },
  {
   "cell_type": "markdown",
   "source": [
    "This looks much more like what we would expect: a small difference, but nothing extreme.\n",
    "\n",
    "Now we need to remove these orders with extreme differences from our `orders_lines_merged` DataFrame."
   ],
   "metadata": {
    "id": "3RNO4PxFnVEX"
   }
  },
  {
   "cell_type": "code",
   "source": "normal_diff_list = orders_avg_diff_paid_no_outliers[\"order_id\"]",
   "metadata": {
    "id": "RgkgYSaJnpcP",
    "executionInfo": {
     "status": "ok",
     "timestamp": 1757935268295,
     "user_tz": -120,
     "elapsed": 4,
     "user": {
      "displayName": "Kamran Zajkani",
      "userId": "00401105456302883825"
     }
    },
    "ExecuteTime": {
     "end_time": "2025-09-22T09:39:43.386924Z",
     "start_time": "2025-09-22T09:39:43.382055Z"
    }
   },
   "outputs": [],
   "execution_count": 41
  },
  {
   "cell_type": "code",
   "source": [
    "orders_qu = orders_qu.loc[orders_qu[\"order_id\"].isin(normal_diff_list), :]\n",
    "orderlines_qu = orderlines_qu.loc[orderlines_qu[\"order_id\"].isin(normal_diff_list), :]\n",
    "revenue_per_orders = revenue_per_orders.loc[revenue_per_orders[\"order_id\"].isin(normal_diff_list), :]"
   ],
   "metadata": {
    "id": "OHRzuzV6ndcB",
    "executionInfo": {
     "status": "ok",
     "timestamp": 1757935268295,
     "user_tz": -120,
     "elapsed": 3,
     "user": {
      "displayName": "Kamran Zajkani",
      "userId": "00401105456302883825"
     }
    },
    "ExecuteTime": {
     "end_time": "2025-09-22T09:39:43.443649Z",
     "start_time": "2025-09-22T09:39:43.421240Z"
    }
   },
   "outputs": [],
   "execution_count": 42
  },
  {
   "cell_type": "code",
   "source": "orders_qu[\"order_id\"].nunique(), orderlines_qu[\"order_id\"].nunique()",
   "metadata": {
    "colab": {
     "base_uri": "https://localhost:8080/"
    },
    "id": "VXG1mqR0eKk2",
    "outputId": "eae87888-8396-45c1-ed82-389b7673637c",
    "executionInfo": {
     "status": "ok",
     "timestamp": 1757935268306,
     "user_tz": -120,
     "elapsed": 14,
     "user": {
      "displayName": "Kamran Zajkani",
      "userId": "00401105456302883825"
     }
    },
    "ExecuteTime": {
     "end_time": "2025-09-22T09:39:43.480651Z",
     "start_time": "2025-09-22T09:39:43.457286Z"
    }
   },
   "outputs": [
    {
     "data": {
      "text/plain": [
       "(40985, 40985)"
      ]
     },
     "execution_count": 43,
     "metadata": {},
     "output_type": "execute_result"
    }
   ],
   "execution_count": 43
  },
  {
   "metadata": {
    "ExecuteTime": {
     "end_time": "2025-09-22T09:39:43.502726Z",
     "start_time": "2025-09-22T09:39:43.498087Z"
    }
   },
   "cell_type": "code",
   "source": "orders_avg_diff_paid_no_outliers['difference'].min()",
   "outputs": [
    {
     "data": {
      "text/plain": [
       "np.float64(-5.000000000000114)"
      ]
     },
     "execution_count": 44,
     "metadata": {},
     "output_type": "execute_result"
    }
   ],
   "execution_count": 44
  },
  {
   "cell_type": "markdown",
   "source": "## 5.&nbsp; Now , the dataset is more confident",
   "metadata": {
    "id": "FWROzNEd8b8d"
   }
  },
  {
   "cell_type": "code",
   "source": [
    "# from google.colab import files\n",
    "#\n",
    "# orders_qu.to_csv(\"orders_qu.csv\", index=False)\n",
    "# files.download(\"orders_qu.csv\")\n",
    "#\n",
    "# orderlines_qu.to_csv(\"orderlines_qu.csv\", index=False)\n",
    "# files.download(\"orderlines_qu.csv\")\n",
    "\n",
    "orders_qu.to_csv(\"../data/quality-assessed-data/orders_qu.csv\")\n",
    "orderlines_qu.to_csv(\"../data/quality-assessed-data/orderlines_qu.csv\")\n",
    "products_qu.to_csv(\"../data/quality-assessed-data/products_qu.csv\")\n",
    "revenue_per_orders.to_csv(\"../data/quality-assessed-data/revenue_per_orders.csv\")\n",
    "orders_avg_diff_paid_no_outliers.to_csv(\"../data/quality-assessed-data/orders_avg_diff_paid_no_outliers.csv\")"
   ],
   "metadata": {
    "id": "gUcJc1E6sVOl",
    "colab": {
     "base_uri": "https://localhost:8080/",
     "height": 17
    },
    "outputId": "5774a588-5ab7-464a-c7ea-c1cf8219d3d7",
    "executionInfo": {
     "status": "ok",
     "timestamp": 1757935268683,
     "user_tz": -120,
     "elapsed": 335,
     "user": {
      "displayName": "Kamran Zajkani",
      "userId": "00401105456302883825"
     }
    },
    "ExecuteTime": {
     "end_time": "2025-09-22T09:39:43.888823Z",
     "start_time": "2025-09-22T09:39:43.527881Z"
    }
   },
   "outputs": [],
   "execution_count": 45
  },
  {
   "cell_type": "code",
   "source": [],
   "metadata": {
    "id": "MtugOTnscEkJ",
    "executionInfo": {
     "status": "ok",
     "timestamp": 1757935268691,
     "user_tz": -120,
     "elapsed": 1,
     "user": {
      "displayName": "Kamran Zajkani",
      "userId": "00401105456302883825"
     }
    },
    "ExecuteTime": {
     "end_time": "2025-09-22T09:39:43.912807Z",
     "start_time": "2025-09-22T09:39:43.895563Z"
    }
   },
   "outputs": [],
   "execution_count": null
  }
 ]
}
