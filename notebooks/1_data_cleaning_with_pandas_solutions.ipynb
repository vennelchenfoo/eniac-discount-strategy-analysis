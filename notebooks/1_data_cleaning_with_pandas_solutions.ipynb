{
 "nbformat": 4,
 "nbformat_minor": 0,
 "metadata": {
  "colab": {
   "provenance": [],
   "toc_visible": true
  },
  "kernelspec": {
   "name": "python3",
   "display_name": "Python 3 (ipykernel)",
   "language": "python"
  },
  "language_info": {
   "name": "python"
  }
 },
 "cells": [
  {
   "cell_type": "markdown",
   "source": [
    "# Data Cleaning\n",
    "\n",
    "In this notebook we'll go through the process of cleaning with the `orders` , `orderlines` and `products` datasets."
   ],
   "metadata": {
    "id": "kYo4UvcCvkUs"
   }
  },
  {
   "cell_type": "code",
   "metadata": {
    "id": "FgRIdUs1vcZ8",
    "executionInfo": {
     "status": "ok",
     "timestamp": 1757934740898,
     "user_tz": -120,
     "elapsed": 7,
     "user": {
      "displayName": "Kamran Zajkani",
      "userId": "00401105456302883825"
     }
    },
    "ExecuteTime": {
     "end_time": "2025-09-22T09:39:30.961378Z",
     "start_time": "2025-09-22T09:39:30.959194Z"
    }
   },
   "source": [
    "import pandas as pd"
   ],
   "outputs": [],
   "execution_count": 1
  },
  {
   "cell_type": "code",
   "source": [
    "pd.set_option('display.max_colwidth', None) # to increase the width of the columns"
   ],
   "metadata": {
    "id": "rCFadwwK6Ial",
    "executionInfo": {
     "status": "ok",
     "timestamp": 1757934740920,
     "user_tz": -120,
     "elapsed": 11,
     "user": {
      "displayName": "Kamran Zajkani",
      "userId": "00401105456302883825"
     }
    },
    "ExecuteTime": {
     "end_time": "2025-09-22T09:39:30.983607Z",
     "start_time": "2025-09-22T09:39:30.967256Z"
    }
   },
   "outputs": [],
   "execution_count": 2
  },
  {
   "metadata": {
    "id": "_87JoNgVviOG",
    "executionInfo": {
     "status": "ok",
     "timestamp": 1757934745245,
     "user_tz": -120,
     "elapsed": 4285,
     "user": {
      "displayName": "Kamran Zajkani",
      "userId": "00401105456302883825"
     }
    },
    "ExecuteTime": {
     "end_time": "2025-09-22T09:39:31.297689Z",
     "start_time": "2025-09-22T09:39:30.991972Z"
    }
   },
   "cell_type": "code",
   "source": [
    "# Load the datasets from Google Drive\n",
    "# # orders.csv\n",
    "# url = \"https://drive.google.com/file/d/1d0ATmRAa5z24ai0UkNgGVxvQ17_FNLoo/view?usp=sharing\"\n",
    "# path = \"https://drive.google.com/uc?export=download&id=\"+url.split(\"/\")[-2]\n",
    "# orders = pd.read_csv(path)\n",
    "#\n",
    "#\n",
    "# # orderlines.csv\n",
    "# url = \"https://drive.google.com/file/d/1GKErSdkADdYKIgeuDMdLBvNubip6Amoy/view?usp=sharing\"\n",
    "# path = \"https://drive.google.com/uc?export=download&id=\"+url.split(\"/\")[-2]\n",
    "# orderlines = pd.read_csv(path)\n",
    "#\n",
    "# # products.csv\n",
    "# url = \"https://drive.google.com/file/d/1y1XBUo2ZKTvc5uymVOHUxM5SsrrJF1yN/view?usp=sharing\"\n",
    "# path = \"https://drive.google.com/uc?export=download&id=\"+url.split(\"/\")[-2]\n",
    "# products = pd.read_csv(path)\n",
    "\n",
    "#-----------------------------\n",
    "# Load the datasets from Local\n",
    "path = \"../data/raw-data/orders.csv\"\n",
    "orders = pd.read_csv(path)\n",
    "\n",
    "path = \"../data/raw-data/orderlines.csv\"\n",
    "orderlines = pd.read_csv(path)\n",
    "\n",
    "path = \"../data/raw-data/products.csv\"\n",
    "products = pd.read_csv(path)"
   ],
   "outputs": [],
   "execution_count": 3
  },
  {
   "cell_type": "markdown",
   "source": "Before we begin, let's create a copy of the `orders` and `orderlines`  and `products` DataFrames. This way we are sure any of our changes won't affect the original DataFrames.",
   "metadata": {
    "id": "qS6O9HFLUgkU"
   }
  },
  {
   "cell_type": "code",
   "source": [
    "orders_df = orders.copy()"
   ],
   "metadata": {
    "id": "4QdMtar7_lrX",
    "executionInfo": {
     "status": "ok",
     "timestamp": 1757934745248,
     "user_tz": -120,
     "elapsed": 1,
     "user": {
      "displayName": "Kamran Zajkani",
      "userId": "00401105456302883825"
     }
    },
    "ExecuteTime": {
     "end_time": "2025-09-22T09:39:31.321229Z",
     "start_time": "2025-09-22T09:39:31.305131Z"
    }
   },
   "outputs": [],
   "execution_count": 4
  },
  {
   "cell_type": "code",
   "source": [
    "orderlines_df = orderlines.copy()\n",
    "products_df = products.copy()"
   ],
   "metadata": {
    "id": "oka4mnqU_mds",
    "executionInfo": {
     "status": "ok",
     "timestamp": 1757934745249,
     "user_tz": -120,
     "elapsed": 1,
     "user": {
      "displayName": "Kamran Zajkani",
      "userId": "00401105456302883825"
     }
    },
    "ExecuteTime": {
     "end_time": "2025-09-22T09:39:31.354765Z",
     "start_time": "2025-09-22T09:39:31.333527Z"
    }
   },
   "outputs": [],
   "execution_count": 5
  },
  {
   "cell_type": "markdown",
   "source": [
    "we begin data cleaning is by exploring using `.info()`. This will tell us:\n",
    "* The shape of the DataFrame\n",
    "* The names of the columns\n",
    "* If there are any missing values\n",
    "* The datatypes of the columns\n",
    "\n",
    "By exploring the missing values and correcting any incorrect datatypes, we often come across inconsistencies in our data.\n",
    "\n",
    "Beyond this, we should also have a **check for any duplicate rows**."
   ],
   "metadata": {
    "id": "fVLitYX1yhc6"
   }
  },
  {
   "cell_type": "markdown",
   "source": [
    "## 1.&nbsp; Duplicates\n",
    "We can check for duplicates using the pandas [.duplicated()](https://pandas.pydata.org/docs/reference/api/pandas.DataFrame.duplicated.html) method.\n",
    "\n",
    "We can then delete these rows, if we wish, using [.drop_duplicates()](https://pandas.pydata.org/docs/reference/api/pandas.DataFrame.drop_duplicates.html)"
   ],
   "metadata": {
    "id": "036ciQ6rwBJm"
   }
  },
  {
   "cell_type": "code",
   "source": [
    "# orders\n",
    "orders_df.duplicated().sum()"
   ],
   "metadata": {
    "colab": {
     "base_uri": "https://localhost:8080/"
    },
    "id": "6dVkoUu7wC-b",
    "outputId": "735addd7-2d76-4e1a-968e-b24ea4e4b300",
    "executionInfo": {
     "status": "ok",
     "timestamp": 1757934745336,
     "user_tz": -120,
     "elapsed": 87,
     "user": {
      "displayName": "Kamran Zajkani",
      "userId": "00401105456302883825"
     }
    },
    "ExecuteTime": {
     "end_time": "2025-09-22T09:39:31.422115Z",
     "start_time": "2025-09-22T09:39:31.368291Z"
    }
   },
   "outputs": [
    {
     "data": {
      "text/plain": [
       "np.int64(0)"
      ]
     },
     "execution_count": 6,
     "metadata": {},
     "output_type": "execute_result"
    }
   ],
   "execution_count": 6
  },
  {
   "cell_type": "code",
   "source": [
    "# orderlines\n",
    "orderlines_df.duplicated().sum()"
   ],
   "metadata": {
    "colab": {
     "base_uri": "https://localhost:8080/"
    },
    "id": "iaeAQB_3whli",
    "outputId": "f6395804-ff2b-4274-f65a-f97f6228e60e",
    "executionInfo": {
     "status": "ok",
     "timestamp": 1757934745538,
     "user_tz": -120,
     "elapsed": 201,
     "user": {
      "displayName": "Kamran Zajkani",
      "userId": "00401105456302883825"
     }
    },
    "ExecuteTime": {
     "end_time": "2025-09-22T09:39:31.502688Z",
     "start_time": "2025-09-22T09:39:31.432960Z"
    }
   },
   "outputs": [
    {
     "data": {
      "text/plain": [
       "np.int64(0)"
      ]
     },
     "execution_count": 7,
     "metadata": {},
     "output_type": "execute_result"
    }
   ],
   "execution_count": 7
  },
  {
   "metadata": {
    "ExecuteTime": {
     "end_time": "2025-09-22T09:39:31.547210Z",
     "start_time": "2025-09-22T09:39:31.513319Z"
    }
   },
   "cell_type": "code",
   "source": [
    "# products\n",
    "products_df.duplicated().sum()"
   ],
   "outputs": [
    {
     "data": {
      "text/plain": [
       "np.int64(8746)"
      ]
     },
     "execution_count": 8,
     "metadata": {},
     "output_type": "execute_result"
    }
   ],
   "execution_count": 8
  },
  {
   "cell_type": "code",
   "source": [
    "orders_df.info()"
   ],
   "metadata": {
    "colab": {
     "base_uri": "https://localhost:8080/"
    },
    "id": "_AAsMOTS2L9r",
    "outputId": "ecf84da1-f052-4a7b-8ded-29dba47ae8f7",
    "executionInfo": {
     "status": "ok",
     "timestamp": 1757934745585,
     "user_tz": -120,
     "elapsed": 47,
     "user": {
      "displayName": "Kamran Zajkani",
      "userId": "00401105456302883825"
     }
    },
    "ExecuteTime": {
     "end_time": "2025-09-22T09:39:31.571215Z",
     "start_time": "2025-09-22T09:39:31.555713Z"
    }
   },
   "outputs": [
    {
     "name": "stdout",
     "output_type": "stream",
     "text": [
      "<class 'pandas.core.frame.DataFrame'>\n",
      "RangeIndex: 226909 entries, 0 to 226908\n",
      "Data columns (total 4 columns):\n",
      " #   Column        Non-Null Count   Dtype  \n",
      "---  ------        --------------   -----  \n",
      " 0   order_id      226909 non-null  int64  \n",
      " 1   created_date  226909 non-null  object \n",
      " 2   total_paid    226904 non-null  float64\n",
      " 3   state         226909 non-null  object \n",
      "dtypes: float64(1), int64(1), object(2)\n",
      "memory usage: 6.9+ MB\n"
     ]
    }
   ],
   "execution_count": 9
  },
  {
   "cell_type": "markdown",
   "source": [
    "* `total_paid` has 5 missing values\n",
    "* `created_date` should become datetime datatype"
   ],
   "metadata": {
    "id": "Txm3Bv952UCb"
   }
  },
  {
   "cell_type": "code",
   "source": [
    "orderlines_df.info()"
   ],
   "metadata": {
    "colab": {
     "base_uri": "https://localhost:8080/"
    },
    "id": "kvDA-z032Rm2",
    "outputId": "a9ad851c-1fc5-4605-ff58-5e91e7130954",
    "executionInfo": {
     "status": "ok",
     "timestamp": 1757934745624,
     "user_tz": -120,
     "elapsed": 75,
     "user": {
      "displayName": "Kamran Zajkani",
      "userId": "00401105456302883825"
     }
    },
    "ExecuteTime": {
     "end_time": "2025-09-22T09:39:31.628883Z",
     "start_time": "2025-09-22T09:39:31.589463Z"
    }
   },
   "outputs": [
    {
     "name": "stdout",
     "output_type": "stream",
     "text": [
      "<class 'pandas.core.frame.DataFrame'>\n",
      "RangeIndex: 293983 entries, 0 to 293982\n",
      "Data columns (total 7 columns):\n",
      " #   Column            Non-Null Count   Dtype \n",
      "---  ------            --------------   ----- \n",
      " 0   id                293983 non-null  int64 \n",
      " 1   id_order          293983 non-null  int64 \n",
      " 2   product_id        293983 non-null  int64 \n",
      " 3   product_quantity  293983 non-null  int64 \n",
      " 4   sku               293983 non-null  object\n",
      " 5   unit_price        293983 non-null  object\n",
      " 6   date              293983 non-null  object\n",
      "dtypes: int64(4), object(3)\n",
      "memory usage: 15.7+ MB\n"
     ]
    }
   ],
   "execution_count": 10
  },
  {
   "cell_type": "markdown",
   "source": [
    "* `date` should be a datetime datatype\n",
    "* `unit_price` should be a float datatype"
   ],
   "metadata": {
    "id": "iLSpYm1G2sPD"
   }
  },
  {
   "metadata": {
    "ExecuteTime": {
     "end_time": "2025-09-22T09:39:31.646135Z",
     "start_time": "2025-09-22T09:39:31.637646Z"
    }
   },
   "cell_type": "code",
   "source": "products_df.info()",
   "outputs": [
    {
     "name": "stdout",
     "output_type": "stream",
     "text": [
      "<class 'pandas.core.frame.DataFrame'>\n",
      "RangeIndex: 19326 entries, 0 to 19325\n",
      "Data columns (total 7 columns):\n",
      " #   Column       Non-Null Count  Dtype \n",
      "---  ------       --------------  ----- \n",
      " 0   sku          19326 non-null  object\n",
      " 1   name         19326 non-null  object\n",
      " 2   desc         19319 non-null  object\n",
      " 3   price        19280 non-null  object\n",
      " 4   promo_price  19326 non-null  object\n",
      " 5   in_stock     19326 non-null  int64 \n",
      " 6   type         19276 non-null  object\n",
      "dtypes: int64(1), object(6)\n",
      "memory usage: 1.0+ MB\n"
     ]
    }
   ],
   "execution_count": 11
  },
  {
   "cell_type": "markdown",
   "source": [
    "## 3.&nbsp; Missing values"
   ],
   "metadata": {
    "id": "MlwJt5c-wiQh"
   }
  },
  {
   "cell_type": "markdown",
   "source": [
    "### 3.1.&nbsp; Orders\n",
    "* `total_paid` has 5 missing values"
   ],
   "metadata": {
    "id": "63eKHGzJwkuT"
   }
  },
  {
   "cell_type": "code",
   "source": [
    "print(f\"5 missing values represents {((orders_df.total_paid.isna().sum() / orders_df.shape[0])*100).round(5)}% of the rows in our DataFrame\")"
   ],
   "metadata": {
    "colab": {
     "base_uri": "https://localhost:8080/"
    },
    "id": "Yh81k3ppwl37",
    "outputId": "631dbed4-dd47-414f-a1a4-e86f0afadec1",
    "executionInfo": {
     "status": "ok",
     "timestamp": 1757934745627,
     "user_tz": -120,
     "elapsed": 3,
     "user": {
      "displayName": "Kamran Zajkani",
      "userId": "00401105456302883825"
     }
    },
    "ExecuteTime": {
     "end_time": "2025-09-22T09:39:31.672778Z",
     "start_time": "2025-09-22T09:39:31.669655Z"
    }
   },
   "outputs": [
    {
     "name": "stdout",
     "output_type": "stream",
     "text": [
      "5 missing values represents 0.0022% of the rows in our DataFrame\n"
     ]
    }
   ],
   "execution_count": 12
  },
  {
   "cell_type": "markdown",
   "source": [
    "A quick way to find out a percentage here, if you don't need to print out a sentence for yourself/students/colleagues is `.value_count(normalize=True)`"
   ],
   "metadata": {
    "id": "8s6q6JScX9QV"
   }
  },
  {
   "cell_type": "code",
   "source": [
    "orders_df.total_paid.isna().value_counts(normalize=True)"
   ],
   "metadata": {
    "colab": {
     "base_uri": "https://localhost:8080/",
     "height": 178
    },
    "id": "PJedh_tXX8jO",
    "outputId": "12ddbb60-827c-43d7-c089-e27d9b63de7c",
    "executionInfo": {
     "status": "ok",
     "timestamp": 1757934745645,
     "user_tz": -120,
     "elapsed": 17,
     "user": {
      "displayName": "Kamran Zajkani",
      "userId": "00401105456302883825"
     }
    },
    "ExecuteTime": {
     "end_time": "2025-09-22T09:39:31.715780Z",
     "start_time": "2025-09-22T09:39:31.710812Z"
    }
   },
   "outputs": [
    {
     "data": {
      "text/plain": [
       "total_paid\n",
       "False    0.999978\n",
       "True     0.000022\n",
       "Name: proportion, dtype: float64"
      ]
     },
     "execution_count": 13,
     "metadata": {},
     "output_type": "execute_result"
    }
   ],
   "execution_count": 13
  },
  {
   "cell_type": "markdown",
   "source": [
    "As there is such a tiny amount of missing values, we will simply delete these rows, as we have enough data without them."
   ],
   "metadata": {
    "id": "eMW6J-4v_iVM"
   }
  },
  {
   "cell_type": "code",
   "source": [
    "orders_df = orders_df.loc[~orders.total_paid.isna(), :]"
   ],
   "metadata": {
    "id": "ohcl2Pb2B_Ch",
    "executionInfo": {
     "status": "ok",
     "timestamp": 1757934745738,
     "user_tz": -120,
     "elapsed": 93,
     "user": {
      "displayName": "Kamran Zajkani",
      "userId": "00401105456302883825"
     }
    },
    "ExecuteTime": {
     "end_time": "2025-09-22T09:39:31.800168Z",
     "start_time": "2025-09-22T09:39:31.776027Z"
    }
   },
   "outputs": [],
   "execution_count": 14
  },
  {
   "cell_type": "markdown",
   "source": [
    "Should we have a significant number of missing values in the future, we have a choice:\n",
    "+ we can impute the values\n",
    "+ we can take the values from other DataFrames, if they are present there\n",
    "+ we can delete the values\n",
    "+ or any number of other creative solutions"
   ],
   "metadata": {
    "id": "AIWAR4xI_3jv"
   }
  },
  {
   "cell_type": "markdown",
   "source": [
    "### 3.2.&nbsp; Orderlines\n",
    "There are no missing values in `orderlines`"
   ],
   "metadata": {
    "id": "nziIE3hbwmNa"
   }
  },
  {
   "cell_type": "markdown",
   "source": [
    "## 4.&nbsp; Datatypes"
   ],
   "metadata": {
    "id": "_feog1aCwosJ"
   }
  },
  {
   "cell_type": "markdown",
   "source": [
    "### 4.1.&nbsp; Orders\n",
    "* `created_date` should become datetime datatype"
   ],
   "metadata": {
    "id": "wCJyQYkOwrBE"
   }
  },
  {
   "cell_type": "code",
   "source": [
    "orders_df[\"created_date\"] = pd.to_datetime(orders_df[\"created_date\"])"
   ],
   "metadata": {
    "id": "cF9roGlewr8j",
    "executionInfo": {
     "status": "ok",
     "timestamp": 1757934745761,
     "user_tz": -120,
     "elapsed": 14,
     "user": {
      "displayName": "Kamran Zajkani",
      "userId": "00401105456302883825"
     }
    },
    "ExecuteTime": {
     "end_time": "2025-09-22T09:39:31.856340Z",
     "start_time": "2025-09-22T09:39:31.812882Z"
    }
   },
   "outputs": [],
   "execution_count": 15
  },
  {
   "cell_type": "markdown",
   "source": [
    "### 4.1.&nbsp; Orderlines\n",
    "* `date` should be a datetime datatype\n",
    "* `unit_price` should be a float datatype"
   ],
   "metadata": {
    "id": "osvynBTNwsin"
   }
  },
  {
   "cell_type": "markdown",
   "source": [
    "#### 4.1.1.&nbsp; `date`"
   ],
   "metadata": {
    "id": "PJcuKn8K06Yd"
   }
  },
  {
   "cell_type": "code",
   "source": [
    "orderlines_df[\"date\"] = pd.to_datetime(orderlines_df[\"date\"])"
   ],
   "metadata": {
    "id": "FnXgRKERwtvS",
    "executionInfo": {
     "status": "ok",
     "timestamp": 1757934745853,
     "user_tz": -120,
     "elapsed": 93,
     "user": {
      "displayName": "Kamran Zajkani",
      "userId": "00401105456302883825"
     }
    },
    "ExecuteTime": {
     "end_time": "2025-09-22T09:39:31.910542Z",
     "start_time": "2025-09-22T09:39:31.863240Z"
    }
   },
   "outputs": [],
   "execution_count": 16
  },
  {
   "cell_type": "markdown",
   "source": [
    "#### 4.1.2.&nbsp;`unit_price`"
   ],
   "metadata": {
    "id": "F7i78NDY0-oF"
   }
  },
  {
   "cell_type": "code",
   "source": [
    "#orderlines_df[\"unit_price\"] = pd.to_numeric(orderlines_df[\"unit_price\"])"
   ],
   "metadata": {
    "id": "iOFBNmuRDuGU",
    "executionInfo": {
     "status": "ok",
     "timestamp": 1757934745858,
     "user_tz": -120,
     "elapsed": 4,
     "user": {
      "displayName": "Kamran Zajkani",
      "userId": "00401105456302883825"
     }
    },
    "ExecuteTime": {
     "end_time": "2025-09-22T09:39:31.942337Z",
     "start_time": "2025-09-22T09:39:31.923465Z"
    }
   },
   "outputs": [],
   "execution_count": 17
  },
  {
   "cell_type": "markdown",
   "source": "As you can see when we try to convert `unit_price` to a numerical datatype, we receive a `ValueError` telling us that pandas doesn't understand the number `1.137.99`. This is probably because numbers cannot have 2 decimal points. Let's see if there are any other numbers like this.",
   "metadata": {
    "id": "xEqhP5RFSmRi"
   }
  },
  {
   "cell_type": "code",
   "source": [
    "orderlines_df.unit_price.str.contains(\"\\d+\\.\\d+\\.\\d+\").value_counts()"
   ],
   "metadata": {
    "id": "ONy-oCt0SkrR",
    "colab": {
     "base_uri": "https://localhost:8080/",
     "height": 247
    },
    "outputId": "46954a04-0137-4492-fe17-378d658c09f8",
    "executionInfo": {
     "status": "ok",
     "timestamp": 1757934746080,
     "user_tz": -120,
     "elapsed": 213,
     "user": {
      "displayName": "Kamran Zajkani",
      "userId": "00401105456302883825"
     }
    },
    "ExecuteTime": {
     "end_time": "2025-09-22T09:39:32.051485Z",
     "start_time": "2025-09-22T09:39:31.949847Z"
    }
   },
   "outputs": [
    {
     "data": {
      "text/plain": [
       "unit_price\n",
       "False    257814\n",
       "True      36169\n",
       "Name: count, dtype: int64"
      ]
     },
     "execution_count": 18,
     "metadata": {},
     "output_type": "execute_result"
    }
   ],
   "execution_count": 18
  },
  {
   "cell_type": "markdown",
   "source": [
    "Looks like over 36000 rows in `orderlines` are affected by this problem. Let's work out how much that is as a percentage of our total data."
   ],
   "metadata": {
    "id": "HSUPvFJU6Jv-"
   }
  },
  {
   "cell_type": "code",
   "source": [
    "two_dot_percentage = ((orderlines_df.unit_price.str.contains(\"\\d+\\.\\d+\\.\\d+\").value_counts().iloc[1] / orderlines_df.shape[0])*100).round(2)\n",
    "print(f\"The 2 dot problem represents {two_dot_percentage}% of the rows in our DataFrame\")"
   ],
   "metadata": {
    "id": "r75Rm1EgVjpi",
    "colab": {
     "base_uri": "https://localhost:8080/"
    },
    "outputId": "dc29cb15-2802-4eb3-f374-d468b90f3093",
    "executionInfo": {
     "status": "ok",
     "timestamp": 1757934746229,
     "user_tz": -120,
     "elapsed": 150,
     "user": {
      "displayName": "Kamran Zajkani",
      "userId": "00401105456302883825"
     }
    },
    "ExecuteTime": {
     "end_time": "2025-09-22T09:39:32.175268Z",
     "start_time": "2025-09-22T09:39:32.058895Z"
    }
   },
   "outputs": [
    {
     "name": "stdout",
     "output_type": "stream",
     "text": [
      "The 2 dot problem represents 12.3% of the rows in our DataFrame\n"
     ]
    }
   ],
   "execution_count": 19
  },
  {
   "cell_type": "markdown",
   "source": [
    "This is a bit of a tricky decision as 12.3% is a significant amount of our data... and we might even end up losing a larger portion of our data than this too. For the moment we will delete the rows, and I'd like some quick, accurate results to show. If we have time at the end, we can come back and investigate this problem further, maybe there's a solution?\n",
    "\n",
    "Each row of `orderlines` represents a product in an order. For example, if order number 175 contained 3 seperate products, then order 175 would have 3 rows in `orderlines`, one row for each of the products. If 2 of those products have 'normal' prices (14.99, 15.85) and 1 has a price with 2 decimal points (1.137.99), we need to remove the whole order and not just the affected row. If we only remove the row with 2 decimal places then any later analysis about products and prices could be misleading.\n",
    "\n",
    "We therefore need to find the order numbers associated with the rows that have 2 decimal points, and then remove all the associated rows."
   ],
   "metadata": {
    "id": "5Kp9_4pqeu5J"
   }
  },
  {
   "cell_type": "code",
   "source": [
    "two_dot_order_ids_list = orderlines_df.loc[orderlines_df.unit_price.str.contains(\"\\d+\\.\\d+\\.\\d+\"), \"id_order\"]\n",
    "\n",
    "orderlines_df = orderlines_df.loc[~orderlines_df.id_order.isin(two_dot_order_ids_list)]"
   ],
   "metadata": {
    "id": "wQnSe-n1WCqv",
    "colab": {
     "base_uri": "https://localhost:8080/"
    },
    "executionInfo": {
     "status": "ok",
     "timestamp": 1757934746436,
     "user_tz": -120,
     "elapsed": 207,
     "user": {
      "displayName": "Kamran Zajkani",
      "userId": "00401105456302883825"
     }
    },
    "outputId": "3be18b61-a172-4aae-d541-6bb9c713e3e0",
    "ExecuteTime": {
     "end_time": "2025-09-22T09:39:32.309903Z",
     "start_time": "2025-09-22T09:39:32.187628Z"
    }
   },
   "outputs": [],
   "execution_count": 20
  },
  {
   "cell_type": "code",
   "source": [
    "orderlines_df.shape[0]"
   ],
   "metadata": {
    "id": "k-GLzXuV0Ioj",
    "colab": {
     "base_uri": "https://localhost:8080/"
    },
    "outputId": "dde20790-6403-41ed-8b89-ba690d00fbfc",
    "executionInfo": {
     "status": "ok",
     "timestamp": 1757934746505,
     "user_tz": -120,
     "elapsed": 64,
     "user": {
      "displayName": "Kamran Zajkani",
      "userId": "00401105456302883825"
     }
    },
    "ExecuteTime": {
     "end_time": "2025-09-22T09:39:32.346891Z",
     "start_time": "2025-09-22T09:39:32.325648Z"
    }
   },
   "outputs": [
    {
     "data": {
      "text/plain": [
       "216250"
      ]
     },
     "execution_count": 21,
     "metadata": {},
     "output_type": "execute_result"
    }
   ],
   "execution_count": 21
  },
  {
   "cell_type": "markdown",
   "source": [
    "We still have 216250 rows in orderlines to work with. This should be more than enough for our evaluation.\n",
    "\n",
    "Now that all of the 2 decimal point prices have been removed, let's try again to convert the column `unit_price` to the correct datatype."
   ],
   "metadata": {
    "id": "2pd5t4110iz3"
   }
  },
  {
   "cell_type": "code",
   "source": [
    "orderlines_df[\"unit_price\"] = pd.to_numeric(orderlines_df[\"unit_price\"])"
   ],
   "metadata": {
    "id": "Q4eDTAPs1HMZ",
    "executionInfo": {
     "status": "ok",
     "timestamp": 1757934746594,
     "user_tz": -120,
     "elapsed": 90,
     "user": {
      "displayName": "Kamran Zajkani",
      "userId": "00401105456302883825"
     }
    },
    "ExecuteTime": {
     "end_time": "2025-09-22T09:39:32.439538Z",
     "start_time": "2025-09-22T09:39:32.377790Z"
    }
   },
   "outputs": [],
   "execution_count": 22
  },
  {
   "cell_type": "markdown",
   "source": [
    "It worked perfectly"
   ],
   "metadata": {
    "id": "sBudIQLm6oJQ"
   }
  },
  {
   "cell_type": "markdown",
   "source": [
    "# Clean the `products` DataFrame\n",
    "We begin here to clean the products DataFrame."
   ],
   "metadata": {
    "id": "1zGAzgIX8_-D"
   }
  },
  {
   "cell_type": "code",
   "source": [
    "products_df.info()"
   ],
   "metadata": {
    "id": "per_bjhcO0_L",
    "colab": {
     "base_uri": "https://localhost:8080/"
    },
    "outputId": "bbe10f11-163b-418c-e399-30b9bab33d38",
    "executionInfo": {
     "status": "ok",
     "timestamp": 1757934748233,
     "user_tz": -120,
     "elapsed": 16,
     "user": {
      "displayName": "Kamran Zajkani",
      "userId": "00401105456302883825"
     }
    },
    "ExecuteTime": {
     "end_time": "2025-09-22T09:39:32.486386Z",
     "start_time": "2025-09-22T09:39:32.454218Z"
    }
   },
   "outputs": [
    {
     "name": "stdout",
     "output_type": "stream",
     "text": [
      "<class 'pandas.core.frame.DataFrame'>\n",
      "RangeIndex: 19326 entries, 0 to 19325\n",
      "Data columns (total 7 columns):\n",
      " #   Column       Non-Null Count  Dtype \n",
      "---  ------       --------------  ----- \n",
      " 0   sku          19326 non-null  object\n",
      " 1   name         19326 non-null  object\n",
      " 2   desc         19319 non-null  object\n",
      " 3   price        19280 non-null  object\n",
      " 4   promo_price  19326 non-null  object\n",
      " 5   in_stock     19326 non-null  int64 \n",
      " 6   type         19276 non-null  object\n",
      "dtypes: int64(1), object(6)\n",
      "memory usage: 1.0+ MB\n"
     ]
    }
   ],
   "execution_count": 23
  },
  {
   "metadata": {},
   "cell_type": "markdown",
   "source": [
    "We'll go through the steps above in order\n",
    "* Duplicates\n",
    "* Missing values\n",
    "* Datatypes\n",
    "\n",
    "But I think we can all see straight away from `products.head()` above that some of the prices in `promo_price` look wrong. Let's make sure we deal with this later."
   ]
  },
  {
   "cell_type": "markdown",
   "source": [
    "## Duplicates"
   ],
   "metadata": {
    "id": "DyTfC-WY-IWe"
   }
  },
  {
   "cell_type": "code",
   "source": [
    "products_df.duplicated().sum()"
   ],
   "metadata": {
    "id": "7WzmgCuz9X1x",
    "colab": {
     "base_uri": "https://localhost:8080/"
    },
    "outputId": "3312325a-7e20-4d76-b654-4c6f899f2cb7",
    "executionInfo": {
     "status": "ok",
     "timestamp": 1757934748273,
     "user_tz": -120,
     "elapsed": 39,
     "user": {
      "displayName": "Kamran Zajkani",
      "userId": "00401105456302883825"
     }
    },
    "ExecuteTime": {
     "end_time": "2025-09-22T09:39:32.527136Z",
     "start_time": "2025-09-22T09:39:32.494238Z"
    }
   },
   "outputs": [
    {
     "data": {
      "text/plain": [
       "np.int64(8746)"
      ]
     },
     "execution_count": 24,
     "metadata": {},
     "output_type": "execute_result"
    }
   ],
   "execution_count": 24
  },
  {
   "cell_type": "markdown",
   "source": [
    "Wow, that's a lot of duplicates. Let's get rid of them."
   ],
   "metadata": {
    "id": "goe2v94N-Oyk"
   }
  },
  {
   "cell_type": "code",
   "source": [
    "products_df = products_df.drop_duplicates()"
   ],
   "metadata": {
    "id": "aP-EeieW-N5i",
    "executionInfo": {
     "status": "ok",
     "timestamp": 1757934748325,
     "user_tz": -120,
     "elapsed": 64,
     "user": {
      "displayName": "Kamran Zajkani",
      "userId": "00401105456302883825"
     }
    },
    "ExecuteTime": {
     "end_time": "2025-09-22T09:39:32.568389Z",
     "start_time": "2025-09-22T09:39:32.535222Z"
    }
   },
   "outputs": [],
   "execution_count": 25
  },
  {
   "cell_type": "code",
   "source": [
    "products_df"
   ],
   "metadata": {
    "colab": {
     "base_uri": "https://localhost:8080/",
     "height": 527
    },
    "id": "i8kUJuWqbVXG",
    "outputId": "85699e3a-c0e0-4a9a-e984-c7ccbbb106e4",
    "executionInfo": {
     "status": "ok",
     "timestamp": 1757934748402,
     "user_tz": -120,
     "elapsed": 76,
     "user": {
      "displayName": "Kamran Zajkani",
      "userId": "00401105456302883825"
     }
    },
    "ExecuteTime": {
     "end_time": "2025-09-22T09:39:32.623136Z",
     "start_time": "2025-09-22T09:39:32.614901Z"
    }
   },
   "outputs": [
    {
     "data": {
      "text/plain": [
       "           sku                                           name  \\\n",
       "0      RAI0007              Silver Rain Design mStand Support   \n",
       "1      APP0023              Apple Mac Keyboard Keypad Spanish   \n",
       "2      APP0025               Mighty Mouse Apple Mouse for Mac   \n",
       "3      APP0072  Apple Dock to USB Cable iPhone and iPod white   \n",
       "4      KIN0007    Mac Memory Kingston 2GB 667MHz DDR2 SO-DIMM   \n",
       "...        ...                                            ...   \n",
       "19321  BEL0376        Belkin Travel Support Apple Watch Black   \n",
       "19322  THU0060   Enroute Thule 14L Backpack MacBook 13 \"Black   \n",
       "19323  THU0061    Enroute Thule 14L Backpack MacBook 13 \"Blue   \n",
       "19324  THU0062     Enroute Thule 14L Backpack MacBook 13 \"Red   \n",
       "19325  THU0063   Enroute Thule 14L Backpack MacBook 13 \"Green   \n",
       "\n",
       "                                                                                                desc  \\\n",
       "0                                                       Aluminum support compatible with all MacBook   \n",
       "1                                                          USB ultrathin keyboard Apple Mac Spanish.   \n",
       "2                                                                             mouse Apple USB cable.   \n",
       "3                                                              IPhone dock and USB Cable Apple iPod.   \n",
       "4                                      2GB RAM Mac mini and iMac (2006/07) MacBook Pro (2006/07/08).   \n",
       "...                                                                                              ...   \n",
       "19321                          compact and portable stand vertically or horizontally for Apple Watch   \n",
       "19322  Backpack with capacity of 14 liter compartments MacBook up to 13 inches up to 10 inches Cases   \n",
       "19323  Backpack with capacity of 14 liter compartments MacBook up to 13 inches up to 10 inches Cases   \n",
       "19324  Backpack with capacity of 14 liter compartments MacBook up to 13 inches up to 10 inches Cases   \n",
       "19325  Backpack with capacity of 14 liter compartments MacBook up to 13 inches up to 10 inches Cases   \n",
       "\n",
       "       price promo_price  in_stock      type  \n",
       "0      59.99     499.899         1      8696  \n",
       "1         59     589.996         0  13855401  \n",
       "2         59     569.898         0      1387  \n",
       "3         25     229.997         0      1230  \n",
       "4      34.99       31.99         1      1364  \n",
       "...      ...         ...       ...       ...  \n",
       "19321  29.99     269.903         1     12282  \n",
       "19322  69.95     649.903         1      1392  \n",
       "19323  69.95     649.903         1      1392  \n",
       "19324  69.95     649.903         0      1392  \n",
       "19325  69.95     649.903         1      1392  \n",
       "\n",
       "[10580 rows x 7 columns]"
      ],
      "text/html": [
       "<div>\n",
       "<style scoped>\n",
       "    .dataframe tbody tr th:only-of-type {\n",
       "        vertical-align: middle;\n",
       "    }\n",
       "\n",
       "    .dataframe tbody tr th {\n",
       "        vertical-align: top;\n",
       "    }\n",
       "\n",
       "    .dataframe thead th {\n",
       "        text-align: right;\n",
       "    }\n",
       "</style>\n",
       "<table border=\"1\" class=\"dataframe\">\n",
       "  <thead>\n",
       "    <tr style=\"text-align: right;\">\n",
       "      <th></th>\n",
       "      <th>sku</th>\n",
       "      <th>name</th>\n",
       "      <th>desc</th>\n",
       "      <th>price</th>\n",
       "      <th>promo_price</th>\n",
       "      <th>in_stock</th>\n",
       "      <th>type</th>\n",
       "    </tr>\n",
       "  </thead>\n",
       "  <tbody>\n",
       "    <tr>\n",
       "      <th>0</th>\n",
       "      <td>RAI0007</td>\n",
       "      <td>Silver Rain Design mStand Support</td>\n",
       "      <td>Aluminum support compatible with all MacBook</td>\n",
       "      <td>59.99</td>\n",
       "      <td>499.899</td>\n",
       "      <td>1</td>\n",
       "      <td>8696</td>\n",
       "    </tr>\n",
       "    <tr>\n",
       "      <th>1</th>\n",
       "      <td>APP0023</td>\n",
       "      <td>Apple Mac Keyboard Keypad Spanish</td>\n",
       "      <td>USB ultrathin keyboard Apple Mac Spanish.</td>\n",
       "      <td>59</td>\n",
       "      <td>589.996</td>\n",
       "      <td>0</td>\n",
       "      <td>13855401</td>\n",
       "    </tr>\n",
       "    <tr>\n",
       "      <th>2</th>\n",
       "      <td>APP0025</td>\n",
       "      <td>Mighty Mouse Apple Mouse for Mac</td>\n",
       "      <td>mouse Apple USB cable.</td>\n",
       "      <td>59</td>\n",
       "      <td>569.898</td>\n",
       "      <td>0</td>\n",
       "      <td>1387</td>\n",
       "    </tr>\n",
       "    <tr>\n",
       "      <th>3</th>\n",
       "      <td>APP0072</td>\n",
       "      <td>Apple Dock to USB Cable iPhone and iPod white</td>\n",
       "      <td>IPhone dock and USB Cable Apple iPod.</td>\n",
       "      <td>25</td>\n",
       "      <td>229.997</td>\n",
       "      <td>0</td>\n",
       "      <td>1230</td>\n",
       "    </tr>\n",
       "    <tr>\n",
       "      <th>4</th>\n",
       "      <td>KIN0007</td>\n",
       "      <td>Mac Memory Kingston 2GB 667MHz DDR2 SO-DIMM</td>\n",
       "      <td>2GB RAM Mac mini and iMac (2006/07) MacBook Pro (2006/07/08).</td>\n",
       "      <td>34.99</td>\n",
       "      <td>31.99</td>\n",
       "      <td>1</td>\n",
       "      <td>1364</td>\n",
       "    </tr>\n",
       "    <tr>\n",
       "      <th>...</th>\n",
       "      <td>...</td>\n",
       "      <td>...</td>\n",
       "      <td>...</td>\n",
       "      <td>...</td>\n",
       "      <td>...</td>\n",
       "      <td>...</td>\n",
       "      <td>...</td>\n",
       "    </tr>\n",
       "    <tr>\n",
       "      <th>19321</th>\n",
       "      <td>BEL0376</td>\n",
       "      <td>Belkin Travel Support Apple Watch Black</td>\n",
       "      <td>compact and portable stand vertically or horizontally for Apple Watch</td>\n",
       "      <td>29.99</td>\n",
       "      <td>269.903</td>\n",
       "      <td>1</td>\n",
       "      <td>12282</td>\n",
       "    </tr>\n",
       "    <tr>\n",
       "      <th>19322</th>\n",
       "      <td>THU0060</td>\n",
       "      <td>Enroute Thule 14L Backpack MacBook 13 \"Black</td>\n",
       "      <td>Backpack with capacity of 14 liter compartments MacBook up to 13 inches up to 10 inches Cases</td>\n",
       "      <td>69.95</td>\n",
       "      <td>649.903</td>\n",
       "      <td>1</td>\n",
       "      <td>1392</td>\n",
       "    </tr>\n",
       "    <tr>\n",
       "      <th>19323</th>\n",
       "      <td>THU0061</td>\n",
       "      <td>Enroute Thule 14L Backpack MacBook 13 \"Blue</td>\n",
       "      <td>Backpack with capacity of 14 liter compartments MacBook up to 13 inches up to 10 inches Cases</td>\n",
       "      <td>69.95</td>\n",
       "      <td>649.903</td>\n",
       "      <td>1</td>\n",
       "      <td>1392</td>\n",
       "    </tr>\n",
       "    <tr>\n",
       "      <th>19324</th>\n",
       "      <td>THU0062</td>\n",
       "      <td>Enroute Thule 14L Backpack MacBook 13 \"Red</td>\n",
       "      <td>Backpack with capacity of 14 liter compartments MacBook up to 13 inches up to 10 inches Cases</td>\n",
       "      <td>69.95</td>\n",
       "      <td>649.903</td>\n",
       "      <td>0</td>\n",
       "      <td>1392</td>\n",
       "    </tr>\n",
       "    <tr>\n",
       "      <th>19325</th>\n",
       "      <td>THU0063</td>\n",
       "      <td>Enroute Thule 14L Backpack MacBook 13 \"Green</td>\n",
       "      <td>Backpack with capacity of 14 liter compartments MacBook up to 13 inches up to 10 inches Cases</td>\n",
       "      <td>69.95</td>\n",
       "      <td>649.903</td>\n",
       "      <td>1</td>\n",
       "      <td>1392</td>\n",
       "    </tr>\n",
       "  </tbody>\n",
       "</table>\n",
       "<p>10580 rows × 7 columns</p>\n",
       "</div>"
      ]
     },
     "execution_count": 26,
     "metadata": {},
     "output_type": "execute_result"
    }
   ],
   "execution_count": 26
  },
  {
   "cell_type": "markdown",
   "source": [
    "## `.info()`"
   ],
   "metadata": {
    "id": "kAgpknOR-zAg"
   }
  },
  {
   "cell_type": "code",
   "source": [
    "products_df.info()"
   ],
   "metadata": {
    "id": "MXZXRvUa_GTW",
    "colab": {
     "base_uri": "https://localhost:8080/"
    },
    "outputId": "9157d493-9ccb-44f1-948c-c1ca0e179044",
    "executionInfo": {
     "status": "ok",
     "timestamp": 1757934748406,
     "user_tz": -120,
     "elapsed": 7,
     "user": {
      "displayName": "Kamran Zajkani",
      "userId": "00401105456302883825"
     }
    },
    "ExecuteTime": {
     "end_time": "2025-09-22T09:39:32.658749Z",
     "start_time": "2025-09-22T09:39:32.651596Z"
    }
   },
   "outputs": [
    {
     "name": "stdout",
     "output_type": "stream",
     "text": [
      "<class 'pandas.core.frame.DataFrame'>\n",
      "Index: 10580 entries, 0 to 19325\n",
      "Data columns (total 7 columns):\n",
      " #   Column       Non-Null Count  Dtype \n",
      "---  ------       --------------  ----- \n",
      " 0   sku          10580 non-null  object\n",
      " 1   name         10580 non-null  object\n",
      " 2   desc         10573 non-null  object\n",
      " 3   price        10534 non-null  object\n",
      " 4   promo_price  10580 non-null  object\n",
      " 5   in_stock     10580 non-null  int64 \n",
      " 6   type         10530 non-null  object\n",
      "dtypes: int64(1), object(6)\n",
      "memory usage: 661.2+ KB\n"
     ]
    }
   ],
   "execution_count": 27
  },
  {
   "cell_type": "markdown",
   "source": [
    "### Missing values\n",
    "We can see from `.info()` above that we have missing values in `desc` and `price`"
   ],
   "metadata": {
    "id": "XTGqkqtm--ln"
   }
  },
  {
   "cell_type": "markdown",
   "source": [
    "#### `desc`"
   ],
   "metadata": {
    "id": "LnW3DuWh_ZFr"
   }
  },
  {
   "cell_type": "code",
   "source": [
    "products_df[\"desc\"].isna().sum()"
   ],
   "metadata": {
    "id": "1cS0Zz9kSNrr",
    "colab": {
     "base_uri": "https://localhost:8080/"
    },
    "outputId": "73620696-ac05-4e22-812c-1f87c18b03e6",
    "executionInfo": {
     "status": "ok",
     "timestamp": 1757934748433,
     "user_tz": -120,
     "elapsed": 31,
     "user": {
      "displayName": "Kamran Zajkani",
      "userId": "00401105456302883825"
     }
    },
    "ExecuteTime": {
     "end_time": "2025-09-22T09:39:32.686226Z",
     "start_time": "2025-09-22T09:39:32.682228Z"
    }
   },
   "outputs": [
    {
     "data": {
      "text/plain": [
       "np.int64(7)"
      ]
     },
     "execution_count": 28,
     "metadata": {},
     "output_type": "execute_result"
    }
   ],
   "execution_count": 28
  },
  {
   "cell_type": "markdown",
   "source": [
    "7 is a very small number to have missing, let's have a closer look"
   ],
   "metadata": {
    "id": "tiRskHsWlrqC"
   }
  },
  {
   "cell_type": "code",
   "source": [
    "products_df.loc[products_df['desc'].isna(), :]"
   ],
   "metadata": {
    "id": "eK9_QN6H-klR",
    "colab": {
     "base_uri": "https://localhost:8080/",
     "height": 269
    },
    "outputId": "a39e6dd0-1ab3-433b-baa5-fe76017cf4c6",
    "executionInfo": {
     "status": "ok",
     "timestamp": 1757934748434,
     "user_tz": -120,
     "elapsed": 4,
     "user": {
      "displayName": "Kamran Zajkani",
      "userId": "00401105456302883825"
     }
    },
    "ExecuteTime": {
     "end_time": "2025-09-22T09:39:32.759518Z",
     "start_time": "2025-09-22T09:39:32.737402Z"
    }
   },
   "outputs": [
    {
     "data": {
      "text/plain": [
       "             sku  \\\n",
       "16126  WDT0211-A   \n",
       "16128  APP1622-A   \n",
       "17843    PAC2334   \n",
       "18152  KAN0034-A   \n",
       "18490    HTE0025   \n",
       "18612    OTT0200   \n",
       "18690  HOW0001-A   \n",
       "\n",
       "                                                                                name  \\\n",
       "16126                    Open - Purple 2TB WD 35 \"PC Security Mac hard drive and NAS   \n",
       "16128                      Open - Apple Smart Keyboard Pro Keyboard Folio iPad 9.7 \"   \n",
       "17843                                         Synology DS718 + NAS Server | 10GB RAM   \n",
       "18152                       Open - Kanex USB-C Gigabit Ethernet Adapter MacBook 12 \"   \n",
       "18490                    Hyper Pearl 1600mAh battery Mini USB Mirror and Comic Blond   \n",
       "18612                                OtterBox External Battery Power Pack 20000 mAHr   \n",
       "18690  Open - Honeywell thermostat Lyric zonificador T6 Intelligent Wireless (cable)   \n",
       "\n",
       "      desc      price promo_price  in_stock      type  \n",
       "16126  NaN        107     814.659         0      1298  \n",
       "16128  NaN  1.568.206   1.568.206         0      1298  \n",
       "17843  NaN     566.35   5.659.896         0  12175397  \n",
       "18152  NaN      29.99     237.925         0      1298  \n",
       "18490  NaN      24.99       22.99         1      1515  \n",
       "18612  NaN      79.99       56.99         1      1515  \n",
       "18690  NaN     199.99   1.441.174         0  11905404  "
      ],
      "text/html": [
       "<div>\n",
       "<style scoped>\n",
       "    .dataframe tbody tr th:only-of-type {\n",
       "        vertical-align: middle;\n",
       "    }\n",
       "\n",
       "    .dataframe tbody tr th {\n",
       "        vertical-align: top;\n",
       "    }\n",
       "\n",
       "    .dataframe thead th {\n",
       "        text-align: right;\n",
       "    }\n",
       "</style>\n",
       "<table border=\"1\" class=\"dataframe\">\n",
       "  <thead>\n",
       "    <tr style=\"text-align: right;\">\n",
       "      <th></th>\n",
       "      <th>sku</th>\n",
       "      <th>name</th>\n",
       "      <th>desc</th>\n",
       "      <th>price</th>\n",
       "      <th>promo_price</th>\n",
       "      <th>in_stock</th>\n",
       "      <th>type</th>\n",
       "    </tr>\n",
       "  </thead>\n",
       "  <tbody>\n",
       "    <tr>\n",
       "      <th>16126</th>\n",
       "      <td>WDT0211-A</td>\n",
       "      <td>Open - Purple 2TB WD 35 \"PC Security Mac hard drive and NAS</td>\n",
       "      <td>NaN</td>\n",
       "      <td>107</td>\n",
       "      <td>814.659</td>\n",
       "      <td>0</td>\n",
       "      <td>1298</td>\n",
       "    </tr>\n",
       "    <tr>\n",
       "      <th>16128</th>\n",
       "      <td>APP1622-A</td>\n",
       "      <td>Open - Apple Smart Keyboard Pro Keyboard Folio iPad 9.7 \"</td>\n",
       "      <td>NaN</td>\n",
       "      <td>1.568.206</td>\n",
       "      <td>1.568.206</td>\n",
       "      <td>0</td>\n",
       "      <td>1298</td>\n",
       "    </tr>\n",
       "    <tr>\n",
       "      <th>17843</th>\n",
       "      <td>PAC2334</td>\n",
       "      <td>Synology DS718 + NAS Server | 10GB RAM</td>\n",
       "      <td>NaN</td>\n",
       "      <td>566.35</td>\n",
       "      <td>5.659.896</td>\n",
       "      <td>0</td>\n",
       "      <td>12175397</td>\n",
       "    </tr>\n",
       "    <tr>\n",
       "      <th>18152</th>\n",
       "      <td>KAN0034-A</td>\n",
       "      <td>Open - Kanex USB-C Gigabit Ethernet Adapter MacBook 12 \"</td>\n",
       "      <td>NaN</td>\n",
       "      <td>29.99</td>\n",
       "      <td>237.925</td>\n",
       "      <td>0</td>\n",
       "      <td>1298</td>\n",
       "    </tr>\n",
       "    <tr>\n",
       "      <th>18490</th>\n",
       "      <td>HTE0025</td>\n",
       "      <td>Hyper Pearl 1600mAh battery Mini USB Mirror and Comic Blond</td>\n",
       "      <td>NaN</td>\n",
       "      <td>24.99</td>\n",
       "      <td>22.99</td>\n",
       "      <td>1</td>\n",
       "      <td>1515</td>\n",
       "    </tr>\n",
       "    <tr>\n",
       "      <th>18612</th>\n",
       "      <td>OTT0200</td>\n",
       "      <td>OtterBox External Battery Power Pack 20000 mAHr</td>\n",
       "      <td>NaN</td>\n",
       "      <td>79.99</td>\n",
       "      <td>56.99</td>\n",
       "      <td>1</td>\n",
       "      <td>1515</td>\n",
       "    </tr>\n",
       "    <tr>\n",
       "      <th>18690</th>\n",
       "      <td>HOW0001-A</td>\n",
       "      <td>Open - Honeywell thermostat Lyric zonificador T6 Intelligent Wireless (cable)</td>\n",
       "      <td>NaN</td>\n",
       "      <td>199.99</td>\n",
       "      <td>1.441.174</td>\n",
       "      <td>0</td>\n",
       "      <td>11905404</td>\n",
       "    </tr>\n",
       "  </tbody>\n",
       "</table>\n",
       "</div>"
      ]
     },
     "execution_count": 29,
     "metadata": {},
     "output_type": "execute_result"
    }
   ],
   "execution_count": 29
  },
  {
   "cell_type": "markdown",
   "source": [
    "We have 2 choices here:\n",
    "* We can quickly and easily remove these rows.\n",
    "* Or, alternatively, the products names here are quite descriptive, so I'm tempted to just copy them to the description column, so that there is a description if we later want utilise this column. I wouldn't recommend this if this DataFrame was the source of truth for our website. But this is not the case here, and we're not faking any information (guessing a price or so), so I'm happy with this option"
   ],
   "metadata": {
    "id": "PlFfSOI5_zTB"
   }
  },
  {
   "cell_type": "code",
   "source": [
    "products_df.loc[products_df['desc'].isna(), 'desc'] = products_df.loc[products_df['desc'].isna(), 'name']"
   ],
   "metadata": {
    "id": "Tu_ZH5e0PZ4W",
    "executionInfo": {
     "status": "ok",
     "timestamp": 1757934748479,
     "user_tz": -120,
     "elapsed": 45,
     "user": {
      "displayName": "Kamran Zajkani",
      "userId": "00401105456302883825"
     }
    },
    "ExecuteTime": {
     "end_time": "2025-09-22T09:39:32.787499Z",
     "start_time": "2025-09-22T09:39:32.781607Z"
    }
   },
   "outputs": [],
   "execution_count": 30
  },
  {
   "cell_type": "code",
   "source": [
    "products_df.loc[products_df['desc'].isna(), :]"
   ],
   "metadata": {
    "colab": {
     "base_uri": "https://localhost:8080/",
     "height": 53
    },
    "id": "sGYPGy8xzW0v",
    "outputId": "6bd8db62-c2ad-4dff-e7e9-30bfff62e85d",
    "executionInfo": {
     "status": "ok",
     "timestamp": 1757934748482,
     "user_tz": -120,
     "elapsed": 2,
     "user": {
      "displayName": "Kamran Zajkani",
      "userId": "00401105456302883825"
     }
    },
    "ExecuteTime": {
     "end_time": "2025-09-22T09:39:32.831599Z",
     "start_time": "2025-09-22T09:39:32.818431Z"
    }
   },
   "outputs": [
    {
     "data": {
      "text/plain": [
       "Empty DataFrame\n",
       "Columns: [sku, name, desc, price, promo_price, in_stock, type]\n",
       "Index: []"
      ],
      "text/html": [
       "<div>\n",
       "<style scoped>\n",
       "    .dataframe tbody tr th:only-of-type {\n",
       "        vertical-align: middle;\n",
       "    }\n",
       "\n",
       "    .dataframe tbody tr th {\n",
       "        vertical-align: top;\n",
       "    }\n",
       "\n",
       "    .dataframe thead th {\n",
       "        text-align: right;\n",
       "    }\n",
       "</style>\n",
       "<table border=\"1\" class=\"dataframe\">\n",
       "  <thead>\n",
       "    <tr style=\"text-align: right;\">\n",
       "      <th></th>\n",
       "      <th>sku</th>\n",
       "      <th>name</th>\n",
       "      <th>desc</th>\n",
       "      <th>price</th>\n",
       "      <th>promo_price</th>\n",
       "      <th>in_stock</th>\n",
       "      <th>type</th>\n",
       "    </tr>\n",
       "  </thead>\n",
       "  <tbody>\n",
       "  </tbody>\n",
       "</table>\n",
       "</div>"
      ]
     },
     "execution_count": 31,
     "metadata": {},
     "output_type": "execute_result"
    }
   ],
   "execution_count": 31
  },
  {
   "cell_type": "markdown",
   "source": [
    "Did you also notice above that we have the dreaded two decimal point problem in both the `price` and `promo_price` columns? We can also see prices with 3 decimal places, prices should have 2 decimal places: this gives us more cause for concern"
   ],
   "metadata": {
    "id": "yb37eyvIBuep"
   }
  },
  {
   "cell_type": "markdown",
   "source": [
    "#### `price`"
   ],
   "metadata": {
    "id": "DX9u7jeE_c95"
   }
  },
  {
   "cell_type": "code",
   "source": [
    "products_df.price.isna().sum()"
   ],
   "metadata": {
    "id": "AzID-a2TS6y_",
    "colab": {
     "base_uri": "https://localhost:8080/"
    },
    "outputId": "88bbf1b4-c822-44fc-9a6b-c6b08872cd3c",
    "executionInfo": {
     "status": "ok",
     "timestamp": 1757934748491,
     "user_tz": -120,
     "elapsed": 9,
     "user": {
      "displayName": "Kamran Zajkani",
      "userId": "00401105456302883825"
     }
    },
    "ExecuteTime": {
     "end_time": "2025-09-22T09:39:32.862309Z",
     "start_time": "2025-09-22T09:39:32.859197Z"
    }
   },
   "outputs": [
    {
     "data": {
      "text/plain": [
       "np.int64(46)"
      ]
     },
     "execution_count": 32,
     "metadata": {},
     "output_type": "execute_result"
    }
   ],
   "execution_count": 32
  },
  {
   "cell_type": "code",
   "source": "print(f\"The missing values in price are {(products_df.price.isna().value_counts(normalize=True).iloc[1] * 100).round(2)}% of all rows in the DataFrame\")",
   "metadata": {
    "id": "LRknumaMk9gn",
    "colab": {
     "base_uri": "https://localhost:8080/"
    },
    "outputId": "46c81610-b127-4bf8-d0e3-882e9a9905a7",
    "executionInfo": {
     "status": "ok",
     "timestamp": 1757934748505,
     "user_tz": -120,
     "elapsed": 13,
     "user": {
      "displayName": "Kamran Zajkani",
      "userId": "00401105456302883825"
     }
    },
    "ExecuteTime": {
     "end_time": "2025-09-22T09:39:32.921500Z",
     "start_time": "2025-09-22T09:39:32.894954Z"
    }
   },
   "outputs": [
    {
     "name": "stdout",
     "output_type": "stream",
     "text": [
      "The missing values in price are 0.43% of all rows in the DataFrame\n"
     ]
    }
   ],
   "execution_count": 33
  },
  {
   "cell_type": "markdown",
   "source": [
    "Let's simply delete these rows to ensure that we can trust the numbers in our final DataFrame. Afterall, the price is very important when investigating discounts."
   ],
   "metadata": {
    "id": "WVAC9q6Zldyu"
   }
  },
  {
   "cell_type": "markdown",
   "source": [
    "Option 1: `.loc`"
   ],
   "metadata": {
    "id": "W7Bv1QXrTVbR"
   }
  },
  {
   "cell_type": "code",
   "source": [
    "products_df = products_df.loc[~products['price'].isna()]"
   ],
   "metadata": {
    "id": "aJIuqC1LQL8u",
    "executionInfo": {
     "status": "ok",
     "timestamp": 1757934748533,
     "user_tz": -120,
     "elapsed": 27,
     "user": {
      "displayName": "Kamran Zajkani",
      "userId": "00401105456302883825"
     }
    },
    "ExecuteTime": {
     "end_time": "2025-09-22T09:39:32.936403Z",
     "start_time": "2025-09-22T09:39:32.929759Z"
    }
   },
   "outputs": [],
   "execution_count": 34
  },
  {
   "cell_type": "markdown",
   "source": [
    "Option 2: `.dropna()`"
   ],
   "metadata": {
    "id": "5iShhiyRTcCz"
   }
  },
  {
   "cell_type": "code",
   "source": "#products_df = products_df.dropna(subset=['price'])",
   "metadata": {
    "id": "2_S5lPV3QcnR",
    "executionInfo": {
     "status": "ok",
     "timestamp": 1757934748534,
     "user_tz": -120,
     "elapsed": 0,
     "user": {
      "displayName": "Kamran Zajkani",
      "userId": "00401105456302883825"
     }
    },
    "ExecuteTime": {
     "end_time": "2025-09-22T09:39:33.010005Z",
     "start_time": "2025-09-22T09:39:32.990059Z"
    }
   },
   "outputs": [],
   "execution_count": 35
  },
  {
   "cell_type": "markdown",
   "source": [
    "#### `type`"
   ],
   "metadata": {
    "id": "u-oHDPwgu0oy"
   }
  },
  {
   "cell_type": "code",
   "source": [
    "products_df.info()"
   ],
   "metadata": {
    "id": "Q7LNeNLuu32f",
    "colab": {
     "base_uri": "https://localhost:8080/"
    },
    "executionInfo": {
     "status": "ok",
     "timestamp": 1757934748557,
     "user_tz": -120,
     "elapsed": 22,
     "user": {
      "displayName": "Kamran Zajkani",
      "userId": "00401105456302883825"
     }
    },
    "outputId": "976507a7-b08e-4db1-f4e9-62b5f13d7e4c",
    "ExecuteTime": {
     "end_time": "2025-09-22T09:39:33.058138Z",
     "start_time": "2025-09-22T09:39:33.036380Z"
    }
   },
   "outputs": [
    {
     "name": "stdout",
     "output_type": "stream",
     "text": [
      "<class 'pandas.core.frame.DataFrame'>\n",
      "Index: 10534 entries, 0 to 19325\n",
      "Data columns (total 7 columns):\n",
      " #   Column       Non-Null Count  Dtype \n",
      "---  ------       --------------  ----- \n",
      " 0   sku          10534 non-null  object\n",
      " 1   name         10534 non-null  object\n",
      " 2   desc         10534 non-null  object\n",
      " 3   price        10534 non-null  object\n",
      " 4   promo_price  10534 non-null  object\n",
      " 5   in_stock     10534 non-null  int64 \n",
      " 6   type         10484 non-null  object\n",
      "dtypes: int64(1), object(6)\n",
      "memory usage: 658.4+ KB\n"
     ]
    }
   ],
   "execution_count": 36
  },
  {
   "cell_type": "markdown",
   "source": [
    "Type isn’t an essential piece of data for the analysis and is therefore allowed to carry missing values.\n",
    "The only place it comes in later is as an optional route to category creation, where someone might still choose to drop the rows with missing values, however one can still use name and desc to categorize those rows.\n"
   ],
   "metadata": {
    "id": "KvvpaD86u2LS"
   }
  },
  {
   "cell_type": "markdown",
   "source": [
    "### Data types\n",
    "\n",
    "We saw from looking at the output of `.info()` that both `price` and `promo_price` have been stored as objects and not as a numerical datatypes. We also saw while solving other problems that both columns have some prices with 3 decimal places and others with 2 decimal points - the latter will prevent us from converting the datatype to numerical, so first we must investigate and solve these problems."
   ],
   "metadata": {
    "id": "4x6xeGDu_B0N"
   }
  },
  {
   "cell_type": "markdown",
   "source": [
    "#### `price`"
   ],
   "metadata": {
    "id": "u0CsTv1WnMie"
   }
  },
  {
   "cell_type": "markdown",
   "source": [
    "First, let's see how many values are affected by the 2-decimal-dot problems or 3 decimal places."
   ],
   "metadata": {
    "id": "2mIc7YWdva5I"
   }
  },
  {
   "cell_type": "code",
   "source": [
    "price_problems_number = products_df.loc[(products_df.price.astype(str).str.contains(\"\\d+\\.\\d+\\.\\d+\"))|(products_df.price.astype(str).str.contains(\"\\d+\\.\\d{3,}\")), :].shape[0]\n",
    "price_problems_number"
   ],
   "metadata": {
    "id": "bShFL27Nq3Da",
    "colab": {
     "base_uri": "https://localhost:8080/"
    },
    "outputId": "94a57980-76b1-4efe-9866-f3a1ab4900e0",
    "executionInfo": {
     "status": "ok",
     "timestamp": 1757934748561,
     "user_tz": -120,
     "elapsed": 4,
     "user": {
      "displayName": "Kamran Zajkani",
      "userId": "00401105456302883825"
     }
    },
    "ExecuteTime": {
     "end_time": "2025-09-22T09:39:33.105417Z",
     "start_time": "2025-09-22T09:39:33.095714Z"
    }
   },
   "outputs": [
    {
     "data": {
      "text/plain": [
       "542"
      ]
     },
     "execution_count": 37,
     "metadata": {},
     "output_type": "execute_result"
    }
   ],
   "execution_count": 37
  },
  {
   "cell_type": "code",
   "source": [
    "print(f\"The column price has in total {price_problems_number} wrong values. This is {round(((price_problems_number / products_df.shape[0]) * 100), 2)}% of the rows of the DataFrame\")"
   ],
   "metadata": {
    "id": "R-HG2ur6eOiP",
    "colab": {
     "base_uri": "https://localhost:8080/"
    },
    "outputId": "5e2166fa-4a41-41d3-f094-e17ecadee166",
    "executionInfo": {
     "status": "ok",
     "timestamp": 1757934748596,
     "user_tz": -120,
     "elapsed": 25,
     "user": {
      "displayName": "Kamran Zajkani",
      "userId": "00401105456302883825"
     }
    },
    "ExecuteTime": {
     "end_time": "2025-09-22T09:39:33.165228Z",
     "start_time": "2025-09-22T09:39:33.155966Z"
    }
   },
   "outputs": [
    {
     "name": "stdout",
     "output_type": "stream",
     "text": [
      "The column price has in total 542 wrong values. This is 5.15% of the rows of the DataFrame\n"
     ]
    }
   ],
   "execution_count": 38
  },
  {
   "cell_type": "markdown",
   "source": [
    "5.15% is a reasonable amount of our data. However, the price column will be important to understanding discounts, so I'd like it to be very trustworthy as we are basing business decisions on it. Therefore, we'll delete these rows"
   ],
   "metadata": {
    "id": "p9QV50j3orpP"
   }
  },
  {
   "cell_type": "code",
   "source": [
    "products_df = products_df.loc[(~products_df.price.astype(str).str.contains(\"\\d+\\.\\d+\\.\\d+\"))&(~products_df.price.astype(str).str.contains(\"\\d+\\.\\d{3,}\")), :]"
   ],
   "metadata": {
    "id": "3xkK12Mspand",
    "colab": {
     "base_uri": "https://localhost:8080/"
    },
    "executionInfo": {
     "status": "ok",
     "timestamp": 1757934748607,
     "user_tz": -120,
     "elapsed": 11,
     "user": {
      "displayName": "Kamran Zajkani",
      "userId": "00401105456302883825"
     }
    },
    "outputId": "ae652347-1973-4f60-ecf4-10bdd8cd69b1",
    "ExecuteTime": {
     "end_time": "2025-09-22T09:39:33.227910Z",
     "start_time": "2025-09-22T09:39:33.208925Z"
    }
   },
   "outputs": [],
   "execution_count": 39
  },
  {
   "cell_type": "code",
   "source": [
    "products_df"
   ],
   "metadata": {
    "id": "h8R_vq6-VZ1X",
    "colab": {
     "base_uri": "https://localhost:8080/",
     "height": 527
    },
    "outputId": "44bc9683-0ae8-4c7f-f09f-cf5c5e5a7f17",
    "executionInfo": {
     "status": "ok",
     "timestamp": 1757934748658,
     "user_tz": -120,
     "elapsed": 50,
     "user": {
      "displayName": "Kamran Zajkani",
      "userId": "00401105456302883825"
     }
    },
    "ExecuteTime": {
     "end_time": "2025-09-22T09:39:33.259352Z",
     "start_time": "2025-09-22T09:39:33.239543Z"
    }
   },
   "outputs": [
    {
     "data": {
      "text/plain": [
       "           sku                                           name  \\\n",
       "0      RAI0007              Silver Rain Design mStand Support   \n",
       "1      APP0023              Apple Mac Keyboard Keypad Spanish   \n",
       "2      APP0025               Mighty Mouse Apple Mouse for Mac   \n",
       "3      APP0072  Apple Dock to USB Cable iPhone and iPod white   \n",
       "4      KIN0007    Mac Memory Kingston 2GB 667MHz DDR2 SO-DIMM   \n",
       "...        ...                                            ...   \n",
       "19321  BEL0376        Belkin Travel Support Apple Watch Black   \n",
       "19322  THU0060   Enroute Thule 14L Backpack MacBook 13 \"Black   \n",
       "19323  THU0061    Enroute Thule 14L Backpack MacBook 13 \"Blue   \n",
       "19324  THU0062     Enroute Thule 14L Backpack MacBook 13 \"Red   \n",
       "19325  THU0063   Enroute Thule 14L Backpack MacBook 13 \"Green   \n",
       "\n",
       "                                                                                                desc  \\\n",
       "0                                                       Aluminum support compatible with all MacBook   \n",
       "1                                                          USB ultrathin keyboard Apple Mac Spanish.   \n",
       "2                                                                             mouse Apple USB cable.   \n",
       "3                                                              IPhone dock and USB Cable Apple iPod.   \n",
       "4                                      2GB RAM Mac mini and iMac (2006/07) MacBook Pro (2006/07/08).   \n",
       "...                                                                                              ...   \n",
       "19321                          compact and portable stand vertically or horizontally for Apple Watch   \n",
       "19322  Backpack with capacity of 14 liter compartments MacBook up to 13 inches up to 10 inches Cases   \n",
       "19323  Backpack with capacity of 14 liter compartments MacBook up to 13 inches up to 10 inches Cases   \n",
       "19324  Backpack with capacity of 14 liter compartments MacBook up to 13 inches up to 10 inches Cases   \n",
       "19325  Backpack with capacity of 14 liter compartments MacBook up to 13 inches up to 10 inches Cases   \n",
       "\n",
       "       price promo_price  in_stock      type  \n",
       "0      59.99     499.899         1      8696  \n",
       "1         59     589.996         0  13855401  \n",
       "2         59     569.898         0      1387  \n",
       "3         25     229.997         0      1230  \n",
       "4      34.99       31.99         1      1364  \n",
       "...      ...         ...       ...       ...  \n",
       "19321  29.99     269.903         1     12282  \n",
       "19322  69.95     649.903         1      1392  \n",
       "19323  69.95     649.903         1      1392  \n",
       "19324  69.95     649.903         0      1392  \n",
       "19325  69.95     649.903         1      1392  \n",
       "\n",
       "[9992 rows x 7 columns]"
      ],
      "text/html": [
       "<div>\n",
       "<style scoped>\n",
       "    .dataframe tbody tr th:only-of-type {\n",
       "        vertical-align: middle;\n",
       "    }\n",
       "\n",
       "    .dataframe tbody tr th {\n",
       "        vertical-align: top;\n",
       "    }\n",
       "\n",
       "    .dataframe thead th {\n",
       "        text-align: right;\n",
       "    }\n",
       "</style>\n",
       "<table border=\"1\" class=\"dataframe\">\n",
       "  <thead>\n",
       "    <tr style=\"text-align: right;\">\n",
       "      <th></th>\n",
       "      <th>sku</th>\n",
       "      <th>name</th>\n",
       "      <th>desc</th>\n",
       "      <th>price</th>\n",
       "      <th>promo_price</th>\n",
       "      <th>in_stock</th>\n",
       "      <th>type</th>\n",
       "    </tr>\n",
       "  </thead>\n",
       "  <tbody>\n",
       "    <tr>\n",
       "      <th>0</th>\n",
       "      <td>RAI0007</td>\n",
       "      <td>Silver Rain Design mStand Support</td>\n",
       "      <td>Aluminum support compatible with all MacBook</td>\n",
       "      <td>59.99</td>\n",
       "      <td>499.899</td>\n",
       "      <td>1</td>\n",
       "      <td>8696</td>\n",
       "    </tr>\n",
       "    <tr>\n",
       "      <th>1</th>\n",
       "      <td>APP0023</td>\n",
       "      <td>Apple Mac Keyboard Keypad Spanish</td>\n",
       "      <td>USB ultrathin keyboard Apple Mac Spanish.</td>\n",
       "      <td>59</td>\n",
       "      <td>589.996</td>\n",
       "      <td>0</td>\n",
       "      <td>13855401</td>\n",
       "    </tr>\n",
       "    <tr>\n",
       "      <th>2</th>\n",
       "      <td>APP0025</td>\n",
       "      <td>Mighty Mouse Apple Mouse for Mac</td>\n",
       "      <td>mouse Apple USB cable.</td>\n",
       "      <td>59</td>\n",
       "      <td>569.898</td>\n",
       "      <td>0</td>\n",
       "      <td>1387</td>\n",
       "    </tr>\n",
       "    <tr>\n",
       "      <th>3</th>\n",
       "      <td>APP0072</td>\n",
       "      <td>Apple Dock to USB Cable iPhone and iPod white</td>\n",
       "      <td>IPhone dock and USB Cable Apple iPod.</td>\n",
       "      <td>25</td>\n",
       "      <td>229.997</td>\n",
       "      <td>0</td>\n",
       "      <td>1230</td>\n",
       "    </tr>\n",
       "    <tr>\n",
       "      <th>4</th>\n",
       "      <td>KIN0007</td>\n",
       "      <td>Mac Memory Kingston 2GB 667MHz DDR2 SO-DIMM</td>\n",
       "      <td>2GB RAM Mac mini and iMac (2006/07) MacBook Pro (2006/07/08).</td>\n",
       "      <td>34.99</td>\n",
       "      <td>31.99</td>\n",
       "      <td>1</td>\n",
       "      <td>1364</td>\n",
       "    </tr>\n",
       "    <tr>\n",
       "      <th>...</th>\n",
       "      <td>...</td>\n",
       "      <td>...</td>\n",
       "      <td>...</td>\n",
       "      <td>...</td>\n",
       "      <td>...</td>\n",
       "      <td>...</td>\n",
       "      <td>...</td>\n",
       "    </tr>\n",
       "    <tr>\n",
       "      <th>19321</th>\n",
       "      <td>BEL0376</td>\n",
       "      <td>Belkin Travel Support Apple Watch Black</td>\n",
       "      <td>compact and portable stand vertically or horizontally for Apple Watch</td>\n",
       "      <td>29.99</td>\n",
       "      <td>269.903</td>\n",
       "      <td>1</td>\n",
       "      <td>12282</td>\n",
       "    </tr>\n",
       "    <tr>\n",
       "      <th>19322</th>\n",
       "      <td>THU0060</td>\n",
       "      <td>Enroute Thule 14L Backpack MacBook 13 \"Black</td>\n",
       "      <td>Backpack with capacity of 14 liter compartments MacBook up to 13 inches up to 10 inches Cases</td>\n",
       "      <td>69.95</td>\n",
       "      <td>649.903</td>\n",
       "      <td>1</td>\n",
       "      <td>1392</td>\n",
       "    </tr>\n",
       "    <tr>\n",
       "      <th>19323</th>\n",
       "      <td>THU0061</td>\n",
       "      <td>Enroute Thule 14L Backpack MacBook 13 \"Blue</td>\n",
       "      <td>Backpack with capacity of 14 liter compartments MacBook up to 13 inches up to 10 inches Cases</td>\n",
       "      <td>69.95</td>\n",
       "      <td>649.903</td>\n",
       "      <td>1</td>\n",
       "      <td>1392</td>\n",
       "    </tr>\n",
       "    <tr>\n",
       "      <th>19324</th>\n",
       "      <td>THU0062</td>\n",
       "      <td>Enroute Thule 14L Backpack MacBook 13 \"Red</td>\n",
       "      <td>Backpack with capacity of 14 liter compartments MacBook up to 13 inches up to 10 inches Cases</td>\n",
       "      <td>69.95</td>\n",
       "      <td>649.903</td>\n",
       "      <td>0</td>\n",
       "      <td>1392</td>\n",
       "    </tr>\n",
       "    <tr>\n",
       "      <th>19325</th>\n",
       "      <td>THU0063</td>\n",
       "      <td>Enroute Thule 14L Backpack MacBook 13 \"Green</td>\n",
       "      <td>Backpack with capacity of 14 liter compartments MacBook up to 13 inches up to 10 inches Cases</td>\n",
       "      <td>69.95</td>\n",
       "      <td>649.903</td>\n",
       "      <td>1</td>\n",
       "      <td>1392</td>\n",
       "    </tr>\n",
       "  </tbody>\n",
       "</table>\n",
       "<p>9992 rows × 7 columns</p>\n",
       "</div>"
      ]
     },
     "execution_count": 40,
     "metadata": {},
     "output_type": "execute_result"
    }
   ],
   "execution_count": 40
  },
  {
   "cell_type": "markdown",
   "source": [
    "To complete our task, let's convert the column to a numeric datatype"
   ],
   "metadata": {
    "id": "Y_3K0v8wvMP1"
   }
  },
  {
   "cell_type": "code",
   "source": [
    "products_df[\"price\"] = pd.to_numeric(products_df[\"price\"])"
   ],
   "metadata": {
    "id": "3evkDaafvFUq",
    "executionInfo": {
     "status": "ok",
     "timestamp": 1757934748672,
     "user_tz": -120,
     "elapsed": 15,
     "user": {
      "displayName": "Kamran Zajkani",
      "userId": "00401105456302883825"
     }
    },
    "ExecuteTime": {
     "end_time": "2025-09-22T09:39:33.301335Z",
     "start_time": "2025-09-22T09:39:33.287297Z"
    }
   },
   "outputs": [],
   "execution_count": 41
  },
  {
   "cell_type": "code",
   "source": [
    "products_df.info()"
   ],
   "metadata": {
    "colab": {
     "base_uri": "https://localhost:8080/"
    },
    "id": "h2BjVDJ31yiB",
    "outputId": "6a606b16-0d9e-4d2e-8af1-822e6bef502c",
    "executionInfo": {
     "status": "ok",
     "timestamp": 1757934748708,
     "user_tz": -120,
     "elapsed": 37,
     "user": {
      "displayName": "Kamran Zajkani",
      "userId": "00401105456302883825"
     }
    },
    "ExecuteTime": {
     "end_time": "2025-09-22T09:39:33.334006Z",
     "start_time": "2025-09-22T09:39:33.319115Z"
    }
   },
   "outputs": [
    {
     "name": "stdout",
     "output_type": "stream",
     "text": [
      "<class 'pandas.core.frame.DataFrame'>\n",
      "Index: 9992 entries, 0 to 19325\n",
      "Data columns (total 7 columns):\n",
      " #   Column       Non-Null Count  Dtype  \n",
      "---  ------       --------------  -----  \n",
      " 0   sku          9992 non-null   object \n",
      " 1   name         9992 non-null   object \n",
      " 2   desc         9992 non-null   object \n",
      " 3   price        9992 non-null   float64\n",
      " 4   promo_price  9992 non-null   object \n",
      " 5   in_stock     9992 non-null   int64  \n",
      " 6   type         9946 non-null   object \n",
      "dtypes: float64(1), int64(1), object(5)\n",
      "memory usage: 624.5+ KB\n"
     ]
    }
   ],
   "execution_count": 42
  },
  {
   "cell_type": "markdown",
   "source": [
    "#### `promo_price`"
   ],
   "metadata": {
    "id": "9GcbI2upeG3M"
   }
  },
  {
   "cell_type": "markdown",
   "source": [
    "Again, let's begin by seeing how many values are affected by the 2-decimal-dots problem, or the 3 decimal-places problem"
   ],
   "metadata": {
    "id": "NQq3M2zGvzS5"
   }
  },
  {
   "cell_type": "code",
   "source": [
    "promo_problems_number = products_df.loc[(products_df.promo_price.astype(str).str.contains(\"\\d+\\.\\d+\\.\\d+\"))|(products_df.promo_price.astype(str).str.contains(\"\\d+\\.\\d{3,}\")), :].shape[0]\n",
    "promo_problems_number"
   ],
   "metadata": {
    "id": "vI4ueHibtK1P",
    "colab": {
     "base_uri": "https://localhost:8080/"
    },
    "outputId": "6e8e2b8a-8ade-48b9-c551-19cc14e2c687",
    "executionInfo": {
     "status": "ok",
     "timestamp": 1757934748713,
     "user_tz": -120,
     "elapsed": 4,
     "user": {
      "displayName": "Kamran Zajkani",
      "userId": "00401105456302883825"
     }
    },
    "ExecuteTime": {
     "end_time": "2025-09-22T09:39:33.376774Z",
     "start_time": "2025-09-22T09:39:33.357808Z"
    }
   },
   "outputs": [
    {
     "data": {
      "text/plain": [
       "9232"
      ]
     },
     "execution_count": 43,
     "metadata": {},
     "output_type": "execute_result"
    }
   ],
   "execution_count": 43
  },
  {
   "cell_type": "code",
   "source": [
    "print(f\"The column promo_price has in total {promo_problems_number} wrong values. This is {round(((promo_problems_number / products_df.shape[0]) * 100), 2)}% of the rows of the DataFrame\")"
   ],
   "metadata": {
    "id": "Jxpd8nVptKxs",
    "colab": {
     "base_uri": "https://localhost:8080/"
    },
    "outputId": "8f46824e-89db-445f-cea9-21ca32f460ba",
    "executionInfo": {
     "status": "ok",
     "timestamp": 1757934748728,
     "user_tz": -120,
     "elapsed": 3,
     "user": {
      "displayName": "Kamran Zajkani",
      "userId": "00401105456302883825"
     }
    },
    "ExecuteTime": {
     "end_time": "2025-09-22T09:39:33.406447Z",
     "start_time": "2025-09-22T09:39:33.402788Z"
    }
   },
   "outputs": [
    {
     "name": "stdout",
     "output_type": "stream",
     "text": [
      "The column promo_price has in total 9232 wrong values. This is 92.39% of the rows of the DataFrame\n"
     ]
    }
   ],
   "execution_count": 44
  },
  {
   "cell_type": "markdown",
   "source": [
    "WOW!!! That's a lot of wrong data. Let's have a quick investigate to check that's correct. We'll make a DataFrame by copy-pasting the code we used above and then look at a large sample to check that all the numbers in the `promo_price` column really have either 2 decimal points or 3 decimal places."
   ],
   "metadata": {
    "id": "dnEM5lBruU0U"
   }
  },
  {
   "cell_type": "code",
   "source": [
    "promo_price_df = products_df.loc[(products_df.promo_price.astype(str).str.contains(\"\\d+\\.\\d+\\.\\d+\"))|(products_df.promo_price.astype(str).str.contains(\"\\d+\\.\\d{3,}\")), :]\n",
    "promo_price_df.sample(50)"
   ],
   "metadata": {
    "id": "6S88DpsRtaM0",
    "colab": {
     "base_uri": "https://localhost:8080/",
     "height": 1000
    },
    "outputId": "b64c2106-1e46-4d60-8a0f-3cec7ba99ade",
    "executionInfo": {
     "status": "ok",
     "timestamp": 1757934748787,
     "user_tz": -120,
     "elapsed": 28,
     "user": {
      "displayName": "Kamran Zajkani",
      "userId": "00401105456302883825"
     }
    },
    "ExecuteTime": {
     "end_time": "2025-09-22T09:39:33.469642Z",
     "start_time": "2025-09-22T09:39:33.441568Z"
    }
   },
   "outputs": [
    {
     "data": {
      "text/plain": [
       "             sku  \\\n",
       "517      SEV0012   \n",
       "2258     APP0984   \n",
       "18714  WAC0158-A   \n",
       "16246    APP2234   \n",
       "2765     ACM0035   \n",
       "9940     PAC0978   \n",
       "15580    SXA0018   \n",
       "1577     PAC0590   \n",
       "13786  SNN0040-A   \n",
       "18879    MOP0111   \n",
       "14655  WDT0280-A   \n",
       "12997  GRT0386-A   \n",
       "866      PRO0016   \n",
       "2460     DEV0013   \n",
       "16583    APP2187   \n",
       "2024     PHI0051   \n",
       "650      WAC0135   \n",
       "2594     IFX0029   \n",
       "2876     APP1086   \n",
       "18380    LIF0140   \n",
       "862      SNN0027   \n",
       "17826    PAC2319   \n",
       "17307  SEA0098-A   \n",
       "16174    PAC2142   \n",
       "11695    WAC0186   \n",
       "17522    TUC0348   \n",
       "10878    LGE0028   \n",
       "15148  LAC0123-A   \n",
       "2348   APP0696-A   \n",
       "19208  LIF0116-A   \n",
       "14471    WAC0216   \n",
       "13469    MOS0210   \n",
       "13564    APP1707   \n",
       "15005  WIT0017-A   \n",
       "19141    WDT0412   \n",
       "14863    LEE0016   \n",
       "1522     PAC1823   \n",
       "11764    APP1465   \n",
       "348      APP0424   \n",
       "2427   FCM0003-2   \n",
       "19318    REP0402   \n",
       "14527    SAT0007   \n",
       "2671     SNN0039   \n",
       "10957  OWC0148-A   \n",
       "5157     PAC1047   \n",
       "15820  SPE0184-A   \n",
       "13236    WDT0343   \n",
       "13494    WAC0195   \n",
       "607      BOO0066   \n",
       "1398     APP0874   \n",
       "\n",
       "                                                                                    name  \\\n",
       "517                                        HDD or SSD installation service MacBook / Pro   \n",
       "2258                        Apple MacBook 12 \"Core M 12 Ghz | 8GB RAM | 512GB Flash Gold   \n",
       "18714                                                            Wacom Cintiq Ergo Stand   \n",
       "16246                             Apple iMac 27 \"Core i5 Retina 5K 38GHz | 8GB | 1TB SSD   \n",
       "2765                           Acme Skinny Sleeve Case MacBook Air 11 \"Lilac / Turquoise   \n",
       "9940   Apple iMac 27 \"Core i5 3.2GHz Retina 5K | 32GB | 512GB Flash | AMD Radeon R9 M390   \n",
       "15580                                           SecurityXtra Security Support iMac 215 \"   \n",
       "1577                                             Synology DS415 + Pack | WD 24TB Network   \n",
       "13786                                (Open) Sonnet SuperSpeed ​​USB 3.0 ExpressCard / 34   \n",
       "18879         Mophie Juice Pack Air Battery Case for iPhone 2.420mAh 8 Plus / 7 Red Plus   \n",
       "14655                         (Open) WD My Passport For Mac Black 3TB Hard Drive for Mac   \n",
       "12997                       (Open) Griffin Survivor Case Tactical Apple Watch 38mm Black   \n",
       "866                           Pegasus2 Promise R6 12TB RAID Hard Drive Mac Thunderbolt 2   \n",
       "2460                                                   Devolo dLAN Starter Kit 1200+ PLC   \n",
       "16583                                Apple iMac 21.5 \"Core i5 2.3GHz | 16GB | 1TB Fusion   \n",
       "2024                              Hue Philips Living Colors Bloom Bloom Sept. 2 + Bridge   \n",
       "650                                       Education - Wacom Intuos Pro L Graphics Tablet   \n",
       "2594                             Battery iFixit MacBook Air 13 \"End 2010/2011 / Med 2012   \n",
       "2876                                                          Apple iPod Touch 32GB Gold   \n",
       "18380                                           NEXT LifeProof iPhone Case X Cactus Rosa   \n",
       "862                              Sonnet Echo Express III-D Chassis expansion Thunderbolt   \n",
       "17826              Synology DS718 + NAS Server | 2GB RAM | 8TB (2x4TB) Seagate Iron Wolf   \n",
       "17307                                  Open - Seagate IronWolf 6TB NAS hard drive Sata 3   \n",
       "16174                         Apple iMac 27 \"Core i7 Retina 5K 42GHz | 64GB | 1TB Fusion   \n",
       "11695                                 Wacom Cintiq Companion 2 DTH-W1310L for Mac and PC   \n",
       "17522                                             Tucano Elektro Flex X Gold iPhone Case   \n",
       "10878                                      LG 24MB37PM-W LCD Monitor 24 \"1920x1080 White   \n",
       "15148      Open - LaCie d2 Quadra 4TB External Hard Drive USB 3.0 eSATA FW800 Mac and PC   \n",
       "2348                 Open - Apple (OEM) Charger 60W MagSafe MacBook and MacBook Pro 13 \"   \n",
       "19208                              Open - LifeProof Nood Submersible iPhone Case 7 Green   \n",
       "14471                                                Wacom MobileStudio Pro 13 \"i7 256GB   \n",
       "13469                                         Moshi iGlaze Armor Case iPhone 7 Plus Gold   \n",
       "13564           38mm Apple Watch Series 2 Aluminum Case and Strap Gold Sport Gray Cement   \n",
       "15005                                           Open - Withings Activite POP Black Clock   \n",
       "19141                                                    WD 120GB SSD NAND 3D Green SATA   \n",
       "14863                                   Leef iBridge 3 PenDrive 32GB Black Lightning IFM   \n",
       "1522                        Synology DS1515 + l l 8GB RAM 50TB (5x10TB) Seagate IronWolf   \n",
       "11764                                    Spanish Keyboard Keyboard Magic Apple Mac (OEM)   \n",
       "348                                                           Apple iPod Touch 64GB Pink   \n",
       "2427                                     Mac memory FCM 8GB (2x4GB) SO-DIMM DDR3 1066MHz   \n",
       "19318                                                           iPad touch screen repair   \n",
       "14527                            Satechi USB Hub Slim-C to USB-A / HDMI 4K / USB-C Plata   \n",
       "2671                                            Sonnet MacCuff security support Mac mini   \n",
       "10957                                   (Open) Aura OWC 240GB SSD iMac from 2012 to 2013   \n",
       "5157                          Apple iMac 27 \"Core i7 Retina 5K 4GHz | 32GB | 512GB Flash   \n",
       "15820                       Open - Speck Case SmartShell MacBook Pro 13 \"Touch Black Bar   \n",
       "13236                                                  WD Red Pro 6TB 35 \"Sata 3 7200RPM   \n",
       "13494                                                         Wacom Bamboo Slate Gray A4   \n",
       "607                                             Booq Boa Skin XS iPad Case Purple / Gray   \n",
       "1398                                       Apple iPad Air 2 Wi-Fi + Cellular 16GB Dorado   \n",
       "\n",
       "                                                                                                                desc  \\\n",
       "517                                                   HDD or SSD installation on your MacBook / Pro + Data Transfer.   \n",
       "2258                                                    New MacBook Retina 12-inch screen 8GB RAM 512GB 11GHz Flash.   \n",
       "18714                                                      Reconditioned professional support for Wacom Cintiq 27QHD   \n",
       "16246                                                   IMac desktop computer 27 inch 5K Retina 8GB RAM 1TB SSD PCle   \n",
       "2765                                                                        Neoprene sleeve for MacBook Air 11 inch.   \n",
       "9940     IMac desktop computer 27 inch 5K Retina i5 3.2GHz 512GB Flash RAM 32GB and AMD Radeon R9 M390 (MK472Y / A).   \n",
       "15580                                                  Security support with attachment to the desktop 215 inch iMac   \n",
       "1577                                                        Synology DS415 + Pack of 24TB WD Network for Mac and PC.   \n",
       "13786                                                     SuperSpeed ​​USB 3.0 PCI adapter ExpressCard / 34 for Mac.   \n",
       "18879                                                       Mophie Battery Case for iPhone 2.420mAh 8 Plus or 7-Plus   \n",
       "14655                                                 external hard drive with a capacity of 3TB and USB 3.0 for Mac   \n",
       "12997                                                         Anti-shock Case with Screen Protector for Apple Watch.   \n",
       "866                                                                             RAID Thunderbolt 2 R6 12TB (6 x 2TB)   \n",
       "2460                                                                  Kit 2 PLC network adapters 1-port Gigabit LAN.   \n",
       "16583                                                                           PC 215 inch iMac RAM 16GB 1TB Fusion   \n",
       "2024                                         Starter Kit: Set of 2 LED Bulbs Bloom HUE's Bridge for iPhone and iPad.   \n",
       "650                                                                    Exclusive discount for students and teachers.   \n",
       "2594                                          replacement battery for MacBook Air 13-inch Late 2010/2011 / Med 2012.   \n",
       "2876                                                     New 6th generation iPod Touch 32GB with 8 megapixel camera.   \n",
       "18380                                        LifeProof sleeve super tough resistance to dirt and snow falls iPhone X   \n",
       "862                                                              Thunderbolt external box card PCIe ExpressCard Mac.   \n",
       "17826          Scalable NAS server with transcoding 4K: 4-core 2.3 GHz 2GB DDR3L 226MB / s read and 184 MB / s write   \n",
       "17307  NAS hard drive designed for systems with interface SATA 6Gb / s and rotation speed of 7200 rpm for Mac and PC   \n",
       "16174                                           IMac desktop computer 27 inch Retina 5K RAM 64GB (4x16GB) 1TB Fusion   \n",
       "11695                                         multi-touch graphics tablet with pen natural precision for Mac and PC.   \n",
       "17522                                                       Protect your iPhone while respecting its beautiful lines   \n",
       "10878                                                                             Monitor 24 inch IPS LED pivotable.   \n",
       "15148                                              4TB External Hard Drive USB 3.0 eSATA and Firewire for Mac and PC   \n",
       "2348                                      Charger MacBook and 13 inch MacBook MagSafe 60 W (MC461Z / A) Without box.   \n",
       "19208                                               waterproof and resistant to extreme conditions Case for iPhone 7   \n",
       "14471                            Professional graphics tablet with 13-inch Stylus Pro 256GB and Pen 2 for Mac and PC   \n",
       "13469                                            protective cover two colors with metallic accents for iPhone 7 Plus   \n",
       "13564                            Apple Watch 38 mm with GPS dual-core processor and retina display submersible 50mts   \n",
       "15005                                           Smartwatch that records sleep and movement for iPhone and iPod Touch   \n",
       "19141                                                                      120GB SSD SATA 3 (6Gb / s) for Mac and PC   \n",
       "14863                                32GB flash drive with USB 3.0 connection and Lightning for iPhone iPad and iPod   \n",
       "1522                         Synology DS1815 + NAS with 8GB RAM and 50TB hard drive Seagate IronWolf for Mac and PC.   \n",
       "11764                                              Spanish Keyboard Mac and Apple iPad Ultrathin Bluetooth (unboxed)   \n",
       "348                                                                           New 5 generation iPod touch 64GB rose.   \n",
       "2427                                                RAM 8GB (2x4GB) Mac mini iMac MacBook and MacBook Pro (2009/10).   \n",
       "19318                                                              Repair service including parts and labor for iPad   \n",
       "14527                                        Aluminum Hub USB Type-C 4K HDMI and two USB Type-A ports for Mac and PC   \n",
       "2671                                                                         Metallic support security for Mac Mini.   \n",
       "10957                                                                 Hard Disk 240GB SSD for iMac131 * and iMac132.   \n",
       "5157                              IMac desktop computer 27 inch 5K Retina i7 4GHz 512GB Flash RAM 32GB (MK482Y / A).   \n",
       "15820                                                                     MacBook 13-inch housing in black Touch Bar   \n",
       "13236                                                           Hard disk WD Red Pro 6TB NAS designed for Mac and PC   \n",
       "13494                                       Bloc notes A4 smart pen includes precision app button to save your notes   \n",
       "607                                                                 soft and durable nylon and neoprene iPad sleeve.   \n",
       "1398                                                             New iPad Air 2 Wi-Fi + Cellular 16GB (MH1C2TY / A).   \n",
       "\n",
       "         price promo_price  in_stock       type  \n",
       "517      49.99     499.851         0   20642062  \n",
       "2258   1799.00  17.449.894         0       1282  \n",
       "18714   429.90   3.424.682         0  101781405  \n",
       "16246  3319.00  31.200.044         0   5,74E+15  \n",
       "2765     34.95     269.891         0   13835403  \n",
       "9940   3409.00  28.569.903         0   5,74E+15  \n",
       "15580   109.99     890.003         0       8696  \n",
       "1577   1770.99  15.389.905         0   12175397  \n",
       "13786    74.90     458.333         0       1298  \n",
       "18879    99.95     299.899         1   11865403  \n",
       "14655   149.99   1.379.346         0       1298  \n",
       "12997    34.99     126.605         0       1298  \n",
       "866    2117.50  17.468.165         0   11935397  \n",
       "2460    139.99   1.399.002         1       1334  \n",
       "16583  1659.00  15.590.039         0   2,16E+11  \n",
       "2024    179.99   1.749.902         0   11905404  \n",
       "650     479.49   3.839.935         0       1405  \n",
       "2594    109.99     999.896         0   13005399  \n",
       "2876    232.81   2.240.013         0   11821715  \n",
       "18380    69.99     599.906         1   11865403  \n",
       "862    1087.79   9.789.021         0   12995397  \n",
       "17826   819.97   6.851.794         0   12175397  \n",
       "17307   279.99   1.722.724         0       1298  \n",
       "16174  4285.59  32.750.045         0   5,74E+15  \n",
       "11695  1599.99  15.998.995         0       1405  \n",
       "17522    16.90     159.902         0   11865403  \n",
       "10878   179.00   1.788.997         0       1296  \n",
       "15148   249.00   2.119.951         0       1298  \n",
       "2348     89.00     669.904         0       1298  \n",
       "19208    89.99     410.178         0   11865403  \n",
       "14471  2149.90  19.824.144         0       1405  \n",
       "13469    45.00     279.897         0   11865403  \n",
       "13564   439.00   4.390.001         0   24885185  \n",
       "15005   149.90     717.738         0       1298  \n",
       "19141    65.00     489.941         1   12655397  \n",
       "14863    69.99     702.804         0   42945397  \n",
       "1522   3885.92  28.029.626         0   12175397  \n",
       "11764   119.00     999.944         1   13855401  \n",
       "348     339.00   3.219.931         0   11821715  \n",
       "2427     87.98     849.904         0       1364  \n",
       "19318   139.99   1.399.897         0   1,44E+11  \n",
       "14527    79.99     499.899         0   12585395  \n",
       "2671     72.54     599.906         0       8696  \n",
       "10957   149.99   1.205.945         0       1298  \n",
       "5157   3889.00  33.099.901         0   5,74E+15  \n",
       "15820    49.99     277.397         0       1298  \n",
       "13236   319.99   2.319.933         1   12655397  \n",
       "13494   149.90   1.379.896         0       1405  \n",
       "607      14.95      39.906         0   12635403  \n",
       "1398    549.00   5.289.999         0   12141714  "
      ],
      "text/html": [
       "<div>\n",
       "<style scoped>\n",
       "    .dataframe tbody tr th:only-of-type {\n",
       "        vertical-align: middle;\n",
       "    }\n",
       "\n",
       "    .dataframe tbody tr th {\n",
       "        vertical-align: top;\n",
       "    }\n",
       "\n",
       "    .dataframe thead th {\n",
       "        text-align: right;\n",
       "    }\n",
       "</style>\n",
       "<table border=\"1\" class=\"dataframe\">\n",
       "  <thead>\n",
       "    <tr style=\"text-align: right;\">\n",
       "      <th></th>\n",
       "      <th>sku</th>\n",
       "      <th>name</th>\n",
       "      <th>desc</th>\n",
       "      <th>price</th>\n",
       "      <th>promo_price</th>\n",
       "      <th>in_stock</th>\n",
       "      <th>type</th>\n",
       "    </tr>\n",
       "  </thead>\n",
       "  <tbody>\n",
       "    <tr>\n",
       "      <th>517</th>\n",
       "      <td>SEV0012</td>\n",
       "      <td>HDD or SSD installation service MacBook / Pro</td>\n",
       "      <td>HDD or SSD installation on your MacBook / Pro + Data Transfer.</td>\n",
       "      <td>49.99</td>\n",
       "      <td>499.851</td>\n",
       "      <td>0</td>\n",
       "      <td>20642062</td>\n",
       "    </tr>\n",
       "    <tr>\n",
       "      <th>2258</th>\n",
       "      <td>APP0984</td>\n",
       "      <td>Apple MacBook 12 \"Core M 12 Ghz | 8GB RAM | 512GB Flash Gold</td>\n",
       "      <td>New MacBook Retina 12-inch screen 8GB RAM 512GB 11GHz Flash.</td>\n",
       "      <td>1799.00</td>\n",
       "      <td>17.449.894</td>\n",
       "      <td>0</td>\n",
       "      <td>1282</td>\n",
       "    </tr>\n",
       "    <tr>\n",
       "      <th>18714</th>\n",
       "      <td>WAC0158-A</td>\n",
       "      <td>Wacom Cintiq Ergo Stand</td>\n",
       "      <td>Reconditioned professional support for Wacom Cintiq 27QHD</td>\n",
       "      <td>429.90</td>\n",
       "      <td>3.424.682</td>\n",
       "      <td>0</td>\n",
       "      <td>101781405</td>\n",
       "    </tr>\n",
       "    <tr>\n",
       "      <th>16246</th>\n",
       "      <td>APP2234</td>\n",
       "      <td>Apple iMac 27 \"Core i5 Retina 5K 38GHz | 8GB | 1TB SSD</td>\n",
       "      <td>IMac desktop computer 27 inch 5K Retina 8GB RAM 1TB SSD PCle</td>\n",
       "      <td>3319.00</td>\n",
       "      <td>31.200.044</td>\n",
       "      <td>0</td>\n",
       "      <td>5,74E+15</td>\n",
       "    </tr>\n",
       "    <tr>\n",
       "      <th>2765</th>\n",
       "      <td>ACM0035</td>\n",
       "      <td>Acme Skinny Sleeve Case MacBook Air 11 \"Lilac / Turquoise</td>\n",
       "      <td>Neoprene sleeve for MacBook Air 11 inch.</td>\n",
       "      <td>34.95</td>\n",
       "      <td>269.891</td>\n",
       "      <td>0</td>\n",
       "      <td>13835403</td>\n",
       "    </tr>\n",
       "    <tr>\n",
       "      <th>9940</th>\n",
       "      <td>PAC0978</td>\n",
       "      <td>Apple iMac 27 \"Core i5 3.2GHz Retina 5K | 32GB | 512GB Flash | AMD Radeon R9 M390</td>\n",
       "      <td>IMac desktop computer 27 inch 5K Retina i5 3.2GHz 512GB Flash RAM 32GB and AMD Radeon R9 M390 (MK472Y / A).</td>\n",
       "      <td>3409.00</td>\n",
       "      <td>28.569.903</td>\n",
       "      <td>0</td>\n",
       "      <td>5,74E+15</td>\n",
       "    </tr>\n",
       "    <tr>\n",
       "      <th>15580</th>\n",
       "      <td>SXA0018</td>\n",
       "      <td>SecurityXtra Security Support iMac 215 \"</td>\n",
       "      <td>Security support with attachment to the desktop 215 inch iMac</td>\n",
       "      <td>109.99</td>\n",
       "      <td>890.003</td>\n",
       "      <td>0</td>\n",
       "      <td>8696</td>\n",
       "    </tr>\n",
       "    <tr>\n",
       "      <th>1577</th>\n",
       "      <td>PAC0590</td>\n",
       "      <td>Synology DS415 + Pack | WD 24TB Network</td>\n",
       "      <td>Synology DS415 + Pack of 24TB WD Network for Mac and PC.</td>\n",
       "      <td>1770.99</td>\n",
       "      <td>15.389.905</td>\n",
       "      <td>0</td>\n",
       "      <td>12175397</td>\n",
       "    </tr>\n",
       "    <tr>\n",
       "      <th>13786</th>\n",
       "      <td>SNN0040-A</td>\n",
       "      <td>(Open) Sonnet SuperSpeed ​​USB 3.0 ExpressCard / 34</td>\n",
       "      <td>SuperSpeed ​​USB 3.0 PCI adapter ExpressCard / 34 for Mac.</td>\n",
       "      <td>74.90</td>\n",
       "      <td>458.333</td>\n",
       "      <td>0</td>\n",
       "      <td>1298</td>\n",
       "    </tr>\n",
       "    <tr>\n",
       "      <th>18879</th>\n",
       "      <td>MOP0111</td>\n",
       "      <td>Mophie Juice Pack Air Battery Case for iPhone 2.420mAh 8 Plus / 7 Red Plus</td>\n",
       "      <td>Mophie Battery Case for iPhone 2.420mAh 8 Plus or 7-Plus</td>\n",
       "      <td>99.95</td>\n",
       "      <td>299.899</td>\n",
       "      <td>1</td>\n",
       "      <td>11865403</td>\n",
       "    </tr>\n",
       "    <tr>\n",
       "      <th>14655</th>\n",
       "      <td>WDT0280-A</td>\n",
       "      <td>(Open) WD My Passport For Mac Black 3TB Hard Drive for Mac</td>\n",
       "      <td>external hard drive with a capacity of 3TB and USB 3.0 for Mac</td>\n",
       "      <td>149.99</td>\n",
       "      <td>1.379.346</td>\n",
       "      <td>0</td>\n",
       "      <td>1298</td>\n",
       "    </tr>\n",
       "    <tr>\n",
       "      <th>12997</th>\n",
       "      <td>GRT0386-A</td>\n",
       "      <td>(Open) Griffin Survivor Case Tactical Apple Watch 38mm Black</td>\n",
       "      <td>Anti-shock Case with Screen Protector for Apple Watch.</td>\n",
       "      <td>34.99</td>\n",
       "      <td>126.605</td>\n",
       "      <td>0</td>\n",
       "      <td>1298</td>\n",
       "    </tr>\n",
       "    <tr>\n",
       "      <th>866</th>\n",
       "      <td>PRO0016</td>\n",
       "      <td>Pegasus2 Promise R6 12TB RAID Hard Drive Mac Thunderbolt 2</td>\n",
       "      <td>RAID Thunderbolt 2 R6 12TB (6 x 2TB)</td>\n",
       "      <td>2117.50</td>\n",
       "      <td>17.468.165</td>\n",
       "      <td>0</td>\n",
       "      <td>11935397</td>\n",
       "    </tr>\n",
       "    <tr>\n",
       "      <th>2460</th>\n",
       "      <td>DEV0013</td>\n",
       "      <td>Devolo dLAN Starter Kit 1200+ PLC</td>\n",
       "      <td>Kit 2 PLC network adapters 1-port Gigabit LAN.</td>\n",
       "      <td>139.99</td>\n",
       "      <td>1.399.002</td>\n",
       "      <td>1</td>\n",
       "      <td>1334</td>\n",
       "    </tr>\n",
       "    <tr>\n",
       "      <th>16583</th>\n",
       "      <td>APP2187</td>\n",
       "      <td>Apple iMac 21.5 \"Core i5 2.3GHz | 16GB | 1TB Fusion</td>\n",
       "      <td>PC 215 inch iMac RAM 16GB 1TB Fusion</td>\n",
       "      <td>1659.00</td>\n",
       "      <td>15.590.039</td>\n",
       "      <td>0</td>\n",
       "      <td>2,16E+11</td>\n",
       "    </tr>\n",
       "    <tr>\n",
       "      <th>2024</th>\n",
       "      <td>PHI0051</td>\n",
       "      <td>Hue Philips Living Colors Bloom Bloom Sept. 2 + Bridge</td>\n",
       "      <td>Starter Kit: Set of 2 LED Bulbs Bloom HUE's Bridge for iPhone and iPad.</td>\n",
       "      <td>179.99</td>\n",
       "      <td>1.749.902</td>\n",
       "      <td>0</td>\n",
       "      <td>11905404</td>\n",
       "    </tr>\n",
       "    <tr>\n",
       "      <th>650</th>\n",
       "      <td>WAC0135</td>\n",
       "      <td>Education - Wacom Intuos Pro L Graphics Tablet</td>\n",
       "      <td>Exclusive discount for students and teachers.</td>\n",
       "      <td>479.49</td>\n",
       "      <td>3.839.935</td>\n",
       "      <td>0</td>\n",
       "      <td>1405</td>\n",
       "    </tr>\n",
       "    <tr>\n",
       "      <th>2594</th>\n",
       "      <td>IFX0029</td>\n",
       "      <td>Battery iFixit MacBook Air 13 \"End 2010/2011 / Med 2012</td>\n",
       "      <td>replacement battery for MacBook Air 13-inch Late 2010/2011 / Med 2012.</td>\n",
       "      <td>109.99</td>\n",
       "      <td>999.896</td>\n",
       "      <td>0</td>\n",
       "      <td>13005399</td>\n",
       "    </tr>\n",
       "    <tr>\n",
       "      <th>2876</th>\n",
       "      <td>APP1086</td>\n",
       "      <td>Apple iPod Touch 32GB Gold</td>\n",
       "      <td>New 6th generation iPod Touch 32GB with 8 megapixel camera.</td>\n",
       "      <td>232.81</td>\n",
       "      <td>2.240.013</td>\n",
       "      <td>0</td>\n",
       "      <td>11821715</td>\n",
       "    </tr>\n",
       "    <tr>\n",
       "      <th>18380</th>\n",
       "      <td>LIF0140</td>\n",
       "      <td>NEXT LifeProof iPhone Case X Cactus Rosa</td>\n",
       "      <td>LifeProof sleeve super tough resistance to dirt and snow falls iPhone X</td>\n",
       "      <td>69.99</td>\n",
       "      <td>599.906</td>\n",
       "      <td>1</td>\n",
       "      <td>11865403</td>\n",
       "    </tr>\n",
       "    <tr>\n",
       "      <th>862</th>\n",
       "      <td>SNN0027</td>\n",
       "      <td>Sonnet Echo Express III-D Chassis expansion Thunderbolt</td>\n",
       "      <td>Thunderbolt external box card PCIe ExpressCard Mac.</td>\n",
       "      <td>1087.79</td>\n",
       "      <td>9.789.021</td>\n",
       "      <td>0</td>\n",
       "      <td>12995397</td>\n",
       "    </tr>\n",
       "    <tr>\n",
       "      <th>17826</th>\n",
       "      <td>PAC2319</td>\n",
       "      <td>Synology DS718 + NAS Server | 2GB RAM | 8TB (2x4TB) Seagate Iron Wolf</td>\n",
       "      <td>Scalable NAS server with transcoding 4K: 4-core 2.3 GHz 2GB DDR3L 226MB / s read and 184 MB / s write</td>\n",
       "      <td>819.97</td>\n",
       "      <td>6.851.794</td>\n",
       "      <td>0</td>\n",
       "      <td>12175397</td>\n",
       "    </tr>\n",
       "    <tr>\n",
       "      <th>17307</th>\n",
       "      <td>SEA0098-A</td>\n",
       "      <td>Open - Seagate IronWolf 6TB NAS hard drive Sata 3</td>\n",
       "      <td>NAS hard drive designed for systems with interface SATA 6Gb / s and rotation speed of 7200 rpm for Mac and PC</td>\n",
       "      <td>279.99</td>\n",
       "      <td>1.722.724</td>\n",
       "      <td>0</td>\n",
       "      <td>1298</td>\n",
       "    </tr>\n",
       "    <tr>\n",
       "      <th>16174</th>\n",
       "      <td>PAC2142</td>\n",
       "      <td>Apple iMac 27 \"Core i7 Retina 5K 42GHz | 64GB | 1TB Fusion</td>\n",
       "      <td>IMac desktop computer 27 inch Retina 5K RAM 64GB (4x16GB) 1TB Fusion</td>\n",
       "      <td>4285.59</td>\n",
       "      <td>32.750.045</td>\n",
       "      <td>0</td>\n",
       "      <td>5,74E+15</td>\n",
       "    </tr>\n",
       "    <tr>\n",
       "      <th>11695</th>\n",
       "      <td>WAC0186</td>\n",
       "      <td>Wacom Cintiq Companion 2 DTH-W1310L for Mac and PC</td>\n",
       "      <td>multi-touch graphics tablet with pen natural precision for Mac and PC.</td>\n",
       "      <td>1599.99</td>\n",
       "      <td>15.998.995</td>\n",
       "      <td>0</td>\n",
       "      <td>1405</td>\n",
       "    </tr>\n",
       "    <tr>\n",
       "      <th>17522</th>\n",
       "      <td>TUC0348</td>\n",
       "      <td>Tucano Elektro Flex X Gold iPhone Case</td>\n",
       "      <td>Protect your iPhone while respecting its beautiful lines</td>\n",
       "      <td>16.90</td>\n",
       "      <td>159.902</td>\n",
       "      <td>0</td>\n",
       "      <td>11865403</td>\n",
       "    </tr>\n",
       "    <tr>\n",
       "      <th>10878</th>\n",
       "      <td>LGE0028</td>\n",
       "      <td>LG 24MB37PM-W LCD Monitor 24 \"1920x1080 White</td>\n",
       "      <td>Monitor 24 inch IPS LED pivotable.</td>\n",
       "      <td>179.00</td>\n",
       "      <td>1.788.997</td>\n",
       "      <td>0</td>\n",
       "      <td>1296</td>\n",
       "    </tr>\n",
       "    <tr>\n",
       "      <th>15148</th>\n",
       "      <td>LAC0123-A</td>\n",
       "      <td>Open - LaCie d2 Quadra 4TB External Hard Drive USB 3.0 eSATA FW800 Mac and PC</td>\n",
       "      <td>4TB External Hard Drive USB 3.0 eSATA and Firewire for Mac and PC</td>\n",
       "      <td>249.00</td>\n",
       "      <td>2.119.951</td>\n",
       "      <td>0</td>\n",
       "      <td>1298</td>\n",
       "    </tr>\n",
       "    <tr>\n",
       "      <th>2348</th>\n",
       "      <td>APP0696-A</td>\n",
       "      <td>Open - Apple (OEM) Charger 60W MagSafe MacBook and MacBook Pro 13 \"</td>\n",
       "      <td>Charger MacBook and 13 inch MacBook MagSafe 60 W (MC461Z / A) Without box.</td>\n",
       "      <td>89.00</td>\n",
       "      <td>669.904</td>\n",
       "      <td>0</td>\n",
       "      <td>1298</td>\n",
       "    </tr>\n",
       "    <tr>\n",
       "      <th>19208</th>\n",
       "      <td>LIF0116-A</td>\n",
       "      <td>Open - LifeProof Nood Submersible iPhone Case 7 Green</td>\n",
       "      <td>waterproof and resistant to extreme conditions Case for iPhone 7</td>\n",
       "      <td>89.99</td>\n",
       "      <td>410.178</td>\n",
       "      <td>0</td>\n",
       "      <td>11865403</td>\n",
       "    </tr>\n",
       "    <tr>\n",
       "      <th>14471</th>\n",
       "      <td>WAC0216</td>\n",
       "      <td>Wacom MobileStudio Pro 13 \"i7 256GB</td>\n",
       "      <td>Professional graphics tablet with 13-inch Stylus Pro 256GB and Pen 2 for Mac and PC</td>\n",
       "      <td>2149.90</td>\n",
       "      <td>19.824.144</td>\n",
       "      <td>0</td>\n",
       "      <td>1405</td>\n",
       "    </tr>\n",
       "    <tr>\n",
       "      <th>13469</th>\n",
       "      <td>MOS0210</td>\n",
       "      <td>Moshi iGlaze Armor Case iPhone 7 Plus Gold</td>\n",
       "      <td>protective cover two colors with metallic accents for iPhone 7 Plus</td>\n",
       "      <td>45.00</td>\n",
       "      <td>279.897</td>\n",
       "      <td>0</td>\n",
       "      <td>11865403</td>\n",
       "    </tr>\n",
       "    <tr>\n",
       "      <th>13564</th>\n",
       "      <td>APP1707</td>\n",
       "      <td>38mm Apple Watch Series 2 Aluminum Case and Strap Gold Sport Gray Cement</td>\n",
       "      <td>Apple Watch 38 mm with GPS dual-core processor and retina display submersible 50mts</td>\n",
       "      <td>439.00</td>\n",
       "      <td>4.390.001</td>\n",
       "      <td>0</td>\n",
       "      <td>24885185</td>\n",
       "    </tr>\n",
       "    <tr>\n",
       "      <th>15005</th>\n",
       "      <td>WIT0017-A</td>\n",
       "      <td>Open - Withings Activite POP Black Clock</td>\n",
       "      <td>Smartwatch that records sleep and movement for iPhone and iPod Touch</td>\n",
       "      <td>149.90</td>\n",
       "      <td>717.738</td>\n",
       "      <td>0</td>\n",
       "      <td>1298</td>\n",
       "    </tr>\n",
       "    <tr>\n",
       "      <th>19141</th>\n",
       "      <td>WDT0412</td>\n",
       "      <td>WD 120GB SSD NAND 3D Green SATA</td>\n",
       "      <td>120GB SSD SATA 3 (6Gb / s) for Mac and PC</td>\n",
       "      <td>65.00</td>\n",
       "      <td>489.941</td>\n",
       "      <td>1</td>\n",
       "      <td>12655397</td>\n",
       "    </tr>\n",
       "    <tr>\n",
       "      <th>14863</th>\n",
       "      <td>LEE0016</td>\n",
       "      <td>Leef iBridge 3 PenDrive 32GB Black Lightning IFM</td>\n",
       "      <td>32GB flash drive with USB 3.0 connection and Lightning for iPhone iPad and iPod</td>\n",
       "      <td>69.99</td>\n",
       "      <td>702.804</td>\n",
       "      <td>0</td>\n",
       "      <td>42945397</td>\n",
       "    </tr>\n",
       "    <tr>\n",
       "      <th>1522</th>\n",
       "      <td>PAC1823</td>\n",
       "      <td>Synology DS1515 + l l 8GB RAM 50TB (5x10TB) Seagate IronWolf</td>\n",
       "      <td>Synology DS1815 + NAS with 8GB RAM and 50TB hard drive Seagate IronWolf for Mac and PC.</td>\n",
       "      <td>3885.92</td>\n",
       "      <td>28.029.626</td>\n",
       "      <td>0</td>\n",
       "      <td>12175397</td>\n",
       "    </tr>\n",
       "    <tr>\n",
       "      <th>11764</th>\n",
       "      <td>APP1465</td>\n",
       "      <td>Spanish Keyboard Keyboard Magic Apple Mac (OEM)</td>\n",
       "      <td>Spanish Keyboard Mac and Apple iPad Ultrathin Bluetooth (unboxed)</td>\n",
       "      <td>119.00</td>\n",
       "      <td>999.944</td>\n",
       "      <td>1</td>\n",
       "      <td>13855401</td>\n",
       "    </tr>\n",
       "    <tr>\n",
       "      <th>348</th>\n",
       "      <td>APP0424</td>\n",
       "      <td>Apple iPod Touch 64GB Pink</td>\n",
       "      <td>New 5 generation iPod touch 64GB rose.</td>\n",
       "      <td>339.00</td>\n",
       "      <td>3.219.931</td>\n",
       "      <td>0</td>\n",
       "      <td>11821715</td>\n",
       "    </tr>\n",
       "    <tr>\n",
       "      <th>2427</th>\n",
       "      <td>FCM0003-2</td>\n",
       "      <td>Mac memory FCM 8GB (2x4GB) SO-DIMM DDR3 1066MHz</td>\n",
       "      <td>RAM 8GB (2x4GB) Mac mini iMac MacBook and MacBook Pro (2009/10).</td>\n",
       "      <td>87.98</td>\n",
       "      <td>849.904</td>\n",
       "      <td>0</td>\n",
       "      <td>1364</td>\n",
       "    </tr>\n",
       "    <tr>\n",
       "      <th>19318</th>\n",
       "      <td>REP0402</td>\n",
       "      <td>iPad touch screen repair</td>\n",
       "      <td>Repair service including parts and labor for iPad</td>\n",
       "      <td>139.99</td>\n",
       "      <td>1.399.897</td>\n",
       "      <td>0</td>\n",
       "      <td>1,44E+11</td>\n",
       "    </tr>\n",
       "    <tr>\n",
       "      <th>14527</th>\n",
       "      <td>SAT0007</td>\n",
       "      <td>Satechi USB Hub Slim-C to USB-A / HDMI 4K / USB-C Plata</td>\n",
       "      <td>Aluminum Hub USB Type-C 4K HDMI and two USB Type-A ports for Mac and PC</td>\n",
       "      <td>79.99</td>\n",
       "      <td>499.899</td>\n",
       "      <td>0</td>\n",
       "      <td>12585395</td>\n",
       "    </tr>\n",
       "    <tr>\n",
       "      <th>2671</th>\n",
       "      <td>SNN0039</td>\n",
       "      <td>Sonnet MacCuff security support Mac mini</td>\n",
       "      <td>Metallic support security for Mac Mini.</td>\n",
       "      <td>72.54</td>\n",
       "      <td>599.906</td>\n",
       "      <td>0</td>\n",
       "      <td>8696</td>\n",
       "    </tr>\n",
       "    <tr>\n",
       "      <th>10957</th>\n",
       "      <td>OWC0148-A</td>\n",
       "      <td>(Open) Aura OWC 240GB SSD iMac from 2012 to 2013</td>\n",
       "      <td>Hard Disk 240GB SSD for iMac131 * and iMac132.</td>\n",
       "      <td>149.99</td>\n",
       "      <td>1.205.945</td>\n",
       "      <td>0</td>\n",
       "      <td>1298</td>\n",
       "    </tr>\n",
       "    <tr>\n",
       "      <th>5157</th>\n",
       "      <td>PAC1047</td>\n",
       "      <td>Apple iMac 27 \"Core i7 Retina 5K 4GHz | 32GB | 512GB Flash</td>\n",
       "      <td>IMac desktop computer 27 inch 5K Retina i7 4GHz 512GB Flash RAM 32GB (MK482Y / A).</td>\n",
       "      <td>3889.00</td>\n",
       "      <td>33.099.901</td>\n",
       "      <td>0</td>\n",
       "      <td>5,74E+15</td>\n",
       "    </tr>\n",
       "    <tr>\n",
       "      <th>15820</th>\n",
       "      <td>SPE0184-A</td>\n",
       "      <td>Open - Speck Case SmartShell MacBook Pro 13 \"Touch Black Bar</td>\n",
       "      <td>MacBook 13-inch housing in black Touch Bar</td>\n",
       "      <td>49.99</td>\n",
       "      <td>277.397</td>\n",
       "      <td>0</td>\n",
       "      <td>1298</td>\n",
       "    </tr>\n",
       "    <tr>\n",
       "      <th>13236</th>\n",
       "      <td>WDT0343</td>\n",
       "      <td>WD Red Pro 6TB 35 \"Sata 3 7200RPM</td>\n",
       "      <td>Hard disk WD Red Pro 6TB NAS designed for Mac and PC</td>\n",
       "      <td>319.99</td>\n",
       "      <td>2.319.933</td>\n",
       "      <td>1</td>\n",
       "      <td>12655397</td>\n",
       "    </tr>\n",
       "    <tr>\n",
       "      <th>13494</th>\n",
       "      <td>WAC0195</td>\n",
       "      <td>Wacom Bamboo Slate Gray A4</td>\n",
       "      <td>Bloc notes A4 smart pen includes precision app button to save your notes</td>\n",
       "      <td>149.90</td>\n",
       "      <td>1.379.896</td>\n",
       "      <td>0</td>\n",
       "      <td>1405</td>\n",
       "    </tr>\n",
       "    <tr>\n",
       "      <th>607</th>\n",
       "      <td>BOO0066</td>\n",
       "      <td>Booq Boa Skin XS iPad Case Purple / Gray</td>\n",
       "      <td>soft and durable nylon and neoprene iPad sleeve.</td>\n",
       "      <td>14.95</td>\n",
       "      <td>39.906</td>\n",
       "      <td>0</td>\n",
       "      <td>12635403</td>\n",
       "    </tr>\n",
       "    <tr>\n",
       "      <th>1398</th>\n",
       "      <td>APP0874</td>\n",
       "      <td>Apple iPad Air 2 Wi-Fi + Cellular 16GB Dorado</td>\n",
       "      <td>New iPad Air 2 Wi-Fi + Cellular 16GB (MH1C2TY / A).</td>\n",
       "      <td>549.00</td>\n",
       "      <td>5.289.999</td>\n",
       "      <td>0</td>\n",
       "      <td>12141714</td>\n",
       "    </tr>\n",
       "  </tbody>\n",
       "</table>\n",
       "</div>"
      ]
     },
     "execution_count": 45,
     "metadata": {},
     "output_type": "execute_result"
    }
   ],
   "execution_count": 45
  },
  {
   "cell_type": "markdown",
   "source": [
    "So we were correct, over 90% of the data in this column is corrupt. There's no point deleting all of these rows, then we would barely have a products table. Instead, as it's only this column that appears to be very untrustworthy, we will delete the column."
   ],
   "metadata": {
    "id": "0Hfgo84xu_VS"
   }
  },
  {
   "cell_type": "code",
   "source": [
    "products_cl = products_df.drop(columns=[\"promo_price\"])"
   ],
   "metadata": {
    "id": "OalyJ-8atij8",
    "executionInfo": {
     "status": "ok",
     "timestamp": 1757934748789,
     "user_tz": -120,
     "elapsed": 1,
     "user": {
      "displayName": "Kamran Zajkani",
      "userId": "00401105456302883825"
     }
    },
    "ExecuteTime": {
     "end_time": "2025-09-22T09:39:33.500988Z",
     "start_time": "2025-09-22T09:39:33.482394Z"
    }
   },
   "outputs": [],
   "execution_count": 46
  },
  {
   "cell_type": "code",
   "source": [
    "products_cl.info()"
   ],
   "metadata": {
    "id": "mJQtVYS-Knyf",
    "colab": {
     "base_uri": "https://localhost:8080/"
    },
    "outputId": "b4839352-ee2b-4253-ff1d-393b58fabe06",
    "executionInfo": {
     "status": "ok",
     "timestamp": 1757934748829,
     "user_tz": -120,
     "elapsed": 3,
     "user": {
      "displayName": "Kamran Zajkani",
      "userId": "00401105456302883825"
     }
    },
    "ExecuteTime": {
     "end_time": "2025-09-22T09:39:33.549633Z",
     "start_time": "2025-09-22T09:39:33.530557Z"
    }
   },
   "outputs": [
    {
     "name": "stdout",
     "output_type": "stream",
     "text": [
      "<class 'pandas.core.frame.DataFrame'>\n",
      "Index: 9992 entries, 0 to 19325\n",
      "Data columns (total 6 columns):\n",
      " #   Column    Non-Null Count  Dtype  \n",
      "---  ------    --------------  -----  \n",
      " 0   sku       9992 non-null   object \n",
      " 1   name      9992 non-null   object \n",
      " 2   desc      9992 non-null   object \n",
      " 3   price     9992 non-null   float64\n",
      " 4   in_stock  9992 non-null   int64  \n",
      " 5   type      9946 non-null   object \n",
      "dtypes: float64(1), int64(1), object(4)\n",
      "memory usage: 546.4+ KB\n"
     ]
    }
   ],
   "execution_count": 47
  },
  {
   "cell_type": "markdown",
   "source": [
    "Obviously, there's now no need to convert `promo_price` to a numerical datatype\n",
    "\n",
    "to download/save your new DataFrames. Also, give them an obvious name, so that you know they are the cleaned version and not the original DataFrame."
   ],
   "metadata": {
    "id": "vyyISxnQ1YVG"
   }
  },
  {
   "cell_type": "code",
   "source": [
    "#from google.colab import files:\n",
    "\n",
    "#orders_df.to_csv(\"orders_cl.csv\", index=False)\n",
    "#files.download(\"orders_cl.csv\")\n",
    "\n",
    "#orderlines_df.to_csv(\"orderlines_cl.csv\", index=False)\n",
    "#files.download(\"orderlines_cl.csv\")\n",
    "\n",
    "#products_cl.to_csv(\"products_cl.csv\", index=False)\n",
    "#files.download(\"products_cl.csv\")\n",
    "\n",
    "#------------------\n",
    "#to save locally:\n",
    "orders_df.to_csv(\"../data/cleaned-data/orders_cl.csv\")\n",
    "orderlines_df.to_csv(\"../data/cleaned-data/orderlines_cl.csv\")\n",
    "products_cl.to_csv(\"../data/cleaned-data/products_cl.csv\")\n"
   ],
   "metadata": {
    "id": "6M4Jxfz-8G2b",
    "colab": {
     "base_uri": "https://localhost:8080/",
     "height": 17
    },
    "executionInfo": {
     "status": "ok",
     "timestamp": 1757934751249,
     "user_tz": -120,
     "elapsed": 2421,
     "user": {
      "displayName": "Kamran Zajkani",
      "userId": "00401105456302883825"
     }
    },
    "outputId": "b43a6b67-4ad4-4e0f-8252-acbf6c8fa1cb",
    "ExecuteTime": {
     "end_time": "2025-09-22T09:39:34.568276Z",
     "start_time": "2025-09-22T09:39:33.573466Z"
    }
   },
   "outputs": [],
   "execution_count": 48
  }
 ]
}
